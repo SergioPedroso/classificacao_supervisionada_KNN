{
  "nbformat": 4,
  "nbformat_minor": 0,
  "metadata": {
    "colab": {
      "name": "Exercício KNN.ipynb",
      "provenance": [],
      "collapsed_sections": [],
      "toc_visible": true,
      "mount_file_id": "1Kx66ECDk-C-mHpgeVB2bwCxyEJQ2Imat",
      "authorship_tag": "ABX9TyNJKyY3bekc0HK60VX4j8YJ",
      "include_colab_link": true
    },
    "kernelspec": {
      "name": "python3",
      "display_name": "Python 3"
    },
    "language_info": {
      "name": "python"
    }
  },
  "cells": [
    {
      "cell_type": "markdown",
      "metadata": {
        "id": "view-in-github",
        "colab_type": "text"
      },
      "source": [
        "<a href=\"https://colab.research.google.com/github/SergioPedroso/classificacao_supervisionada_KNN/blob/main/Exerc%C3%ADcio_KNN.ipynb\" target=\"_parent\"><img src=\"https://colab.research.google.com/assets/colab-badge.svg\" alt=\"Open In Colab\"/></a>"
      ]
    },
    {
      "cell_type": "markdown",
      "metadata": {
        "id": "TiFI6PbnZkos"
      },
      "source": [
        "## Importando o arquivo"
      ]
    },
    {
      "cell_type": "code",
      "metadata": {
        "colab": {
          "resources": {
            "http://localhost:8080/nbextensions/google.colab/files.js": {
              "data": "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",
              "ok": true,
              "headers": [
                [
                  "content-type",
                  "application/javascript"
                ]
              ],
              "status": 200,
              "status_text": "OK"
            }
          },
          "base_uri": "https://localhost:8080/",
          "height": 74
        },
        "id": "7NYD-TGlUt-B",
        "outputId": "e6bb87df-9137-4f6d-e486-63d02dbb0425"
      },
      "source": [
        "from google.colab import files\n",
        "upload = files.upload()"
      ],
      "execution_count": 1,
      "outputs": [
        {
          "output_type": "display_data",
          "data": {
            "text/html": [
              "\n",
              "     <input type=\"file\" id=\"files-52494bc7-ea6a-4e97-9e89-b425cf26ca6c\" name=\"files[]\" multiple disabled\n",
              "        style=\"border:none\" />\n",
              "     <output id=\"result-52494bc7-ea6a-4e97-9e89-b425cf26ca6c\">\n",
              "      Upload widget is only available when the cell has been executed in the\n",
              "      current browser session. Please rerun this cell to enable.\n",
              "      </output>\n",
              "      <script src=\"/nbextensions/google.colab/files.js\"></script> "
            ],
            "text/plain": [
              "<IPython.core.display.HTML object>"
            ]
          },
          "metadata": {}
        },
        {
          "output_type": "stream",
          "name": "stdout",
          "text": [
            "Saving [Copy] - Bank_Personal_Loan_Modelling.xlsx to [Copy] - Bank_Personal_Loan_Modelling.xlsx\n"
          ]
        }
      ]
    },
    {
      "cell_type": "markdown",
      "metadata": {
        "id": "5bCiKmWPZtpe"
      },
      "source": [
        "## Preparando o dataframe"
      ]
    },
    {
      "cell_type": "code",
      "metadata": {
        "id": "oXii2HPYV28A"
      },
      "source": [
        "import pandas as pd\n",
        "import numpy as np"
      ],
      "execution_count": 113,
      "outputs": []
    },
    {
      "cell_type": "code",
      "metadata": {
        "colab": {
          "base_uri": "https://localhost:8080/",
          "height": 206
        },
        "id": "6R-NXof-V62e",
        "outputId": "a1a60e06-9b6d-48b6-8134-6b91bf2cefc0"
      },
      "source": [
        "df = pd.read_excel('[Copy] - Bank_Personal_Loan_Modelling.xlsx', sheet_name='Data')\n",
        "df = df.drop(axis=1, columns=['ID','ZIP Code'])\n",
        "df.head()"
      ],
      "execution_count": 114,
      "outputs": [
        {
          "output_type": "execute_result",
          "data": {
            "text/html": [
              "<div>\n",
              "<style scoped>\n",
              "    .dataframe tbody tr th:only-of-type {\n",
              "        vertical-align: middle;\n",
              "    }\n",
              "\n",
              "    .dataframe tbody tr th {\n",
              "        vertical-align: top;\n",
              "    }\n",
              "\n",
              "    .dataframe thead th {\n",
              "        text-align: right;\n",
              "    }\n",
              "</style>\n",
              "<table border=\"1\" class=\"dataframe\">\n",
              "  <thead>\n",
              "    <tr style=\"text-align: right;\">\n",
              "      <th></th>\n",
              "      <th>Age</th>\n",
              "      <th>Experience</th>\n",
              "      <th>Income</th>\n",
              "      <th>Family</th>\n",
              "      <th>CCAvg</th>\n",
              "      <th>Education</th>\n",
              "      <th>Mortgage</th>\n",
              "      <th>Personal Loan</th>\n",
              "      <th>Securities Account</th>\n",
              "      <th>CD Account</th>\n",
              "      <th>Online</th>\n",
              "      <th>CreditCard</th>\n",
              "    </tr>\n",
              "  </thead>\n",
              "  <tbody>\n",
              "    <tr>\n",
              "      <th>0</th>\n",
              "      <td>25</td>\n",
              "      <td>1</td>\n",
              "      <td>49</td>\n",
              "      <td>4</td>\n",
              "      <td>1.6</td>\n",
              "      <td>1</td>\n",
              "      <td>0</td>\n",
              "      <td>0</td>\n",
              "      <td>1</td>\n",
              "      <td>0</td>\n",
              "      <td>0</td>\n",
              "      <td>0</td>\n",
              "    </tr>\n",
              "    <tr>\n",
              "      <th>1</th>\n",
              "      <td>45</td>\n",
              "      <td>19</td>\n",
              "      <td>34</td>\n",
              "      <td>3</td>\n",
              "      <td>1.5</td>\n",
              "      <td>1</td>\n",
              "      <td>0</td>\n",
              "      <td>0</td>\n",
              "      <td>1</td>\n",
              "      <td>0</td>\n",
              "      <td>0</td>\n",
              "      <td>0</td>\n",
              "    </tr>\n",
              "    <tr>\n",
              "      <th>2</th>\n",
              "      <td>39</td>\n",
              "      <td>15</td>\n",
              "      <td>11</td>\n",
              "      <td>1</td>\n",
              "      <td>1.0</td>\n",
              "      <td>1</td>\n",
              "      <td>0</td>\n",
              "      <td>0</td>\n",
              "      <td>0</td>\n",
              "      <td>0</td>\n",
              "      <td>0</td>\n",
              "      <td>0</td>\n",
              "    </tr>\n",
              "    <tr>\n",
              "      <th>3</th>\n",
              "      <td>35</td>\n",
              "      <td>9</td>\n",
              "      <td>100</td>\n",
              "      <td>1</td>\n",
              "      <td>2.7</td>\n",
              "      <td>2</td>\n",
              "      <td>0</td>\n",
              "      <td>0</td>\n",
              "      <td>0</td>\n",
              "      <td>0</td>\n",
              "      <td>0</td>\n",
              "      <td>0</td>\n",
              "    </tr>\n",
              "    <tr>\n",
              "      <th>4</th>\n",
              "      <td>35</td>\n",
              "      <td>8</td>\n",
              "      <td>45</td>\n",
              "      <td>4</td>\n",
              "      <td>1.0</td>\n",
              "      <td>2</td>\n",
              "      <td>0</td>\n",
              "      <td>0</td>\n",
              "      <td>0</td>\n",
              "      <td>0</td>\n",
              "      <td>0</td>\n",
              "      <td>1</td>\n",
              "    </tr>\n",
              "  </tbody>\n",
              "</table>\n",
              "</div>"
            ],
            "text/plain": [
              "   Age  Experience  Income  ...  CD Account  Online  CreditCard\n",
              "0   25           1      49  ...           0       0           0\n",
              "1   45          19      34  ...           0       0           0\n",
              "2   39          15      11  ...           0       0           0\n",
              "3   35           9     100  ...           0       0           0\n",
              "4   35           8      45  ...           0       0           1\n",
              "\n",
              "[5 rows x 12 columns]"
            ]
          },
          "metadata": {},
          "execution_count": 114
        }
      ]
    },
    {
      "cell_type": "code",
      "metadata": {
        "colab": {
          "base_uri": "https://localhost:8080/",
          "height": 337
        },
        "id": "MpQaf2Afas9D",
        "outputId": "631a3cea-c7a4-4fc7-e888-9f8bd461a557"
      },
      "source": [
        "df.describe()"
      ],
      "execution_count": 115,
      "outputs": [
        {
          "output_type": "execute_result",
          "data": {
            "text/html": [
              "<div>\n",
              "<style scoped>\n",
              "    .dataframe tbody tr th:only-of-type {\n",
              "        vertical-align: middle;\n",
              "    }\n",
              "\n",
              "    .dataframe tbody tr th {\n",
              "        vertical-align: top;\n",
              "    }\n",
              "\n",
              "    .dataframe thead th {\n",
              "        text-align: right;\n",
              "    }\n",
              "</style>\n",
              "<table border=\"1\" class=\"dataframe\">\n",
              "  <thead>\n",
              "    <tr style=\"text-align: right;\">\n",
              "      <th></th>\n",
              "      <th>Age</th>\n",
              "      <th>Experience</th>\n",
              "      <th>Income</th>\n",
              "      <th>Family</th>\n",
              "      <th>CCAvg</th>\n",
              "      <th>Education</th>\n",
              "      <th>Mortgage</th>\n",
              "      <th>Personal Loan</th>\n",
              "      <th>Securities Account</th>\n",
              "      <th>CD Account</th>\n",
              "      <th>Online</th>\n",
              "      <th>CreditCard</th>\n",
              "    </tr>\n",
              "  </thead>\n",
              "  <tbody>\n",
              "    <tr>\n",
              "      <th>count</th>\n",
              "      <td>5000.000000</td>\n",
              "      <td>5000.000000</td>\n",
              "      <td>5000.000000</td>\n",
              "      <td>5000.000000</td>\n",
              "      <td>5000.000000</td>\n",
              "      <td>5000.000000</td>\n",
              "      <td>5000.000000</td>\n",
              "      <td>5000.000000</td>\n",
              "      <td>5000.000000</td>\n",
              "      <td>5000.00000</td>\n",
              "      <td>5000.000000</td>\n",
              "      <td>5000.000000</td>\n",
              "    </tr>\n",
              "    <tr>\n",
              "      <th>mean</th>\n",
              "      <td>45.338400</td>\n",
              "      <td>20.104600</td>\n",
              "      <td>73.774200</td>\n",
              "      <td>2.396400</td>\n",
              "      <td>1.937913</td>\n",
              "      <td>1.881000</td>\n",
              "      <td>56.498800</td>\n",
              "      <td>0.096000</td>\n",
              "      <td>0.104400</td>\n",
              "      <td>0.06040</td>\n",
              "      <td>0.596800</td>\n",
              "      <td>0.294000</td>\n",
              "    </tr>\n",
              "    <tr>\n",
              "      <th>std</th>\n",
              "      <td>11.463166</td>\n",
              "      <td>11.467954</td>\n",
              "      <td>46.033729</td>\n",
              "      <td>1.147663</td>\n",
              "      <td>1.747666</td>\n",
              "      <td>0.839869</td>\n",
              "      <td>101.713802</td>\n",
              "      <td>0.294621</td>\n",
              "      <td>0.305809</td>\n",
              "      <td>0.23825</td>\n",
              "      <td>0.490589</td>\n",
              "      <td>0.455637</td>\n",
              "    </tr>\n",
              "    <tr>\n",
              "      <th>min</th>\n",
              "      <td>23.000000</td>\n",
              "      <td>-3.000000</td>\n",
              "      <td>8.000000</td>\n",
              "      <td>1.000000</td>\n",
              "      <td>0.000000</td>\n",
              "      <td>1.000000</td>\n",
              "      <td>0.000000</td>\n",
              "      <td>0.000000</td>\n",
              "      <td>0.000000</td>\n",
              "      <td>0.00000</td>\n",
              "      <td>0.000000</td>\n",
              "      <td>0.000000</td>\n",
              "    </tr>\n",
              "    <tr>\n",
              "      <th>25%</th>\n",
              "      <td>35.000000</td>\n",
              "      <td>10.000000</td>\n",
              "      <td>39.000000</td>\n",
              "      <td>1.000000</td>\n",
              "      <td>0.700000</td>\n",
              "      <td>1.000000</td>\n",
              "      <td>0.000000</td>\n",
              "      <td>0.000000</td>\n",
              "      <td>0.000000</td>\n",
              "      <td>0.00000</td>\n",
              "      <td>0.000000</td>\n",
              "      <td>0.000000</td>\n",
              "    </tr>\n",
              "    <tr>\n",
              "      <th>50%</th>\n",
              "      <td>45.000000</td>\n",
              "      <td>20.000000</td>\n",
              "      <td>64.000000</td>\n",
              "      <td>2.000000</td>\n",
              "      <td>1.500000</td>\n",
              "      <td>2.000000</td>\n",
              "      <td>0.000000</td>\n",
              "      <td>0.000000</td>\n",
              "      <td>0.000000</td>\n",
              "      <td>0.00000</td>\n",
              "      <td>1.000000</td>\n",
              "      <td>0.000000</td>\n",
              "    </tr>\n",
              "    <tr>\n",
              "      <th>75%</th>\n",
              "      <td>55.000000</td>\n",
              "      <td>30.000000</td>\n",
              "      <td>98.000000</td>\n",
              "      <td>3.000000</td>\n",
              "      <td>2.500000</td>\n",
              "      <td>3.000000</td>\n",
              "      <td>101.000000</td>\n",
              "      <td>0.000000</td>\n",
              "      <td>0.000000</td>\n",
              "      <td>0.00000</td>\n",
              "      <td>1.000000</td>\n",
              "      <td>1.000000</td>\n",
              "    </tr>\n",
              "    <tr>\n",
              "      <th>max</th>\n",
              "      <td>67.000000</td>\n",
              "      <td>43.000000</td>\n",
              "      <td>224.000000</td>\n",
              "      <td>4.000000</td>\n",
              "      <td>10.000000</td>\n",
              "      <td>3.000000</td>\n",
              "      <td>635.000000</td>\n",
              "      <td>1.000000</td>\n",
              "      <td>1.000000</td>\n",
              "      <td>1.00000</td>\n",
              "      <td>1.000000</td>\n",
              "      <td>1.000000</td>\n",
              "    </tr>\n",
              "  </tbody>\n",
              "</table>\n",
              "</div>"
            ],
            "text/plain": [
              "               Age   Experience  ...       Online   CreditCard\n",
              "count  5000.000000  5000.000000  ...  5000.000000  5000.000000\n",
              "mean     45.338400    20.104600  ...     0.596800     0.294000\n",
              "std      11.463166    11.467954  ...     0.490589     0.455637\n",
              "min      23.000000    -3.000000  ...     0.000000     0.000000\n",
              "25%      35.000000    10.000000  ...     0.000000     0.000000\n",
              "50%      45.000000    20.000000  ...     1.000000     0.000000\n",
              "75%      55.000000    30.000000  ...     1.000000     1.000000\n",
              "max      67.000000    43.000000  ...     1.000000     1.000000\n",
              "\n",
              "[8 rows x 12 columns]"
            ]
          },
          "metadata": {},
          "execution_count": 115
        }
      ]
    },
    {
      "cell_type": "code",
      "metadata": {
        "colab": {
          "base_uri": "https://localhost:8080/",
          "height": 337
        },
        "id": "I168capna7Rz",
        "outputId": "7b5e71d4-d00e-42f4-cd38-139f61445047"
      },
      "source": [
        "df = df.loc[df['Experience']>=0]\n",
        "df.describe()"
      ],
      "execution_count": 116,
      "outputs": [
        {
          "output_type": "execute_result",
          "data": {
            "text/html": [
              "<div>\n",
              "<style scoped>\n",
              "    .dataframe tbody tr th:only-of-type {\n",
              "        vertical-align: middle;\n",
              "    }\n",
              "\n",
              "    .dataframe tbody tr th {\n",
              "        vertical-align: top;\n",
              "    }\n",
              "\n",
              "    .dataframe thead th {\n",
              "        text-align: right;\n",
              "    }\n",
              "</style>\n",
              "<table border=\"1\" class=\"dataframe\">\n",
              "  <thead>\n",
              "    <tr style=\"text-align: right;\">\n",
              "      <th></th>\n",
              "      <th>Age</th>\n",
              "      <th>Experience</th>\n",
              "      <th>Income</th>\n",
              "      <th>Family</th>\n",
              "      <th>CCAvg</th>\n",
              "      <th>Education</th>\n",
              "      <th>Mortgage</th>\n",
              "      <th>Personal Loan</th>\n",
              "      <th>Securities Account</th>\n",
              "      <th>CD Account</th>\n",
              "      <th>Online</th>\n",
              "      <th>CreditCard</th>\n",
              "    </tr>\n",
              "  </thead>\n",
              "  <tbody>\n",
              "    <tr>\n",
              "      <th>count</th>\n",
              "      <td>4948.000000</td>\n",
              "      <td>4948.000000</td>\n",
              "      <td>4948.000000</td>\n",
              "      <td>4948.000000</td>\n",
              "      <td>4948.0000</td>\n",
              "      <td>4948.000000</td>\n",
              "      <td>4948.000000</td>\n",
              "      <td>4948.000000</td>\n",
              "      <td>4948.000000</td>\n",
              "      <td>4948.000000</td>\n",
              "      <td>4948.000000</td>\n",
              "      <td>4948.000000</td>\n",
              "    </tr>\n",
              "    <tr>\n",
              "      <th>mean</th>\n",
              "      <td>45.557195</td>\n",
              "      <td>20.331043</td>\n",
              "      <td>73.814470</td>\n",
              "      <td>2.391471</td>\n",
              "      <td>1.9359</td>\n",
              "      <td>1.878941</td>\n",
              "      <td>56.634398</td>\n",
              "      <td>0.097009</td>\n",
              "      <td>0.104285</td>\n",
              "      <td>0.061035</td>\n",
              "      <td>0.597009</td>\n",
              "      <td>0.294058</td>\n",
              "    </tr>\n",
              "    <tr>\n",
              "      <th>std</th>\n",
              "      <td>11.320735</td>\n",
              "      <td>11.311973</td>\n",
              "      <td>46.112596</td>\n",
              "      <td>1.148444</td>\n",
              "      <td>1.7477</td>\n",
              "      <td>0.839745</td>\n",
              "      <td>101.828885</td>\n",
              "      <td>0.296000</td>\n",
              "      <td>0.305660</td>\n",
              "      <td>0.239418</td>\n",
              "      <td>0.490549</td>\n",
              "      <td>0.455664</td>\n",
              "    </tr>\n",
              "    <tr>\n",
              "      <th>min</th>\n",
              "      <td>24.000000</td>\n",
              "      <td>0.000000</td>\n",
              "      <td>8.000000</td>\n",
              "      <td>1.000000</td>\n",
              "      <td>0.0000</td>\n",
              "      <td>1.000000</td>\n",
              "      <td>0.000000</td>\n",
              "      <td>0.000000</td>\n",
              "      <td>0.000000</td>\n",
              "      <td>0.000000</td>\n",
              "      <td>0.000000</td>\n",
              "      <td>0.000000</td>\n",
              "    </tr>\n",
              "    <tr>\n",
              "      <th>25%</th>\n",
              "      <td>36.000000</td>\n",
              "      <td>10.750000</td>\n",
              "      <td>39.000000</td>\n",
              "      <td>1.000000</td>\n",
              "      <td>0.7000</td>\n",
              "      <td>1.000000</td>\n",
              "      <td>0.000000</td>\n",
              "      <td>0.000000</td>\n",
              "      <td>0.000000</td>\n",
              "      <td>0.000000</td>\n",
              "      <td>0.000000</td>\n",
              "      <td>0.000000</td>\n",
              "    </tr>\n",
              "    <tr>\n",
              "      <th>50%</th>\n",
              "      <td>46.000000</td>\n",
              "      <td>20.000000</td>\n",
              "      <td>64.000000</td>\n",
              "      <td>2.000000</td>\n",
              "      <td>1.5000</td>\n",
              "      <td>2.000000</td>\n",
              "      <td>0.000000</td>\n",
              "      <td>0.000000</td>\n",
              "      <td>0.000000</td>\n",
              "      <td>0.000000</td>\n",
              "      <td>1.000000</td>\n",
              "      <td>0.000000</td>\n",
              "    </tr>\n",
              "    <tr>\n",
              "      <th>75%</th>\n",
              "      <td>55.000000</td>\n",
              "      <td>30.000000</td>\n",
              "      <td>98.000000</td>\n",
              "      <td>3.000000</td>\n",
              "      <td>2.6000</td>\n",
              "      <td>3.000000</td>\n",
              "      <td>101.000000</td>\n",
              "      <td>0.000000</td>\n",
              "      <td>0.000000</td>\n",
              "      <td>0.000000</td>\n",
              "      <td>1.000000</td>\n",
              "      <td>1.000000</td>\n",
              "    </tr>\n",
              "    <tr>\n",
              "      <th>max</th>\n",
              "      <td>67.000000</td>\n",
              "      <td>43.000000</td>\n",
              "      <td>224.000000</td>\n",
              "      <td>4.000000</td>\n",
              "      <td>10.0000</td>\n",
              "      <td>3.000000</td>\n",
              "      <td>635.000000</td>\n",
              "      <td>1.000000</td>\n",
              "      <td>1.000000</td>\n",
              "      <td>1.000000</td>\n",
              "      <td>1.000000</td>\n",
              "      <td>1.000000</td>\n",
              "    </tr>\n",
              "  </tbody>\n",
              "</table>\n",
              "</div>"
            ],
            "text/plain": [
              "               Age   Experience  ...       Online   CreditCard\n",
              "count  4948.000000  4948.000000  ...  4948.000000  4948.000000\n",
              "mean     45.557195    20.331043  ...     0.597009     0.294058\n",
              "std      11.320735    11.311973  ...     0.490549     0.455664\n",
              "min      24.000000     0.000000  ...     0.000000     0.000000\n",
              "25%      36.000000    10.750000  ...     0.000000     0.000000\n",
              "50%      46.000000    20.000000  ...     1.000000     0.000000\n",
              "75%      55.000000    30.000000  ...     1.000000     1.000000\n",
              "max      67.000000    43.000000  ...     1.000000     1.000000\n",
              "\n",
              "[8 rows x 12 columns]"
            ]
          },
          "metadata": {},
          "execution_count": 116
        }
      ]
    },
    {
      "cell_type": "code",
      "metadata": {
        "colab": {
          "base_uri": "https://localhost:8080/"
        },
        "id": "XCWokXV3dDjU",
        "outputId": "c4d37404-c75c-48e6-8050-9f098e36777f"
      },
      "source": [
        "df.isnull().sum()"
      ],
      "execution_count": 117,
      "outputs": [
        {
          "output_type": "execute_result",
          "data": {
            "text/plain": [
              "Age                   0\n",
              "Experience            0\n",
              "Income                0\n",
              "Family                0\n",
              "CCAvg                 0\n",
              "Education             0\n",
              "Mortgage              0\n",
              "Personal Loan         0\n",
              "Securities Account    0\n",
              "CD Account            0\n",
              "Online                0\n",
              "CreditCard            0\n",
              "dtype: int64"
            ]
          },
          "metadata": {},
          "execution_count": 117
        }
      ]
    },
    {
      "cell_type": "code",
      "metadata": {
        "colab": {
          "base_uri": "https://localhost:8080/"
        },
        "id": "qqGuokkVdNUM",
        "outputId": "8015476f-e86a-4613-dfeb-da93f37d4254"
      },
      "source": [
        "df[\"Personal Loan\"].value_counts()\n"
      ],
      "execution_count": 118,
      "outputs": [
        {
          "output_type": "execute_result",
          "data": {
            "text/plain": [
              "0    4468\n",
              "1     480\n",
              "Name: Personal Loan, dtype: int64"
            ]
          },
          "metadata": {},
          "execution_count": 118
        }
      ]
    },
    {
      "cell_type": "code",
      "metadata": {
        "id": "yBWHOtNddTm6"
      },
      "source": [
        "df_class_1 = df[df[\"Personal Loan\"] == 1]\n",
        "df_class_0 = df[df[\"Personal Loan\"] == 0].sample(n=1500)\n",
        "df = df_class_1.append(df_class_0)"
      ],
      "execution_count": 119,
      "outputs": []
    },
    {
      "cell_type": "code",
      "metadata": {
        "colab": {
          "base_uri": "https://localhost:8080/",
          "height": 542
        },
        "id": "n00CNBieOL1_",
        "outputId": "41638700-d85e-4f1c-84f0-555fe3079459"
      },
      "source": [
        "#Exemplo de visualização dos clusters\n",
        "import plotly.express as px\n",
        "\n",
        "fig = px.scatter_3d(df, x = 'Income', y = 'CCAvg', z = 'Mortgage',color ='Personal Loan')\n",
        "fig.show()"
      ],
      "execution_count": 120,
      "outputs": [
        {
          "output_type": "display_data",
          "data": {
            "text/html": [
              "<html>\n",
              "<head><meta charset=\"utf-8\" /></head>\n",
              "<body>\n",
              "    <div>\n",
              "            <script src=\"https://cdnjs.cloudflare.com/ajax/libs/mathjax/2.7.5/MathJax.js?config=TeX-AMS-MML_SVG\"></script><script type=\"text/javascript\">if (window.MathJax) {MathJax.Hub.Config({SVG: {font: \"STIX-Web\"}});}</script>\n",
              "                <script type=\"text/javascript\">window.PlotlyConfig = {MathJaxConfig: 'local'};</script>\n",
              "        <script src=\"https://cdn.plot.ly/plotly-latest.min.js\"></script>    \n",
              "            <div id=\"f67b2024-44f5-4810-84d9-8e998dad6152\" class=\"plotly-graph-div\" style=\"height:525px; width:100%;\"></div>\n",
              "            <script type=\"text/javascript\">\n",
              "                \n",
              "                    window.PLOTLYENV=window.PLOTLYENV || {};\n",
              "                    \n",
              "                if (document.getElementById(\"f67b2024-44f5-4810-84d9-8e998dad6152\")) {\n",
              "                    Plotly.newPlot(\n",
              "                        'f67b2024-44f5-4810-84d9-8e998dad6152',\n",
              "                        [{\"hoverlabel\": {\"namelength\": 0}, \"hovertemplate\": \"Income=%{x}<br>CCAvg=%{y}<br>Mortgage=%{z}<br>Personal Loan=%{marker.color}\", \"legendgroup\": \"\", \"marker\": {\"color\": [1, 1, 1, 1, 1, 1, 1, 1, 1, 1, 1, 1, 1, 1, 1, 1, 1, 1, 1, 1, 1, 1, 1, 1, 1, 1, 1, 1, 1, 1, 1, 1, 1, 1, 1, 1, 1, 1, 1, 1, 1, 1, 1, 1, 1, 1, 1, 1, 1, 1, 1, 1, 1, 1, 1, 1, 1, 1, 1, 1, 1, 1, 1, 1, 1, 1, 1, 1, 1, 1, 1, 1, 1, 1, 1, 1, 1, 1, 1, 1, 1, 1, 1, 1, 1, 1, 1, 1, 1, 1, 1, 1, 1, 1, 1, 1, 1, 1, 1, 1, 1, 1, 1, 1, 1, 1, 1, 1, 1, 1, 1, 1, 1, 1, 1, 1, 1, 1, 1, 1, 1, 1, 1, 1, 1, 1, 1, 1, 1, 1, 1, 1, 1, 1, 1, 1, 1, 1, 1, 1, 1, 1, 1, 1, 1, 1, 1, 1, 1, 1, 1, 1, 1, 1, 1, 1, 1, 1, 1, 1, 1, 1, 1, 1, 1, 1, 1, 1, 1, 1, 1, 1, 1, 1, 1, 1, 1, 1, 1, 1, 1, 1, 1, 1, 1, 1, 1, 1, 1, 1, 1, 1, 1, 1, 1, 1, 1, 1, 1, 1, 1, 1, 1, 1, 1, 1, 1, 1, 1, 1, 1, 1, 1, 1, 1, 1, 1, 1, 1, 1, 1, 1, 1, 1, 1, 1, 1, 1, 1, 1, 1, 1, 1, 1, 1, 1, 1, 1, 1, 1, 1, 1, 1, 1, 1, 1, 1, 1, 1, 1, 1, 1, 1, 1, 1, 1, 1, 1, 1, 1, 1, 1, 1, 1, 1, 1, 1, 1, 1, 1, 1, 1, 1, 1, 1, 1, 1, 1, 1, 1, 1, 1, 1, 1, 1, 1, 1, 1, 1, 1, 1, 1, 1, 1, 1, 1, 1, 1, 1, 1, 1, 1, 1, 1, 1, 1, 1, 1, 1, 1, 1, 1, 1, 1, 1, 1, 1, 1, 1, 1, 1, 1, 1, 1, 1, 1, 1, 1, 1, 1, 1, 1, 1, 1, 1, 1, 1, 1, 1, 1, 1, 1, 1, 1, 1, 1, 1, 1, 1, 1, 1, 1, 1, 1, 1, 1, 1, 1, 1, 1, 1, 1, 1, 1, 1, 1, 1, 1, 1, 1, 1, 1, 1, 1, 1, 1, 1, 1, 1, 1, 1, 1, 1, 1, 1, 1, 1, 1, 1, 1, 1, 1, 1, 1, 1, 1, 1, 1, 1, 1, 1, 1, 1, 1, 1, 1, 1, 1, 1, 1, 1, 1, 1, 1, 1, 1, 1, 1, 1, 1, 1, 1, 1, 1, 1, 1, 1, 1, 1, 1, 1, 1, 1, 1, 1, 1, 1, 1, 1, 1, 1, 1, 1, 1, 1, 1, 1, 1, 1, 1, 1, 1, 1, 1, 1, 1, 1, 1, 1, 1, 1, 1, 1, 1, 1, 1, 1, 1, 1, 1, 1, 1, 1, 1, 1, 1, 1, 1, 1, 1, 0, 0, 0, 0, 0, 0, 0, 0, 0, 0, 0, 0, 0, 0, 0, 0, 0, 0, 0, 0, 0, 0, 0, 0, 0, 0, 0, 0, 0, 0, 0, 0, 0, 0, 0, 0, 0, 0, 0, 0, 0, 0, 0, 0, 0, 0, 0, 0, 0, 0, 0, 0, 0, 0, 0, 0, 0, 0, 0, 0, 0, 0, 0, 0, 0, 0, 0, 0, 0, 0, 0, 0, 0, 0, 0, 0, 0, 0, 0, 0, 0, 0, 0, 0, 0, 0, 0, 0, 0, 0, 0, 0, 0, 0, 0, 0, 0, 0, 0, 0, 0, 0, 0, 0, 0, 0, 0, 0, 0, 0, 0, 0, 0, 0, 0, 0, 0, 0, 0, 0, 0, 0, 0, 0, 0, 0, 0, 0, 0, 0, 0, 0, 0, 0, 0, 0, 0, 0, 0, 0, 0, 0, 0, 0, 0, 0, 0, 0, 0, 0, 0, 0, 0, 0, 0, 0, 0, 0, 0, 0, 0, 0, 0, 0, 0, 0, 0, 0, 0, 0, 0, 0, 0, 0, 0, 0, 0, 0, 0, 0, 0, 0, 0, 0, 0, 0, 0, 0, 0, 0, 0, 0, 0, 0, 0, 0, 0, 0, 0, 0, 0, 0, 0, 0, 0, 0, 0, 0, 0, 0, 0, 0, 0, 0, 0, 0, 0, 0, 0, 0, 0, 0, 0, 0, 0, 0, 0, 0, 0, 0, 0, 0, 0, 0, 0, 0, 0, 0, 0, 0, 0, 0, 0, 0, 0, 0, 0, 0, 0, 0, 0, 0, 0, 0, 0, 0, 0, 0, 0, 0, 0, 0, 0, 0, 0, 0, 0, 0, 0, 0, 0, 0, 0, 0, 0, 0, 0, 0, 0, 0, 0, 0, 0, 0, 0, 0, 0, 0, 0, 0, 0, 0, 0, 0, 0, 0, 0, 0, 0, 0, 0, 0, 0, 0, 0, 0, 0, 0, 0, 0, 0, 0, 0, 0, 0, 0, 0, 0, 0, 0, 0, 0, 0, 0, 0, 0, 0, 0, 0, 0, 0, 0, 0, 0, 0, 0, 0, 0, 0, 0, 0, 0, 0, 0, 0, 0, 0, 0, 0, 0, 0, 0, 0, 0, 0, 0, 0, 0, 0, 0, 0, 0, 0, 0, 0, 0, 0, 0, 0, 0, 0, 0, 0, 0, 0, 0, 0, 0, 0, 0, 0, 0, 0, 0, 0, 0, 0, 0, 0, 0, 0, 0, 0, 0, 0, 0, 0, 0, 0, 0, 0, 0, 0, 0, 0, 0, 0, 0, 0, 0, 0, 0, 0, 0, 0, 0, 0, 0, 0, 0, 0, 0, 0, 0, 0, 0, 0, 0, 0, 0, 0, 0, 0, 0, 0, 0, 0, 0, 0, 0, 0, 0, 0, 0, 0, 0, 0, 0, 0, 0, 0, 0, 0, 0, 0, 0, 0, 0, 0, 0, 0, 0, 0, 0, 0, 0, 0, 0, 0, 0, 0, 0, 0, 0, 0, 0, 0, 0, 0, 0, 0, 0, 0, 0, 0, 0, 0, 0, 0, 0, 0, 0, 0, 0, 0, 0, 0, 0, 0, 0, 0, 0, 0, 0, 0, 0, 0, 0, 0, 0, 0, 0, 0, 0, 0, 0, 0, 0, 0, 0, 0, 0, 0, 0, 0, 0, 0, 0, 0, 0, 0, 0, 0, 0, 0, 0, 0, 0, 0, 0, 0, 0, 0, 0, 0, 0, 0, 0, 0, 0, 0, 0, 0, 0, 0, 0, 0, 0, 0, 0, 0, 0, 0, 0, 0, 0, 0, 0, 0, 0, 0, 0, 0, 0, 0, 0, 0, 0, 0, 0, 0, 0, 0, 0, 0, 0, 0, 0, 0, 0, 0, 0, 0, 0, 0, 0, 0, 0, 0, 0, 0, 0, 0, 0, 0, 0, 0, 0, 0, 0, 0, 0, 0, 0, 0, 0, 0, 0, 0, 0, 0, 0, 0, 0, 0, 0, 0, 0, 0, 0, 0, 0, 0, 0, 0, 0, 0, 0, 0, 0, 0, 0, 0, 0, 0, 0, 0, 0, 0, 0, 0, 0, 0, 0, 0, 0, 0, 0, 0, 0, 0, 0, 0, 0, 0, 0, 0, 0, 0, 0, 0, 0, 0, 0, 0, 0, 0, 0, 0, 0, 0, 0, 0, 0, 0, 0, 0, 0, 0, 0, 0, 0, 0, 0, 0, 0, 0, 0, 0, 0, 0, 0, 0, 0, 0, 0, 0, 0, 0, 0, 0, 0, 0, 0, 0, 0, 0, 0, 0, 0, 0, 0, 0, 0, 0, 0, 0, 0, 0, 0, 0, 0, 0, 0, 0, 0, 0, 0, 0, 0, 0, 0, 0, 0, 0, 0, 0, 0, 0, 0, 0, 0, 0, 0, 0, 0, 0, 0, 0, 0, 0, 0, 0, 0, 0, 0, 0, 0, 0, 0, 0, 0, 0, 0, 0, 0, 0, 0, 0, 0, 0, 0, 0, 0, 0, 0, 0, 0, 0, 0, 0, 0, 0, 0, 0, 0, 0, 0, 0, 0, 0, 0, 0, 0, 0, 0, 0, 0, 0, 0, 0, 0, 0, 0, 0, 0, 0, 0, 0, 0, 0, 0, 0, 0, 0, 0, 0, 0, 0, 0, 0, 0, 0, 0, 0, 0, 0, 0, 0, 0, 0, 0, 0, 0, 0, 0, 0, 0, 0, 0, 0, 0, 0, 0, 0, 0, 0, 0, 0, 0, 0, 0, 0, 0, 0, 0, 0, 0, 0, 0, 0, 0, 0, 0, 0, 0, 0, 0, 0, 0, 0, 0, 0, 0, 0, 0, 0, 0, 0, 0, 0, 0, 0, 0, 0, 0, 0, 0, 0, 0, 0, 0, 0, 0, 0, 0, 0, 0, 0, 0, 0, 0, 0, 0, 0, 0, 0, 0, 0, 0, 0, 0, 0, 0, 0, 0, 0, 0, 0, 0, 0, 0, 0, 0, 0, 0, 0, 0, 0, 0, 0, 0, 0, 0, 0, 0, 0, 0, 0, 0, 0, 0, 0, 0, 0, 0, 0, 0, 0, 0, 0, 0, 0, 0, 0, 0, 0, 0, 0, 0, 0, 0, 0, 0, 0, 0, 0, 0, 0, 0, 0, 0, 0, 0, 0, 0, 0, 0, 0, 0, 0, 0, 0, 0, 0, 0, 0, 0, 0, 0, 0, 0, 0, 0, 0, 0, 0, 0, 0, 0, 0, 0, 0, 0, 0, 0, 0, 0, 0, 0, 0, 0, 0, 0, 0, 0, 0, 0, 0, 0, 0, 0, 0, 0, 0, 0, 0, 0, 0, 0, 0, 0, 0, 0, 0, 0, 0, 0, 0, 0, 0, 0, 0, 0, 0, 0, 0, 0, 0, 0, 0, 0, 0, 0, 0, 0, 0, 0, 0, 0, 0, 0, 0, 0, 0, 0, 0, 0, 0, 0, 0, 0, 0, 0, 0, 0, 0, 0, 0, 0, 0, 0, 0, 0, 0, 0, 0, 0, 0, 0, 0, 0, 0, 0, 0, 0, 0, 0, 0, 0, 0, 0, 0, 0, 0, 0, 0, 0, 0, 0, 0, 0, 0, 0, 0, 0, 0, 0, 0, 0, 0, 0, 0, 0, 0, 0, 0, 0, 0, 0, 0, 0, 0, 0, 0, 0, 0, 0, 0, 0, 0, 0, 0, 0, 0, 0, 0, 0, 0, 0, 0, 0, 0, 0, 0, 0, 0, 0, 0, 0, 0, 0, 0, 0, 0, 0, 0, 0, 0, 0, 0, 0, 0, 0, 0, 0, 0, 0, 0, 0, 0, 0, 0, 0, 0, 0, 0, 0, 0, 0, 0, 0, 0, 0, 0, 0, 0, 0, 0, 0, 0, 0, 0, 0, 0, 0, 0, 0, 0, 0, 0, 0, 0, 0, 0, 0, 0, 0, 0, 0, 0, 0, 0, 0, 0, 0, 0, 0, 0, 0, 0, 0, 0, 0, 0, 0, 0, 0, 0, 0, 0, 0, 0, 0, 0, 0, 0, 0, 0, 0, 0, 0, 0, 0, 0, 0, 0, 0, 0, 0, 0, 0, 0, 0, 0, 0, 0, 0, 0, 0, 0, 0, 0, 0, 0, 0, 0, 0, 0, 0, 0, 0, 0, 0, 0, 0, 0, 0, 0, 0, 0, 0, 0, 0, 0, 0, 0, 0, 0, 0, 0, 0, 0, 0, 0, 0, 0, 0, 0, 0, 0, 0, 0, 0, 0, 0, 0, 0, 0, 0, 0, 0, 0, 0, 0, 0, 0, 0, 0, 0, 0, 0, 0, 0, 0, 0, 0, 0, 0, 0, 0, 0, 0, 0, 0, 0, 0, 0, 0, 0, 0, 0, 0, 0, 0, 0, 0, 0, 0, 0, 0, 0, 0, 0, 0, 0, 0, 0, 0, 0, 0, 0, 0, 0, 0, 0, 0, 0, 0, 0, 0, 0, 0, 0, 0, 0, 0, 0, 0, 0, 0, 0, 0, 0, 0, 0, 0, 0, 0, 0, 0, 0, 0, 0, 0, 0, 0, 0, 0, 0, 0, 0, 0, 0, 0, 0, 0, 0, 0, 0, 0, 0, 0, 0, 0, 0, 0, 0, 0, 0, 0, 0, 0, 0, 0, 0, 0, 0, 0, 0, 0, 0, 0, 0, 0, 0, 0, 0, 0, 0, 0, 0, 0, 0, 0, 0, 0, 0, 0, 0, 0, 0, 0, 0, 0, 0, 0, 0, 0, 0, 0, 0, 0, 0, 0, 0, 0, 0, 0, 0, 0, 0, 0, 0, 0, 0, 0, 0, 0, 0], \"coloraxis\": \"coloraxis\", \"symbol\": \"circle\"}, \"mode\": \"markers\", \"name\": \"\", \"scene\": \"scene\", \"showlegend\": false, \"type\": \"scatter3d\", \"x\": [180, 130, 193, 119, 141, 132, 194, 190, 131, 135, 133, 118, 149, 132, 134, 168, 148, 159, 158, 172, 170, 120, 170, 134, 111, 172, 159, 195, 165, 119, 101, 101, 99, 158, 173, 60, 155, 174, 133, 100, 179, 115, 113, 122, 183, 149, 83, 182, 152, 173, 69, 122, 131, 175, 161, 152, 170, 115, 165, 122, 129, 185, 105, 164, 109, 132, 114, 152, 138, 109, 172, 165, 135, 192, 158, 194, 202, 132, 130, 150, 124, 182, 120, 161, 172, 195, 95, 193, 129, 83, 169, 135, 174, 83, 142, 185, 99, 192, 118, 122, 110, 145, 175, 145, 83, 138, 125, 75, 175, 191, 188, 182, 104, 171, 73, 134, 143, 120, 181, 94, 112, 103, 71, 123, 190, 165, 118, 169, 130, 130, 113, 164, 192, 145, 179, 180, 171, 139, 135, 179, 190, 172, 183, 101, 129, 184, 154, 154, 160, 141, 178, 91, 191, 64, 155, 102, 114, 65, 122, 170, 184, 124, 192, 138, 111, 84, 154, 153, 93, 193, 152, 158, 182, 139, 190, 173, 139, 114, 125, 155, 128, 119, 171, 113, 98, 185, 112, 194, 161, 178, 179, 110, 125, 111, 191, 134, 118, 191, 181, 103, 128, 142, 170, 169, 103, 113, 180, 161, 134, 159, 160, 188, 174, 203, 178, 115, 168, 83, 99, 158, 183, 123, 189, 180, 193, 162, 183, 190, 150, 131, 168, 105, 172, 114, 170, 170, 182, 129, 130, 201, 89, 184, 123, 109, 184, 185, 125, 138, 169, 140, 108, 123, 161, 164, 179, 168, 178, 92, 111, 104, 98, 171, 90, 180, 114, 149, 152, 161, 161, 110, 160, 111, 191, 154, 131, 148, 119, 131, 158, 173, 195, 183, 130, 185, 168, 115, 154, 182, 185, 183, 133, 181, 190, 172, 184, 188, 114, 122, 113, 140, 190, 102, 130, 132, 195, 162, 121, 153, 103, 164, 148, 169, 130, 158, 141, 134, 168, 129, 179, 131, 175, 114, 124, 99, 158, 173, 94, 111, 179, 93, 159, 140, 141, 132, 105, 153, 174, 164, 141, 125, 115, 163, 182, 135, 142, 82, 135, 125, 172, 149, 120, 133, 154, 182, 125, 95, 144, 118, 169, 139, 153, 165, 128, 130, 99, 148, 154, 141, 140, 120, 129, 160, 184, 131, 118, 83, 142, 108, 135, 115, 188, 178, 131, 129, 158, 142, 139, 179, 188, 123, 119, 123, 123, 93, 182, 85, 95, 93, 154, 173, 191, 175, 142, 180, 155, 179, 138, 141, 180, 123, 163, 108, 135, 144, 139, 143, 154, 91, 89, 173, 155, 158, 194, 195, 191, 130, 85, 128, 132, 188, 170, 143, 182, 184, 140, 141, 145, 181, 178, 145, 164, 164, 104, 111, 145, 182, 133, 120, 115, 83, 180, 151, 133, 81, 102, 134, 130, 142, 143, 184, 188, 162, 108, 141, 140, 173, 101, 123, 184, 115, 174, 135, 165, 133, 142, 129, 121, 112, 122, 135, 33, 91, 85, 51, 90, 129, 60, 171, 95, 141, 80, 84, 48, 21, 25, 65, 68, 119, 18, 25, 38, 23, 161, 52, 14, 94, 85, 20, 69, 11, 49, 74, 28, 44, 72, 51, 35, 51, 39, 52, 115, 48, 165, 61, 30, 14, 70, 62, 73, 29, 55, 81, 39, 78, 51, 41, 43, 44, 22, 11, 144, 72, 65, 18, 43, 82, 68, 79, 24, 83, 70, 31, 75, 84, 74, 68, 134, 33, 91, 92, 85, 74, 32, 32, 21, 39, 121, 89, 54, 113, 79, 39, 39, 22, 84, 82, 98, 70, 82, 32, 81, 43, 85, 91, 89, 91, 29, 93, 18, 55, 71, 25, 99, 31, 30, 20, 62, 125, 15, 83, 62, 32, 179, 75, 33, 8, 149, 62, 54, 92, 24, 194, 32, 88, 64, 148, 20, 110, 25, 45, 39, 61, 61, 113, 65, 13, 19, 15, 19, 38, 148, 85, 112, 78, 72, 29, 105, 103, 88, 154, 21, 28, 33, 15, 80, 41, 112, 24, 111, 82, 8, 44, 8, 74, 95, 81, 75, 108, 9, 100, 11, 45, 80, 83, 70, 14, 23, 78, 81, 161, 40, 183, 81, 35, 33, 78, 145, 50, 88, 28, 54, 21, 154, 59, 58, 85, 54, 81, 23, 88, 40, 42, 58, 53, 78, 99, 152, 121, 59, 43, 133, 101, 22, 41, 33, 55, 21, 38, 69, 35, 98, 25, 42, 94, 38, 68, 70, 71, 113, 91, 138, 85, 22, 43, 83, 59, 85, 65, 31, 155, 72, 93, 92, 39, 71, 49, 78, 138, 61, 72, 38, 134, 49, 99, 39, 39, 39, 72, 32, 38, 24, 180, 12, 79, 91, 91, 108, 122, 49, 112, 40, 84, 82, 39, 62, 69, 42, 60, 91, 128, 65, 41, 8, 98, 12, 74, 65, 81, 34, 33, 24, 71, 15, 80, 55, 12, 42, 53, 42, 45, 41, 99, 45, 25, 44, 64, 21, 158, 18, 61, 102, 30, 103, 110, 53, 29, 70, 29, 84, 182, 79, 55, 28, 161, 141, 55, 89, 81, 8, 54, 143, 18, 43, 125, 133, 41, 85, 48, 53, 78, 40, 74, 110, 33, 42, 105, 73, 41, 42, 75, 30, 49, 68, 63, 50, 30, 60, 22, 44, 61, 42, 60, 119, 58, 41, 28, 21, 29, 44, 35, 54, 105, 54, 31, 53, 105, 60, 32, 204, 44, 130, 69, 98, 30, 34, 14, 94, 121, 58, 70, 60, 23, 39, 92, 58, 59, 181, 53, 70, 93, 73, 75, 44, 45, 34, 68, 22, 35, 34, 20, 60, 33, 28, 152, 25, 103, 75, 84, 34, 141, 108, 78, 22, 60, 49, 53, 45, 55, 63, 20, 151, 49, 200, 81, 79, 49, 55, 83, 123, 93, 8, 64, 63, 113, 78, 43, 24, 72, 39, 81, 12, 101, 170, 31, 12, 14, 19, 74, 19, 71, 13, 55, 40, 18, 64, 78, 73, 118, 53, 33, 32, 95, 15, 73, 43, 51, 43, 90, 65, 114, 125, 28, 20, 188, 15, 50, 72, 19, 29, 52, 42, 71, 35, 42, 43, 195, 121, 88, 71, 9, 52, 22, 81, 29, 119, 50, 83, 42, 12, 145, 58, 25, 115, 41, 65, 62, 43, 202, 59, 29, 98, 83, 80, 31, 78, 23, 88, 131, 134, 99, 78, 38, 9, 61, 63, 95, 29, 43, 29, 39, 22, 102, 199, 44, 33, 63, 28, 50, 85, 83, 28, 62, 62, 28, 82, 154, 70, 83, 81, 39, 63, 40, 61, 54, 131, 60, 62, 59, 124, 34, 91, 151, 93, 31, 93, 23, 19, 79, 9, 125, 80, 63, 71, 15, 83, 54, 51, 81, 82, 64, 141, 89, 54, 30, 92, 83, 84, 191, 164, 44, 45, 53, 49, 154, 81, 85, 50, 43, 81, 118, 55, 82, 129, 124, 25, 81, 183, 72, 81, 138, 65, 163, 45, 82, 92, 62, 53, 45, 82, 53, 30, 31, 23, 49, 48, 101, 44, 59, 51, 92, 38, 34, 21, 92, 61, 144, 8, 15, 150, 83, 13, 63, 201, 61, 75, 29, 79, 108, 73, 49, 141, 23, 20, 58, 29, 29, 9, 91, 41, 58, 59, 143, 95, 69, 35, 8, 64, 62, 61, 65, 120, 118, 21, 141, 111, 24, 29, 103, 61, 44, 42, 75, 124, 29, 78, 15, 45, 30, 42, 21, 98, 41, 93, 25, 31, 90, 80, 69, 29, 69, 79, 139, 83, 64, 100, 32, 45, 129, 42, 135, 43, 92, 39, 62, 22, 9, 44, 43, 58, 50, 18, 44, 80, 15, 139, 94, 174, 53, 51, 74, 42, 180, 78, 45, 139, 69, 81, 59, 45, 59, 69, 33, 34, 120, 48, 61, 121, 70, 98, 60, 19, 79, 92, 45, 55, 81, 25, 108, 79, 62, 22, 25, 71, 150, 44, 39, 78, 51, 98, 18, 49, 82, 24, 195, 40, 183, 85, 38, 72, 71, 24, 78, 90, 69, 60, 33, 175, 31, 13, 54, 161, 72, 112, 31, 81, 200, 60, 63, 50, 135, 43, 24, 61, 175, 54, 49, 42, 43, 38, 29, 64, 75, 18, 199, 124, 25, 32, 42, 41, 195, 10, 85, 174, 69, 105, 32, 195, 51, 128, 59, 9, 28, 54, 52, 78, 115, 38, 98, 35, 158, 34, 35, 79, 52, 34, 52, 92, 30, 18, 23, 82, 38, 11, 25, 34, 59, 89, 45, 29, 95, 55, 65, 39, 85, 12, 39, 72, 132, 12, 89, 8, 54, 78, 68, 62, 54, 63, 113, 13, 30, 91, 164, 115, 41, 25, 149, 18, 89, 9, 142, 110, 9, 41, 20, 20, 39, 115, 89, 23, 59, 34, 43, 30, 94, 23, 41, 128, 89, 82, 92, 71, 10, 13, 29, 153, 42, 50, 65, 82, 69, 53, 71, 41, 11, 45, 54, 53, 40, 49, 23, 91, 142, 11, 49, 52, 124, 25, 39, 39, 68, 85, 120, 113, 24, 53, 83, 63, 132, 33, 39, 71, 41, 175, 63, 52, 41, 161, 44, 73, 38, 28, 18, 43, 64, 60, 80, 60, 82, 50, 41, 28, 32, 25, 84, 81, 25, 62, 99, 83, 15, 152, 83, 21, 41, 108, 80, 150, 34, 79, 42, 74, 21, 68, 43, 64, 49, 101, 108, 104, 70, 42, 183, 94, 15, 79, 13, 73, 14, 60, 34, 58, 78, 31, 103, 133, 41, 82, 24, 115, 81, 45, 82, 84, 75, 149, 53, 29, 84, 14, 42, 39, 54, 178, 92, 78, 40, 121, 42, 81, 40, 78, 75, 125, 25, 183, 80, 74, 22, 78, 53, 43, 13, 80, 85, 168, 80, 28, 61, 22, 45, 20, 34, 35, 83, 65, 34, 40, 48, 23, 43, 65, 84, 24, 34, 91, 40, 34, 33, 81, 52, 95, 69, 109, 79, 52, 60, 29, 148, 91, 82, 75, 34, 30, 80, 91, 41, 103, 38, 112, 81, 175, 13, 81, 120, 48, 45, 113, 54, 79, 45, 54, 131, 80, 31, 50, 41, 122, 69, 38, 19, 29, 19, 32, 119, 22, 78, 154, 180, 61, 49, 203, 24, 39, 195, 79, 20, 30, 83, 53, 64, 112, 145, 85, 75, 74, 173, 82, 111, 118, 64, 55, 28, 22, 138, 140, 81, 89, 30, 78, 65, 53, 98, 79, 8, 29, 109, 82, 33, 89, 79, 61, 40, 19, 74, 81, 62, 51, 105, 11, 123, 65, 73, 14, 38, 70, 41, 121, 25, 81, 88, 65, 24, 73, 50, 90, 40, 25, 22, 18, 32, 42, 145, 39, 44, 94, 29, 22, 42, 148, 45, 33, 34, 105, 74, 11, 54, 38, 70, 32, 142, 54, 40, 65, 191, 55, 30, 68, 28, 120, 85, 78, 20, 32, 42, 14, 141, 141, 59, 184, 19, 48, 102, 59, 83, 89, 23, 74, 49, 40, 43, 22, 194, 172, 188, 109, 44, 31, 40, 12, 33, 122, 114, 72, 39, 38, 50, 82, 28, 40, 22, 113, 53, 10, 82, 55, 65, 150, 43, 65, 49, 44, 82, 68, 69, 72, 32, 40, 32, 28, 38, 52, 68, 80, 38, 84, 90, 44, 101, 34, 144, 88, 69, 31, 61, 61, 38, 61, 153, 73, 63, 34, 53, 21, 114, 45, 99, 25, 115, 20, 89, 63, 85, 128, 35, 22, 24, 83, 65, 31, 81, 155, 79, 69, 43, 91, 81, 205, 60, 12, 23, 78, 75, 30, 20, 25, 114, 71, 61, 40, 28, 31, 30, 84, 105, 171, 89, 224, 70, 51, 84, 74, 62, 19, 34, 54, 34, 51, 149, 60, 64, 95, 79, 79, 173, 13, 93, 204, 79, 30, 81, 172, 79, 18, 81, 34, 62, 184, 128, 95, 34, 49, 39, 70, 162, 122, 34, 75, 145, 60, 11, 179, 60, 134, 38, 81, 64, 48, 19, 28, 51, 58, 72, 9, 74, 111, 80, 90, 75, 38, 29, 39, 81, 73, 35, 8, 63, 152, 113, 83, 100, 41, 82, 55, 41, 24, 88, 23, 82, 38, 35, 22, 18, 65, 185, 45, 92, 39, 148, 21, 95, 35, 11, 62, 83, 121, 52, 63, 64, 81, 30, 38, 44, 138, 32, 45, 132, 43, 63, 28, 82, 28, 102, 24, 68, 85, 72, 30, 69, 49, 80], \"y\": [8.9, 4.7, 8.1, 3.3, 5.0, 1.1, 0.2, 2.1, 1.2, 3.8, 2.6, 5.6, 7.2, 6.5, 6.5, 7.9, 4.1, 1.9, 5.1, 3.1, 7.9, 2.7, 6.2, 3.9, 1.2, 4.3, 5.5, 3.0, 1.6, 4.2, 4.4, 3.9, 4.4, 6.1, 6.6, 3.0, 5.3, 6.8, 2.0, 3.4, 6.6, 3.1, 3.8, 3.0, 8.3, 5.5, 3.6, 1.2, 6.1, 4.6, 3.1, 0.2, 4.9, 3.6, 6.5, 3.5, 0.1, 2.9, 2.7, 5.1, 4.2, 2.0, 3.0, 6.0, 4.0, 1.2, 4.4, 3.3, 2.8, 1.8, 6.9, 4.1, 4.6, 6.4, 3.7, 6.0, 10.0, 5.9, 1.1, 5.4, 5.0, 3.3, 5.4, 3.4, 3.4, 0.4, 3.7, 4.7, 4.4, 3.4, 5.2, 5.2, 1.7, 3.4, 2.3, 3.6, 3.5, 1.8, 3.3, 0.2, 2.5, 5.7, 1.1, 6.1, 3.8, 6.9, 0.5, 3.5, 3.3, 5.6, 1.3, 0.3, 3.7, 1.9, 3.3, 4.5, 2.9, 3.2, 1.4, 3.8, 5.0, 3.4, 3.3, 2.9, 1.3, 5.1, 2.8, 6.8, 6.3, 6.3, 1.7, 0.5, 0.0, 6.9, 2.1, 9.0, 6.0, 3.4, 0.3, 2.9, 0.3, 5.2, 3.1, 3.9, 5.9, 5.4, 4.6, 3.0, 3.8, 4.5, 5.4, 4.3, 4.4, 3.0, 0.1, 3.0, 3.5, 3.0, 3.0, 4.25, 2.3, 0.2, 7.0, 7.0, 3.6, 3.1, 7.4, 2.6, 3.1, 6.3, 3.6, 6.3, 6.0, 4.0, 4.2, 0.2, 0.8, 5.2, 2.4, 7.4, 5.3, 2.0, 0.7, 0.8, 3.9, 2.7, 5.1, 8.3, 5.8, 0.8, 4.9, 4.1, 0.6, 0.3, 4.8, 0.9, 6.0, 4.8, 3.3, 4.0, 3.25, 4.2, 6.5, 5.666666666666667, 4.8, 0.2, 8.5, 8.0, 4.0, 4.9, 8.0, 6.9, 3.2, 10.0, 6.5, 1.2, 5.666666666666667, 3.1, 4.8, 2.3, 3.4, 1.6, 4.75, 2.8, 4.0, 3.3, 3.0, 3.1, 5.0, 0.7, 1.3, 3.0, 4.4, 2.4, 2.1, 4.7, 1.4, 5.9, 4.4, 10.0, 4.1, 3.4, 5.6, 0.5, 4.8, 7.5, 3.5, 4.666666666666667, 6.1, 0.5, 3.6666666666666665, 2.3, 1.7, 7.4, 2.6, 6.5, 6.0, 3.0, 1.1, 4.2, 4.2, 2.2, 3.6, 2.9, 4.2, 6.1, 7.4, 7.9, 4.3, 5.4, 5.7, 3.0, 2.6, 2.4, 0.5, 4.3, 5.4, 0.3, 5.4, 7.2, 4.75, 8.8, 6.5, 7.9, 4.1, 2.2, 5.0, 5.8, 2.2, 8.2, 5.7, 4.1, 7.3, 1.0, 7.5, 0.9, 2.5, 4.1, 0.6, 5.9, 2.2, 4.5, 3.2, 2.4, 5.2, 1.3, 1.1, 2.8, 3.3333333333333335, 4.3, 7.0, 5.0, 4.7, 0.4, 4.9, 5.5, 5.7, 0.7, 1.2, 0.6, 1.1, 3.3, 5.0, 3.0, 4.7, 1.5, 4.1, 5.4, 3.6, 4.1, 3.9, 0.5, 4.0, 4.4, 3.2, 2.0, 2.9, 1.3, 5.1, 1.0, 4.6, 5.333333333333333, 7.2, 4.1, 0.8, 3.7, 4.8, 4.7, 4.25, 0.2, 3.0, 1.5, 6.4, 0.8, 4.3, 3.9, 5.4, 3.0, 6.5, 0.9, 5.6, 5.6, 4.1, 2.6, 4.6, 5.8, 5.4, 6.9, 1.9, 4.1, 0.3, 4.3, 5.1, 2.6, 2.4, 3.9, 1.4, 3.8, 2.7, 3.8, 3.7, 9.0, 2.2, 5.2, 0.4, 2.8, 2.9, 4.5, 9.3, 5.6, 5.0, 3.1, 1.3, 3.6, 2.6, 3.4, 3.9, 3.0, 7.5, 2.7, 5.2, 0.7, 5.5, 6.5, 1.5, 4.2, 2.2, 0.2, 6.5, 5.9, 1.3, 1.9, 3.8, 3.5, 0.4, 2.7, 4.9, 3.4, 3.9, 3.1, 7.2, 3.7, 5.7, 6.333333333333333, 4.3, 1.1, 3.4, 6.0, 2.6, 2.9, 6.1, 6.4, 3.2, 4.2, 5.6, 6.3, 2.7, 2.3, 8.5, 1.8, 3.8, 4.0, 3.6, 5.3, 6.0, 3.7, 3.1, 4.2, 0.5, 3.1, 3.6, 0.6, 5.0, 3.4, 4.7, 1.7, 2.9, 6.2, 6.6, 8.0, 7.0, 1.4, 2.75, 0.7, 6.6, 0.5, 3.8, 3.0, 2.2, 4.2, 4.6, 4.8, 7.0, 1.4, 1.5, 4.1, 0.7, 1.6, 3.0, 5.3, 0.7, 3.8, 1.2, 1.8, 1.3, 2.5, 0.0, 7.8, 1.7, 2.4, 0.1, 1.6, 2.8, 0.7, 1.0, 0.5, 0.8, 3.3, 0.5, 0.5, 1.6, 0.7, 2.9, 1.0, 0.8, 4.9, 0.4, 1.4, 0.7, 0.5, 0.5, 0.0, 1.5, 2.0, 2.0, 1.3, 0.7, 1.6, 0.7, 0.1, 3.5, 2.2, 8.0, 2.0, 0.3, 0.4, 1.6, 2.3, 0.8, 0.1, 1.1, 3.4, 1.9, 1.2, 2.2, 1.7, 0.1, 1.6, 0.4, 0.2, 4.1, 1.4, 2.1, 0.5, 1.9, 2.6666666666666665, 2.3, 0.2, 0.2, 1.8, 2.7, 0.4, 1.9, 0.0, 2.2, 2.8, 3.1, 1.2, 0.8, 0.0, 1.8, 1.8, 0.1, 1.5, 0.2, 0.9, 4.3, 1.9, 1.6666666666666667, 1.0, 3.8, 2.0, 1.5, 1.0, 2.8, 1.3, 1.8, 0.7, 0.8, 0.5, 0.4, 0.1, 1.3, 2.0, 1.7, 1.8, 1.5, 0.2, 0.6, 0.9, 1.75, 0.1, 2.3, 1.0, 0.5, 1.5, 2.3, 1.9, 0.7, 1.7, 2.6666666666666665, 1.4, 0.0, 2.3, 2.0, 0.1, 6.8, 2.4, 0.6, 0.0, 0.3, 8.8, 0.75, 0.8, 2.3, 3.3, 0.7, 6.1, 0.3, 1.0, 0.2, 2.0, 1.7, 3.3, 0.7, 0.0, 0.3, 0.1, 0.5, 0.2, 7.5, 3.8, 0.6, 3.0, 2.4, 0.3, 1.7, 0.6, 0.3, 2.0, 1.0, 0.1, 1.7, 0.4, 0.4, 2.5, 4.6, 0.5, 1.3, 3.8, 0.6, 1.6, 0.3, 2.6666666666666665, 1.8, 1.8, 0.3, 3.8, 1.0, 0.6, 0.5, 1.8, 0.3, 0.0, 2.8, 1.0, 1.0, 2.2, 0.8, 3.3, 0.5, 1.0, 0.2, 0.75, 1.5, 4.9, 2.9, 1.7, 1.1, 1.5, 2.3, 0.5, 2.9, 2.4, 2.5, 3.7, 2.0, 2.2, 0.1, 1.7, 1.1, 1.3, 1.8, 1.4, 3.0, 4.0, 7.5, 0.4, 0.8, 1.6, 2.6, 2.7, 1.0, 0.5, 2.0, 0.7, 0.4, 1.4, 0.3, 0.1, 2.5, 1.5, 0.7, 0.5, 0.7, 2.6, 2.6, 0.1, 1.8, 1.6, 3.5, 1.9, 0.3, 0.7, 1.5, 2.5, 1.8, 3.7, 0.3, 1.3, 1.6, 1.6, 2.0, 0.2, 2.9, 2.5, 2.8, 3.9, 0.2, 0.0, 1.1, 5.0, 2.0, 1.7, 0.7, 0.8, 1.4, 2.6, 1.8, 0.1, 0.3, 1.7, 0.2, 2.7, 0.0, 0.1, 2.0, 1.3, 1.4, 2.0, 0.3, 4.9, 1.5, 1.8, 2.1, 0.7, 0.2, 0.6, 1.4, 3.9, 2.0, 0.5, 0.3, 0.9, 0.7, 0.1, 2.2, 0.8, 1.5, 1.4, 0.7, 1.8, 0.4, 2.8, 2.2, 0.3, 2.4, 2.0, 2.5, 1.3, 0.6, 4.5, 1.7, 0.9, 2.0, 1.5, 0.2, 6.666666666666667, 1.5, 0.9, 1.9, 0.5, 2.5, 3.8, 0.8, 0.7, 1.5, 0.2, 2.2, 8.6, 2.8, 1.6, 0.3, 7.6, 4.333333333333333, 3.2, 3.8, 2.0, 0.2, 0.6, 1.7, 0.3, 1.2, 3.9, 7.3, 1.3333333333333333, 1.7, 0.6, 1.0, 0.2, 0.5, 0.7, 3.3, 0.7, 1.9, 1.4, 3.0, 2.5, 2.4, 4.5, 0.4, 1.7, 3.7, 1.75, 1.9, 1.9, 1.6, 1.5, 0.1, 2.4, 2.2, 2.0, 6.1, 1.3, 2.4, 0.3, 0.6666666666666666, 1.3333333333333333, 0.6, 1.4, 3.0, 1.2, 1.7, 0.3, 1.6666666666666667, 4.6, 1.4, 0.3, 2.8, 1.5, 5.0, 1.5, 5.4, 1.0, 0.6, 0.9, 4.7, 4.7, 1.7, 0.2, 3.2, 0.3, 2.3, 1.9, 2.6666666666666665, 1.2, 6.0, 1.7, 1.1, 2.8, 1.5, 0.1, 0.2, 2.0, 0.7, 2.3, 0.2, 1.0, 0.9, 0.6666666666666666, 0.7, 1.9, 0.7, 6.9, 1.4, 2.8, 3.7, 3.6, 1.5, 6.9, 1.0, 2.6, 0.1, 2.3, 1.6666666666666667, 0.5, 1.8, 2.6, 0.8, 0.4, 3.3, 1.2, 6.5, 1.7, 2.0, 1.6, 1.7, 0.7, 0.8, 2.8, 0.7, 2.2, 0.8, 6.3, 2.0, 1.9, 0.6, 1.7, 1.6, 4.5, 0.4, 2.5, 6.7, 0.4, 0.7, 0.9, 1.4, 3.2, 1.1, 0.1, 1.0, 2.5, 0.5, 0.3, 2.1, 2.0, 3.0, 3.3, 2.2, 0.2, 1.4, 1.0, 0.3, 1.4, 0.9, 1.0, 0.2, 1.9, 0.7, 0.2, 0.0, 0.2, 0.5, 4.5, 0.7, 2.8, 2.6, 1.5, 1.0, 2.2, 2.0, 1.4, 0.5, 0.8, 0.3, 4.3, 3.3, 0.8, 0.3, 0.5, 0.2, 0.1, 3.6, 1.0, 1.5, 2.0, 1.6, 1.5, 0.6666666666666666, 2.5, 2.0, 0.4, 1.3, 1.9, 0.7, 0.7, 2.1, 4.7, 0.0, 0.6, 1.8, 2.4, 3.4, 1.4, 0.8, 1.2, 0.0, 3.8, 0.0, 1.4, 4.4, 1.8, 0.2, 2.2, 1.6, 1.6, 0.3, 2.1, 0.8, 1.8, 1.5, 2.2, 6.333333333333333, 2.0, 0.9, 0.2, 0.8, 1.5, 2.5, 3.0, 0.5, 1.3, 3.2, 0.5, 3.4, 6.1, 2.1, 1.7, 0.2, 0.8, 1.6, 1.0, 2.5, 1.0, 2.9, 1.8, 2.2, 2.4, 5.2, 0.4, 2.6, 3.5, 0.3, 0.9, 2.8, 0.9, 0.6, 0.1, 0.0, 0.0, 0.7, 0.7, 1.8, 1.0, 0.4, 1.6, 1.7, 3.7, 0.4, 2.1, 3.5, 0.1, 0.7, 0.6, 1.3, 1.8, 0.7, 2.8, 5.0, 1.5, 1.3, 1.6, 1.5, 4.5, 0.4, 1.8, 0.1, 0.2, 0.8, 1.9, 1.4, 0.9, 0.9, 0.2, 0.0, 1.7, 8.1, 0.3, 1.7, 7.8, 1.5, 0.4, 1.3, 2.0, 1.9, 3.0, 1.7, 1.3, 2.6, 0.7, 0.7, 0.1, 0.2, 2.2, 2.2, 0.3, 1.8, 1.2, 1.8, 0.0, 1.3, 0.4, 0.0, 0.2, 2.7, 6.1, 0.4, 0.6, 7.2, 2.0, 0.9, 0.7, 8.8, 1.6, 2.1, 0.2, 1.1, 4.6, 2.6666666666666665, 2.1, 7.6, 0.4, 1.3, 0.8, 2.0, 1.9, 0.3, 0.8, 2.5, 0.9, 0.5, 8.6, 0.1, 2.0, 0.4, 0.7, 0.8, 1.5, 2.7, 2.5, 3.9, 2.0, 0.5, 8.0, 0.0, 1.0, 2.0, 2.5, 1.7, 1.8, 0.7, 0.2, 7.4, 0.75, 2.9, 0.8, 0.9, 0.2, 1.2, 0.4, 1.2, 1.4, 4.3, 1.0, 1.2, 4.5, 2.7, 2.4, 0.6, 1.8, 0.7, 3.4, 1.8, 2.5, 0.8, 1.5, 2.0, 5.0, 1.2, 1.4, 1.4, 0.0, 0.5, 1.8, 0.1, 0.5, 2.3, 0.8, 1.2, 1.8, 0.0, 0.6, 1.8, 0.8, 4.3, 1.8, 6.7, 2.0, 1.9, 4.0, 2.5, 4.3, 2.3, 0.1, 7.8, 0.8, 1.3, 1.5, 2.4, 3.7, 2.2, 0.3, 1.5, 6.1, 0.2, 2.5, 3.1, 2.2, 0.1, 3.8, 0.4, 4.0, 3.1, 1.6, 2.5, 1.8, 0.1, 3.4, 4.4, 1.0, 0.6, 0.3, 3.0, 6.333333333333333, 0.8, 1.9, 2.0, 1.7, 2.6, 1.5, 1.8, 3.6, 0.4, 2.9, 0.9, 0.0, 3.4, 1.0, 2.0, 2.3333333333333335, 0.1, 0.2, 1.1, 1.7, 2.2, 1.4, 8.0, 0.5, 0.9, 2.9, 4.1, 0.3, 2.7, 0.4, 2.6666666666666665, 8.8, 2.6, 2.2, 1.5, 0.6, 1.9, 0.3, 1.8, 7.8, 2.1, 2.5, 0.1, 1.5, 1.0, 0.5, 2.6666666666666665, 1.4, 0.3, 6.666666666666667, 3.9, 0.1, 0.8, 1.7, 1.2, 6.333333333333333, 0.5, 1.9, 4.7, 0.5, 4.0, 1.0, 6.333333333333333, 2.3333333333333335, 0.4, 0.4, 0.5, 0.6, 2.2, 2.1, 2.6, 2.5, 1.3, 3.1, 1.8, 2.1, 0.7, 1.7, 0.2, 1.1, 1.3, 0.5, 1.6, 1.0, 0.4, 0.4, 2.4, 0.8, 0.2, 0.6, 2.0, 0.8, 0.8, 0.1, 0.1, 3.0, 1.6, 0.0, 2.2, 1.6, 0.5, 0.7, 1.4, 3.8, 0.2, 1.4, 0.6666666666666666, 2.1, 1.1, 2.9, 0.1, 2.5, 0.8, 3.3, 0.4, 0.1, 5.7, 0.0, 1.7, 1.6666666666666667, 0.5, 0.4, 1.3, 2.0, 0.1, 3.3, 4.9, 0.0, 0.2, 1.0, 1.3, 0.5, 3.4, 0.8, 1.3, 0.5, 0.1, 1.7, 0.8, 3.8, 0.3, 0.9, 6.0, 0.0, 1.8, 4.5, 2.9, 0.4, 0.6666666666666666, 1.5, 7.5, 1.1, 0.6, 0.0, 2.5, 2.1, 1.6, 0.2, 1.0, 0.0, 2.6, 2.3, 1.8, 0.9, 1.6, 0.5, 1.7, 0.0, 1.0, 0.8, 2.0, 3.8, 1.0, 0.3, 2.1, 0.8, 2.1, 0.0, 0.2, 0.2, 1.9, 2.4, 1.6, 6.0, 2.0, 0.2, 1.9, 1.5, 0.5, 2.2, 1.7, 2.0, 2.9, 0.2, 1.1, 0.9, 1.2, 1.3, 1.4, 0.3, 0.5, 2.2, 2.2, 2.2, 2.1, 1.1, 0.3, 0.0, 0.8, 3.0, 2.6666666666666665, 0.1, 2.5, 0.1, 2.0, 0.9, 6.5, 2.2, 0.9, 0.2, 4.0, 1.3, 7.3, 1.3, 1.4, 2.0, 1.9, 0.7, 2.6, 0.9, 0.9, 2.8, 2.9, 4.4, 2.4, 2.2, 2.3, 6.0, 1.1, 0.2, 2.6, 0.9, 2.0, 0.5, 2.2, 0.4, 0.9, 0.8, 1.1, 0.3, 5.0, 1.0, 1.8, 1.5, 7.0, 2.7, 1.5, 2.6, 3.7, 1.7, 4.7, 2.4, 0.3, 2.2, 1.0, 2.1, 1.2, 0.2, 4.1, 0.6, 0.5, 2.0, 1.5, 1.6, 2.8, 1.1, 0.1, 3.0, 1.3, 0.8, 1.4, 0.7, 1.6, 0.8, 2.8, 2.4, 0.7, 0.0, 1.8, 1.2, 2.8, 0.8, 1.0, 1.5, 0.7, 0.7, 0.3, 0.2, 0.3, 0.1, 2.2, 2.0, 1.1, 1.8, 0.3, 0.3, 2.6, 1.8, 0.5, 1.7, 0.5, 2.7, 0.3, 0.1, 0.1, 1.7, 0.0, 1.8, 7.0, 0.8, 1.8, 0.7, 0.3, 6.8, 0.2, 2.9, 2.8, 0.3, 0.8, 1.1, 1.4, 2.3, 2.6, 1.7, 1.8, 4.0, 6.7, 1.0, 0.0, 0.6, 1.6, 0.2, 1.4, 2.2, 0.8, 2.1, 1.8, 4.333333333333333, 2.2, 1.3, 1.7, 0.4, 2.6, 2.6666666666666665, 1.9, 0.5, 0.7, 0.2, 1.1, 7.3, 0.3, 2.4, 1.7, 1.0, 0.4, 1.5, 8.8, 0.2, 1.3, 8.1, 2.1, 0.3, 1.4, 0.5, 1.2, 1.9, 1.8, 4.333333333333333, 1.6, 2.0, 2.5, 6.7, 1.8, 3.9, 1.3, 0.2, 1.6666666666666667, 0.5, 1.0, 6.1, 3.5, 1.5, 1.9, 0.7, 1.8, 2.7, 1.9, 1.3, 2.0, 0.5, 1.3, 1.0, 1.7, 1.7, 0.8, 2.5, 2.6, 0.4, 0.1, 0.4, 1.8, 2.5, 1.5, 2.4, 0.8, 3.8, 0.2, 2.8, 0.5, 0.6, 1.4, 0.3, 2.9, 0.4, 2.9, 1.6, 1.5, 1.0, 1.5, 2.1, 2.7, 0.8, 0.7, 0.5, 0.1, 1.1, 2.5, 0.3, 2.4, 2.1, 4.3, 1.5, 0.1, 1.3, 4.7, 1.1, 0.9, 0.1, 4.0, 0.7, 0.1, 0.6, 2.8, 0.0, 1.0, 3.9, 0.1, 2.3, 2.4, 2.9, 1.7, 0.3, 1.8, 1.5, 7.4, 2.6666666666666665, 1.6, 0.5, 0.8, 1.0, 0.1, 0.8, 2.1, 1.6, 8.1, 0.7, 2.1, 2.3, 0.5, 1.8, 0.5, 0.5, 1.1, 1.1, 2.1, 1.7, 1.5, 1.7, 6.666666666666667, 6.5, 2.0, 1.0, 0.3, 2.5, 0.3, 1.0, 7.0, 6.9, 0.7, 2.3, 2.1, 1.1, 3.7, 1.4, 0.3, 0.1, 1.3, 0.1, 0.2, 3.4, 1.5, 0.5, 7.4, 1.3, 2.2, 2.2, 0.2, 4.3, 1.5, 2.1, 2.8, 0.4, 2.8, 0.1, 1.5, 0.3, 0.7, 2.8, 2.8, 1.7, 0.1, 0.0, 0.2, 3.4, 1.5, 6.8, 2.8, 0.8, 1.3, 1.8, 2.0, 2.5, 2.0, 1.3, 2.2, 2.5, 0.7, 2.2, 1.4, 1.8, 1.2, 1.0, 0.2, 2.7, 0.6, 1.9, 2.0, 0.1, 4.7, 1.9, 0.4, 0.3, 2.8, 1.7, 1.0, 2.0, 0.8, 1.7, 1.7, 1.0, 1.9, 1.9, 6.333333333333333, 0.2, 1.0, 0.4, 2.0, 0.1, 1.4, 0.2, 0.2, 2.4, 1.4, 0.2, 1.0, 0.7, 0.4, 1.0, 1.6, 1.9, 1.4, 1.7, 6.666666666666667, 1.5, 2.0, 2.9, 1.9, 1.8, 0.9, 0.6, 2.3, 0.1, 2.0, 7.2, 1.6, 2.5, 0.5, 0.1, 3.6, 1.0, 0.3, 2.7, 8.8, 2.0, 0.7, 3.2, 4.5, 1.6, 0.4, 4.9, 1.3, 0.8, 8.1, 0.9, 2.6, 1.1, 1.8, 2.2, 1.9, 2.9, 6.0, 0.7, 0.7, 6.9, 2.2, 1.0, 8.1, 2.2, 3.3, 1.1, 3.2, 2.5, 2.2, 0.2, 1.0, 1.9, 0.0, 2.6, 0.7, 3.0, 3.8, 2.0, 0.8, 1.7, 2.1, 1.4, 1.0, 0.6, 2.3, 1.4, 0.1, 2.2, 3.9, 2.7, 2.5, 2.7, 2.2, 1.5, 2.0, 1.9, 1.0, 1.0, 0.6666666666666666, 5.2, 1.7, 0.2, 1.2, 0.2, 0.7, 6.7, 0.7, 1.1, 1.7, 1.0, 1.0, 0.3, 0.8, 0.1, 0.7, 3.4, 2.0, 0.5, 3.2, 1.7, 2.9, 1.7, 0.8, 1.8, 3.9, 2.0, 0.6, 0.3, 0.4, 2.1, 1.5, 1.3, 0.75, 2.6, 1.5, 1.5, 2.5, 0.3, 1.0, 2.1, 0.9, 1.7], \"z\": [0, 134, 0, 0, 0, 412, 211, 240, 0, 0, 0, 0, 0, 0, 0, 0, 0, 315, 0, 282, 99, 111, 325, 121, 251, 391, 0, 617, 0, 0, 82, 0, 0, 0, 0, 132, 0, 466, 0, 0, 0, 0, 119, 115, 0, 0, 0, 547, 0, 88, 0, 378, 0, 0, 485, 0, 0, 0, 0, 163, 0, 0, 282, 0, 0, 0, 0, 0, 0, 0, 0, 0, 91, 0, 0, 587, 0, 307, 0, 0, 170, 372, 301, 212, 0, 0, 138, 203, 140, 0, 249, 0, 231, 0, 0, 0, 357, 301, 0, 0, 0, 0, 0, 294, 97, 0, 0, 0, 329, 0, 184, 229, 0, 0, 0, 0, 0, 0, 0, 327, 0, 0, 149, 0, 197, 0, 0, 0, 99, 437, 0, 234, 0, 380, 0, 297, 0, 483, 0, 0, 305, 0, 0, 294, 0, 176, 0, 0, 237, 0, 147, 0, 0, 221, 0, 115, 0, 227, 0, 318, 342, 0, 0, 86, 0, 0, 0, 0, 0, 0, 0, 0, 0, 106, 0, 0, 421, 0, 0, 0, 84, 0, 567, 0, 0, 0, 86, 0, 0, 0, 142, 0, 342, 372, 0, 198, 246, 0, 589, 0, 0, 359, 0, 167, 0, 0, 535, 0, 0, 111, 0, 343, 0, 0, 0, 0, 0, 0, 255, 0, 0, 0, 0, 158, 0, 446, 0, 266, 0, 0, 0, 0, 0, 0, 0, 0, 0, 319, 192, 0, 299, 0, 0, 0, 0, 428, 0, 0, 106, 0, 301, 0, 422, 0, 0, 118, 0, 0, 0, 0, 171, 569, 0, 144, 0, 0, 374, 310, 0, 204, 0, 0, 123, 352, 0, 0, 0, 0, 432, 0, 477, 582, 0, 358, 0, 0, 0, 0, 0, 467, 0, 0, 565, 295, 0, 282, 0, 0, 327, 175, 0, 0, 0, 0, 522, 301, 0, 0, 0, 0, 0, 184, 221, 0, 0, 0, 0, 0, 0, 0, 0, 0, 0, 149, 0, 373, 120, 0, 0, 0, 0, 292, 0, 0, 0, 0, 0, 0, 354, 0, 0, 0, 442, 213, 0, 0, 0, 0, 0, 364, 431, 0, 0, 94, 0, 146, 210, 0, 272, 0, 416, 0, 209, 0, 368, 0, 0, 260, 0, 0, 75, 410, 0, 229, 161, 0, 0, 304, 449, 0, 259, 0, 0, 0, 277, 0, 0, 400, 0, 428, 0, 253, 0, 0, 0, 0, 0, 0, 351, 427, 194, 312, 0, 0, 0, 0, 0, 0, 0, 0, 0, 0, 183, 0, 0, 209, 0, 0, 216, 0, 0, 251, 0, 0, 205, 281, 0, 0, 308, 0, 0, 0, 0, 577, 0, 0, 0, 0, 0, 198, 422, 301, 0, 0, 0, 0, 0, 76, 0, 0, 571, 0, 0, 0, 81, 307, 0, 120, 0, 0, 581, 400, 0, 0, 0, 0, 150, 0, 612, 0, 590, 0, 541, 342, 0, 0, 0, 0, 0, 0, 104, 0, 0, 0, 0, 0, 0, 0, 0, 0, 0, 0, 0, 0, 135, 256, 91, 0, 0, 0, 0, 0, 0, 0, 0, 272, 0, 0, 80, 80, 0, 0, 124, 0, 190, 98, 0, 123, 0, 121, 0, 0, 0, 0, 0, 0, 265, 0, 0, 0, 0, 0, 83, 305, 110, 0, 0, 170, 89, 91, 0, 149, 0, 0, 0, 0, 0, 0, 0, 187, 0, 161, 125, 0, 0, 113, 0, 82, 0, 185, 0, 221, 0, 75, 0, 0, 0, 0, 122, 211, 0, 0, 0, 91, 0, 219, 333, 0, 0, 0, 0, 0, 119, 0, 314, 321, 121, 309, 0, 0, 108, 0, 0, 0, 0, 0, 98, 0, 102, 0, 0, 167, 0, 0, 0, 83, 0, 0, 230, 0, 0, 428, 105, 0, 0, 0, 0, 182, 0, 0, 0, 0, 229, 0, 263, 0, 105, 0, 89, 0, 0, 0, 0, 0, 0, 0, 244, 84, 0, 130, 0, 149, 87, 0, 0, 0, 366, 0, 0, 0, 0, 0, 0, 0, 0, 0, 0, 0, 0, 0, 0, 0, 0, 0, 0, 0, 0, 236, 228, 0, 0, 442, 0, 114, 0, 0, 345, 189, 0, 0, 0, 0, 0, 250, 0, 272, 0, 116, 0, 0, 0, 153, 154, 0, 0, 0, 0, 0, 91, 0, 0, 233, 126, 0, 160, 135, 76, 0, 0, 114, 361, 0, 0, 0, 91, 203, 218, 78, 0, 126, 0, 0, 0, 153, 199, 155, 0, 0, 0, 0, 0, 79, 0, 115, 0, 0, 0, 0, 0, 178, 0, 0, 192, 0, 166, 182, 0, 0, 83, 178, 0, 0, 0, 294, 0, 199, 359, 0, 99, 0, 0, 0, 103, 0, 0, 170, 102, 0, 0, 196, 0, 0, 0, 151, 0, 144, 0, 223, 0, 0, 0, 0, 85, 0, 0, 104, 0, 0, 0, 0, 0, 249, 84, 0, 0, 0, 0, 132, 127, 0, 0, 0, 0, 0, 0, 0, 0, 90, 0, 0, 179, 0, 148, 464, 0, 151, 0, 0, 81, 0, 0, 0, 112, 0, 0, 0, 0, 215, 181, 0, 0, 0, 0, 0, 0, 0, 0, 0, 0, 0, 115, 185, 0, 0, 0, 0, 0, 0, 0, 90, 185, 0, 0, 0, 0, 88, 0, 81, 0, 135, 108, 0, 0, 0, 0, 0, 0, 130, 0, 117, 0, 0, 0, 0, 128, 111, 0, 0, 0, 230, 0, 0, 0, 0, 0, 0, 0, 0, 0, 328, 252, 182, 0, 121, 143, 128, 0, 0, 0, 0, 159, 144, 82, 0, 0, 0, 280, 0, 101, 0, 383, 0, 114, 0, 0, 0, 0, 113, 0, 76, 328, 109, 565, 171, 185, 0, 175, 0, 146, 0, 0, 0, 0, 0, 119, 0, 0, 0, 0, 0, 0, 270, 137, 0, 109, 114, 120, 0, 104, 162, 0, 0, 100, 0, 0, 0, 0, 0, 114, 83, 0, 0, 83, 0, 175, 0, 0, 0, 0, 0, 0, 101, 0, 455, 0, 205, 0, 0, 0, 0, 81, 0, 0, 0, 0, 0, 0, 134, 0, 0, 0, 0, 0, 0, 0, 0, 0, 0, 0, 0, 223, 0, 101, 0, 104, 0, 0, 553, 144, 0, 98, 0, 0, 94, 78, 127, 121, 0, 0, 264, 0, 182, 0, 0, 0, 0, 0, 166, 98, 185, 91, 0, 0, 0, 0, 242, 0, 0, 0, 0, 146, 221, 118, 89, 0, 325, 0, 245, 0, 0, 0, 0, 193, 109, 0, 227, 217, 0, 0, 0, 0, 392, 0, 78, 0, 0, 0, 0, 96, 0, 0, 79, 127, 0, 0, 0, 0, 226, 0, 164, 0, 170, 0, 0, 287, 0, 0, 231, 0, 0, 0, 0, 214, 207, 146, 0, 152, 0, 0, 0, 0, 218, 366, 0, 0, 0, 0, 0, 193, 227, 0, 0, 86, 83, 100, 0, 109, 201, 0, 130, 0, 0, 0, 204, 0, 0, 192, 139, 0, 184, 120, 0, 0, 0, 0, 158, 0, 0, 0, 148, 0, 0, 0, 0, 224, 79, 0, 0, 219, 95, 92, 78, 0, 0, 0, 0, 0, 0, 0, 128, 0, 0, 240, 0, 118, 91, 248, 255, 168, 0, 0, 427, 0, 0, 329, 0, 0, 0, 0, 0, 110, 102, 0, 0, 0, 115, 101, 0, 0, 0, 0, 0, 0, 0, 0, 0, 0, 0, 127, 0, 0, 353, 0, 208, 0, 149, 0, 0, 0, 82, 0, 249, 0, 0, 0, 86, 0, 0, 228, 0, 0, 0, 86, 101, 0, 232, 0, 0, 0, 0, 0, 0, 157, 93, 0, 0, 293, 0, 0, 0, 0, 0, 162, 196, 0, 0, 408, 240, 0, 0, 0, 225, 178, 0, 219, 0, 148, 0, 0, 0, 0, 123, 272, 0, 0, 0, 0, 103, 0, 0, 0, 0, 0, 0, 0, 0, 200, 150, 0, 106, 0, 87, 0, 0, 0, 0, 0, 0, 78, 189, 509, 147, 408, 0, 0, 0, 97, 0, 0, 452, 0, 0, 207, 297, 0, 0, 0, 0, 0, 0, 0, 0, 0, 0, 0, 0, 79, 0, 0, 0, 0, 0, 0, 0, 0, 0, 0, 0, 0, 0, 98, 0, 0, 221, 0, 174, 0, 220, 0, 0, 0, 0, 83, 226, 0, 0, 0, 0, 0, 0, 0, 129, 0, 0, 0, 159, 184, 0, 0, 0, 227, 0, 0, 87, 78, 0, 0, 0, 102, 0, 88, 97, 0, 0, 0, 0, 245, 0, 106, 161, 0, 500, 0, 0, 0, 0, 0, 0, 91, 0, 0, 0, 0, 0, 83, 0, 0, 0, 131, 0, 0, 159, 0, 272, 118, 179, 0, 0, 178, 0, 218, 0, 0, 159, 0, 151, 0, 0, 138, 0, 0, 78, 0, 0, 0, 0, 0, 0, 103, 0, 151, 0, 0, 103, 0, 405, 0, 0, 0, 0, 0, 0, 0, 86, 98, 0, 0, 470, 0, 137, 207, 0, 429, 0, 0, 0, 160, 0, 0, 0, 0, 0, 0, 0, 182, 0, 84, 0, 0, 0, 87, 0, 142, 0, 0, 91, 0, 0, 0, 0, 0, 0, 119, 0, 0, 0, 0, 116, 0, 0, 0, 0, 0, 0, 0, 0, 170, 0, 0, 0, 0, 0, 0, 0, 0, 0, 188, 0, 0, 0, 0, 190, 85, 0, 0, 112, 0, 0, 0, 0, 0, 294, 0, 0, 0, 0, 105, 322, 107, 0, 0, 141, 207, 0, 0, 0, 0, 0, 145, 0, 0, 0, 0, 0, 0, 285, 0, 0, 0, 0, 136, 0, 0, 107, 308, 0, 84, 0, 0, 0, 0, 83, 0, 0, 0, 0, 166, 169, 0, 158, 0, 0, 0, 0, 0, 0, 78, 0, 0, 218, 0, 0, 366, 0, 0, 142, 131, 0, 0, 276, 160, 0, 86, 0, 100, 0, 0, 0, 0, 0, 0, 95, 0, 0, 119, 98, 270, 0, 183, 0, 0, 156, 0, 0, 0, 177, 352, 0, 144, 97, 0, 0, 120, 398, 0, 0, 0, 0, 0, 0, 0, 138, 101, 0, 182, 0, 0, 0, 0, 0, 0, 277, 157, 79, 0, 222, 0, 207, 333, 0, 89, 90, 91, 0, 342, 276, 0, 86, 0, 0, 0, 355, 194, 0, 0, 0, 0, 0, 155, 0, 0, 135, 0, 0, 0, 184, 0, 0, 102, 0, 0, 0, 0, 0, 0, 0, 0, 101, 0, 0, 0, 0, 128, 0, 0, 128, 103, 0, 0, 0, 0, 0, 0, 0, 76, 0, 0, 0, 0, 205, 0, 0, 331, 0, 0, 218, 144, 0, 103, 193, 0, 0, 0, 0, 0, 0, 0, 0, 119, 0, 0, 102, 0, 0, 0, 0, 0, 231, 0, 121, 142, 0, 0, 0, 108, 103, 0, 0, 156, 0, 111, 0, 0, 0, 341, 198, 109, 94, 0, 167, 0, 0, 81, 0, 133, 0, 0, 75, 0, 0, 161, 0, 86, 0, 0, 0, 481, 0, 126, 128, 0, 263, 0, 0, 224, 0, 0, 0, 0, 0, 0, 0, 0, 0, 0, 134, 0, 0, 111, 0, 0, 0, 0, 0, 0, 0, 0, 455, 0, 0, 0, 0, 125, 0, 138, 0, 0, 283, 0, 0, 0, 0, 0, 172, 103, 0, 0, 0, 142, 277, 0, 215, 209, 165, 329, 0, 271, 0, 0, 0, 0, 0, 0, 0, 0, 0, 0, 0, 0, 0, 0, 0, 0, 0, 284, 0, 0, 0, 130, 0, 0, 231, 0, 0, 93, 124, 0, 0, 0, 0, 0, 0, 104, 0, 0, 0, 0, 0, 0, 0, 415, 0, 0, 209, 0, 0, 303, 0, 0, 119, 0, 0, 212, 0, 0, 0, 0, 0, 0, 0, 0, 115, 0, 108, 0, 0, 0, 0, 0, 0, 0, 0, 89, 0, 0, 0, 205, 0, 0, 0, 0, 104, 0, 0, 0, 0, 159, 352, 148, 0, 0, 0, 147, 0, 0, 0, 0, 79, 0, 169, 0, 0, 0, 0, 0, 0, 0, 0, 120, 0, 0, 0, 170, 0, 341, 0, 0, 0, 259, 162, 0, 0, 0, 116, 0, 0, 0, 0, 0, 0, 0, 0, 87, 117, 0, 0, 0, 106, 0, 0]}],\n",
              "                        {\"coloraxis\": {\"colorbar\": {\"title\": {\"text\": \"Personal Loan\"}}, \"colorscale\": [[0.0, \"#0d0887\"], [0.1111111111111111, \"#46039f\"], [0.2222222222222222, \"#7201a8\"], [0.3333333333333333, \"#9c179e\"], [0.4444444444444444, \"#bd3786\"], [0.5555555555555556, \"#d8576b\"], [0.6666666666666666, \"#ed7953\"], [0.7777777777777778, \"#fb9f3a\"], [0.8888888888888888, \"#fdca26\"], [1.0, \"#f0f921\"]]}, \"legend\": {\"tracegroupgap\": 0}, \"margin\": {\"t\": 60}, \"scene\": {\"domain\": {\"x\": [0.0, 1.0], \"y\": [0.0, 1.0]}, \"xaxis\": {\"title\": {\"text\": \"Income\"}}, \"yaxis\": {\"title\": {\"text\": \"CCAvg\"}}, \"zaxis\": {\"title\": {\"text\": \"Mortgage\"}}}, \"template\": {\"data\": {\"bar\": [{\"error_x\": {\"color\": \"#2a3f5f\"}, \"error_y\": {\"color\": \"#2a3f5f\"}, \"marker\": {\"line\": {\"color\": \"#E5ECF6\", \"width\": 0.5}}, \"type\": \"bar\"}], \"barpolar\": [{\"marker\": {\"line\": {\"color\": \"#E5ECF6\", \"width\": 0.5}}, \"type\": \"barpolar\"}], \"carpet\": [{\"aaxis\": {\"endlinecolor\": \"#2a3f5f\", \"gridcolor\": \"white\", \"linecolor\": \"white\", \"minorgridcolor\": \"white\", \"startlinecolor\": \"#2a3f5f\"}, \"baxis\": {\"endlinecolor\": \"#2a3f5f\", \"gridcolor\": \"white\", \"linecolor\": \"white\", \"minorgridcolor\": \"white\", \"startlinecolor\": \"#2a3f5f\"}, \"type\": \"carpet\"}], \"choropleth\": [{\"colorbar\": {\"outlinewidth\": 0, \"ticks\": \"\"}, \"type\": \"choropleth\"}], \"contour\": [{\"colorbar\": {\"outlinewidth\": 0, \"ticks\": \"\"}, \"colorscale\": [[0.0, \"#0d0887\"], [0.1111111111111111, \"#46039f\"], [0.2222222222222222, \"#7201a8\"], [0.3333333333333333, \"#9c179e\"], [0.4444444444444444, \"#bd3786\"], [0.5555555555555556, \"#d8576b\"], [0.6666666666666666, \"#ed7953\"], [0.7777777777777778, \"#fb9f3a\"], [0.8888888888888888, \"#fdca26\"], [1.0, \"#f0f921\"]], \"type\": \"contour\"}], \"contourcarpet\": [{\"colorbar\": {\"outlinewidth\": 0, \"ticks\": \"\"}, \"type\": \"contourcarpet\"}], \"heatmap\": [{\"colorbar\": {\"outlinewidth\": 0, \"ticks\": \"\"}, \"colorscale\": [[0.0, \"#0d0887\"], [0.1111111111111111, \"#46039f\"], [0.2222222222222222, \"#7201a8\"], [0.3333333333333333, \"#9c179e\"], [0.4444444444444444, \"#bd3786\"], [0.5555555555555556, \"#d8576b\"], [0.6666666666666666, \"#ed7953\"], [0.7777777777777778, \"#fb9f3a\"], [0.8888888888888888, \"#fdca26\"], [1.0, \"#f0f921\"]], \"type\": \"heatmap\"}], \"heatmapgl\": [{\"colorbar\": {\"outlinewidth\": 0, \"ticks\": \"\"}, \"colorscale\": [[0.0, \"#0d0887\"], [0.1111111111111111, \"#46039f\"], [0.2222222222222222, \"#7201a8\"], [0.3333333333333333, \"#9c179e\"], [0.4444444444444444, \"#bd3786\"], [0.5555555555555556, \"#d8576b\"], [0.6666666666666666, \"#ed7953\"], [0.7777777777777778, \"#fb9f3a\"], [0.8888888888888888, \"#fdca26\"], [1.0, \"#f0f921\"]], \"type\": \"heatmapgl\"}], \"histogram\": [{\"marker\": {\"colorbar\": {\"outlinewidth\": 0, \"ticks\": \"\"}}, \"type\": \"histogram\"}], \"histogram2d\": [{\"colorbar\": {\"outlinewidth\": 0, \"ticks\": \"\"}, \"colorscale\": [[0.0, \"#0d0887\"], [0.1111111111111111, \"#46039f\"], [0.2222222222222222, \"#7201a8\"], [0.3333333333333333, \"#9c179e\"], [0.4444444444444444, \"#bd3786\"], [0.5555555555555556, \"#d8576b\"], [0.6666666666666666, \"#ed7953\"], [0.7777777777777778, \"#fb9f3a\"], [0.8888888888888888, \"#fdca26\"], [1.0, \"#f0f921\"]], \"type\": \"histogram2d\"}], \"histogram2dcontour\": [{\"colorbar\": {\"outlinewidth\": 0, \"ticks\": \"\"}, \"colorscale\": [[0.0, \"#0d0887\"], [0.1111111111111111, \"#46039f\"], [0.2222222222222222, \"#7201a8\"], [0.3333333333333333, \"#9c179e\"], [0.4444444444444444, \"#bd3786\"], [0.5555555555555556, \"#d8576b\"], [0.6666666666666666, \"#ed7953\"], [0.7777777777777778, \"#fb9f3a\"], [0.8888888888888888, \"#fdca26\"], [1.0, \"#f0f921\"]], \"type\": \"histogram2dcontour\"}], \"mesh3d\": [{\"colorbar\": {\"outlinewidth\": 0, \"ticks\": \"\"}, \"type\": \"mesh3d\"}], \"parcoords\": [{\"line\": {\"colorbar\": {\"outlinewidth\": 0, \"ticks\": \"\"}}, \"type\": \"parcoords\"}], \"pie\": [{\"automargin\": true, \"type\": \"pie\"}], \"scatter\": [{\"marker\": {\"colorbar\": {\"outlinewidth\": 0, \"ticks\": \"\"}}, \"type\": \"scatter\"}], \"scatter3d\": [{\"line\": {\"colorbar\": {\"outlinewidth\": 0, \"ticks\": \"\"}}, \"marker\": {\"colorbar\": {\"outlinewidth\": 0, \"ticks\": \"\"}}, \"type\": \"scatter3d\"}], \"scattercarpet\": [{\"marker\": {\"colorbar\": {\"outlinewidth\": 0, \"ticks\": \"\"}}, \"type\": \"scattercarpet\"}], \"scattergeo\": [{\"marker\": {\"colorbar\": {\"outlinewidth\": 0, \"ticks\": \"\"}}, \"type\": \"scattergeo\"}], \"scattergl\": [{\"marker\": {\"colorbar\": {\"outlinewidth\": 0, \"ticks\": \"\"}}, \"type\": \"scattergl\"}], \"scattermapbox\": [{\"marker\": {\"colorbar\": {\"outlinewidth\": 0, \"ticks\": \"\"}}, \"type\": \"scattermapbox\"}], \"scatterpolar\": [{\"marker\": {\"colorbar\": {\"outlinewidth\": 0, \"ticks\": \"\"}}, \"type\": \"scatterpolar\"}], \"scatterpolargl\": [{\"marker\": {\"colorbar\": {\"outlinewidth\": 0, \"ticks\": \"\"}}, \"type\": \"scatterpolargl\"}], \"scatterternary\": [{\"marker\": {\"colorbar\": {\"outlinewidth\": 0, \"ticks\": \"\"}}, \"type\": \"scatterternary\"}], \"surface\": [{\"colorbar\": {\"outlinewidth\": 0, \"ticks\": \"\"}, \"colorscale\": [[0.0, \"#0d0887\"], [0.1111111111111111, \"#46039f\"], [0.2222222222222222, \"#7201a8\"], [0.3333333333333333, \"#9c179e\"], [0.4444444444444444, \"#bd3786\"], [0.5555555555555556, \"#d8576b\"], [0.6666666666666666, \"#ed7953\"], [0.7777777777777778, \"#fb9f3a\"], [0.8888888888888888, \"#fdca26\"], [1.0, \"#f0f921\"]], \"type\": \"surface\"}], \"table\": [{\"cells\": {\"fill\": {\"color\": \"#EBF0F8\"}, \"line\": {\"color\": \"white\"}}, \"header\": {\"fill\": {\"color\": \"#C8D4E3\"}, \"line\": {\"color\": \"white\"}}, \"type\": \"table\"}]}, \"layout\": {\"annotationdefaults\": {\"arrowcolor\": \"#2a3f5f\", \"arrowhead\": 0, \"arrowwidth\": 1}, \"coloraxis\": {\"colorbar\": {\"outlinewidth\": 0, \"ticks\": \"\"}}, \"colorscale\": {\"diverging\": [[0, \"#8e0152\"], [0.1, \"#c51b7d\"], [0.2, \"#de77ae\"], [0.3, \"#f1b6da\"], [0.4, \"#fde0ef\"], [0.5, \"#f7f7f7\"], [0.6, \"#e6f5d0\"], [0.7, \"#b8e186\"], [0.8, \"#7fbc41\"], [0.9, \"#4d9221\"], [1, \"#276419\"]], \"sequential\": [[0.0, \"#0d0887\"], [0.1111111111111111, \"#46039f\"], [0.2222222222222222, \"#7201a8\"], [0.3333333333333333, \"#9c179e\"], [0.4444444444444444, \"#bd3786\"], [0.5555555555555556, \"#d8576b\"], [0.6666666666666666, \"#ed7953\"], [0.7777777777777778, \"#fb9f3a\"], [0.8888888888888888, \"#fdca26\"], [1.0, \"#f0f921\"]], \"sequentialminus\": [[0.0, \"#0d0887\"], [0.1111111111111111, \"#46039f\"], [0.2222222222222222, \"#7201a8\"], [0.3333333333333333, \"#9c179e\"], [0.4444444444444444, \"#bd3786\"], [0.5555555555555556, \"#d8576b\"], [0.6666666666666666, \"#ed7953\"], [0.7777777777777778, \"#fb9f3a\"], [0.8888888888888888, \"#fdca26\"], [1.0, \"#f0f921\"]]}, \"colorway\": [\"#636efa\", \"#EF553B\", \"#00cc96\", \"#ab63fa\", \"#FFA15A\", \"#19d3f3\", \"#FF6692\", \"#B6E880\", \"#FF97FF\", \"#FECB52\"], \"font\": {\"color\": \"#2a3f5f\"}, \"geo\": {\"bgcolor\": \"white\", \"lakecolor\": \"white\", \"landcolor\": \"#E5ECF6\", \"showlakes\": true, \"showland\": true, \"subunitcolor\": \"white\"}, \"hoverlabel\": {\"align\": \"left\"}, \"hovermode\": \"closest\", \"mapbox\": {\"style\": \"light\"}, \"paper_bgcolor\": \"white\", \"plot_bgcolor\": \"#E5ECF6\", \"polar\": {\"angularaxis\": {\"gridcolor\": \"white\", \"linecolor\": \"white\", \"ticks\": \"\"}, \"bgcolor\": \"#E5ECF6\", \"radialaxis\": {\"gridcolor\": \"white\", \"linecolor\": \"white\", \"ticks\": \"\"}}, \"scene\": {\"xaxis\": {\"backgroundcolor\": \"#E5ECF6\", \"gridcolor\": \"white\", \"gridwidth\": 2, \"linecolor\": \"white\", \"showbackground\": true, \"ticks\": \"\", \"zerolinecolor\": \"white\"}, \"yaxis\": {\"backgroundcolor\": \"#E5ECF6\", \"gridcolor\": \"white\", \"gridwidth\": 2, \"linecolor\": \"white\", \"showbackground\": true, \"ticks\": \"\", \"zerolinecolor\": \"white\"}, \"zaxis\": {\"backgroundcolor\": \"#E5ECF6\", \"gridcolor\": \"white\", \"gridwidth\": 2, \"linecolor\": \"white\", \"showbackground\": true, \"ticks\": \"\", \"zerolinecolor\": \"white\"}}, \"shapedefaults\": {\"line\": {\"color\": \"#2a3f5f\"}}, \"ternary\": {\"aaxis\": {\"gridcolor\": \"white\", \"linecolor\": \"white\", \"ticks\": \"\"}, \"baxis\": {\"gridcolor\": \"white\", \"linecolor\": \"white\", \"ticks\": \"\"}, \"bgcolor\": \"#E5ECF6\", \"caxis\": {\"gridcolor\": \"white\", \"linecolor\": \"white\", \"ticks\": \"\"}}, \"title\": {\"x\": 0.05}, \"xaxis\": {\"automargin\": true, \"gridcolor\": \"white\", \"linecolor\": \"white\", \"ticks\": \"\", \"title\": {\"standoff\": 15}, \"zerolinecolor\": \"white\", \"zerolinewidth\": 2}, \"yaxis\": {\"automargin\": true, \"gridcolor\": \"white\", \"linecolor\": \"white\", \"ticks\": \"\", \"title\": {\"standoff\": 15}, \"zerolinecolor\": \"white\", \"zerolinewidth\": 2}}}},\n",
              "                        {\"responsive\": true}\n",
              "                    ).then(function(){\n",
              "                            \n",
              "var gd = document.getElementById('f67b2024-44f5-4810-84d9-8e998dad6152');\n",
              "var x = new MutationObserver(function (mutations, observer) {{\n",
              "        var display = window.getComputedStyle(gd).display;\n",
              "        if (!display || display === 'none') {{\n",
              "            console.log([gd, 'removed!']);\n",
              "            Plotly.purge(gd);\n",
              "            observer.disconnect();\n",
              "        }}\n",
              "}});\n",
              "\n",
              "// Listen for the removal of the full notebook cells\n",
              "var notebookContainer = gd.closest('#notebook-container');\n",
              "if (notebookContainer) {{\n",
              "    x.observe(notebookContainer, {childList: true});\n",
              "}}\n",
              "\n",
              "// Listen for the clearing of the current output cell\n",
              "var outputEl = gd.closest('.output');\n",
              "if (outputEl) {{\n",
              "    x.observe(outputEl, {childList: true});\n",
              "}}\n",
              "\n",
              "                        })\n",
              "                };\n",
              "                \n",
              "            </script>\n",
              "        </div>\n",
              "</body>\n",
              "</html>"
            ]
          },
          "metadata": {}
        }
      ]
    },
    {
      "cell_type": "code",
      "metadata": {
        "colab": {
          "base_uri": "https://localhost:8080/"
        },
        "id": "5jRkFzULYI1v",
        "outputId": "96bda62f-6791-4608-c390-f6f0aa136fb5"
      },
      "source": [
        "#Segementação em  input e target e validação do shape\n",
        "X = df.drop(axis=1, columns=['Personal Loan'])\n",
        "y = df[['Personal Loan']]\n",
        "print('Shape do dados','\\n','x = ',X.shape,'\\n','Y = ',y.shape)"
      ],
      "execution_count": 121,
      "outputs": [
        {
          "output_type": "stream",
          "name": "stdout",
          "text": [
            "Shape do dados \n",
            " x =  (1980, 11) \n",
            " Y =  (1980, 1)\n"
          ]
        }
      ]
    },
    {
      "cell_type": "code",
      "metadata": {
        "id": "Yj85R_sQdiJ3"
      },
      "source": [
        "# Normalização das variáveis\n",
        "\n",
        "from sklearn.preprocessing import MinMaxScaler\n",
        "\n",
        "scaler = MinMaxScaler()\n",
        "scaler.fit(X_train)\n",
        "\n",
        "X_train_scaled = scaler.transform(X_train)\n",
        "X_test_scaled = scaler.transform(X_test)\n",
        "\n",
        "# Transformanda para dataframe para visualização\n",
        "X_train = pd.DataFrame(X_train_scaled,columns = X_train.columns)\n",
        "X_test = pd.DataFrame(X_test_scaled,columns = X_test.columns)\n"
      ],
      "execution_count": 122,
      "outputs": []
    },
    {
      "cell_type": "code",
      "metadata": {
        "id": "6mKr3t6cYeZQ"
      },
      "source": [
        "from sklearn.model_selection import train_test_split\n",
        "X_train, X_test, y_train, y_test = train_test_split(X, y, test_size=0.2, random_state=7)"
      ],
      "execution_count": 123,
      "outputs": []
    },
    {
      "cell_type": "code",
      "metadata": {
        "colab": {
          "base_uri": "https://localhost:8080/"
        },
        "id": "ZftkFsNMeGxC",
        "outputId": "f59f6080-0ea0-44a7-f78a-7db4f5c27009"
      },
      "source": [
        "print('Shape do dados','\\n','x = ',X_test.shape,'\\n','Y = ',y_test.shape)"
      ],
      "execution_count": 124,
      "outputs": [
        {
          "output_type": "stream",
          "name": "stdout",
          "text": [
            "Shape do dados \n",
            " x =  (396, 11) \n",
            " Y =  (396, 1)\n"
          ]
        }
      ]
    },
    {
      "cell_type": "markdown",
      "metadata": {
        "id": "UkvF4EdAQ_20"
      },
      "source": [
        "## Treinando o modelo"
      ]
    },
    {
      "cell_type": "code",
      "metadata": {
        "colab": {
          "base_uri": "https://localhost:8080/"
        },
        "id": "ES6w1_peddd_",
        "outputId": "6779f28c-9986-4ff1-b508-1205b8218ffb"
      },
      "source": [
        "\n",
        "from sklearn.neighbors import KNeighborsClassifier\n",
        "\n",
        "K_neighbors = 3\n",
        "\n",
        "clf = KNeighborsClassifier(n_neighbors=K_neighbors)\n",
        "clf.fit(X_train, y_train)"
      ],
      "execution_count": 125,
      "outputs": [
        {
          "output_type": "stream",
          "name": "stderr",
          "text": [
            "/usr/local/lib/python3.7/dist-packages/ipykernel_launcher.py:7: DataConversionWarning:\n",
            "\n",
            "A column-vector y was passed when a 1d array was expected. Please change the shape of y to (n_samples, ), for example using ravel().\n",
            "\n"
          ]
        },
        {
          "output_type": "execute_result",
          "data": {
            "text/plain": [
              "KNeighborsClassifier(algorithm='auto', leaf_size=30, metric='minkowski',\n",
              "                     metric_params=None, n_jobs=None, n_neighbors=3, p=2,\n",
              "                     weights='uniform')"
            ]
          },
          "metadata": {},
          "execution_count": 125
        }
      ]
    },
    {
      "cell_type": "code",
      "metadata": {
        "colab": {
          "base_uri": "https://localhost:8080/"
        },
        "id": "chUFM237dz7s",
        "outputId": "aef1d079-ef0f-494a-a627-3fd471979af4"
      },
      "source": [
        "y_pred = clf.predict(X_test)\n",
        "y_pred"
      ],
      "execution_count": 126,
      "outputs": [
        {
          "output_type": "execute_result",
          "data": {
            "text/plain": [
              "array([0, 0, 0, 0, 1, 0, 0, 0, 0, 0, 0, 0, 0, 0, 0, 0, 1, 0, 0, 1, 0, 0,\n",
              "       0, 0, 0, 1, 0, 0, 1, 0, 1, 1, 0, 0, 0, 0, 1, 0, 1, 1, 0, 0, 1, 0,\n",
              "       0, 1, 0, 1, 0, 1, 0, 0, 1, 0, 0, 0, 0, 1, 1, 0, 0, 0, 1, 0, 0, 1,\n",
              "       1, 0, 0, 1, 0, 0, 0, 0, 1, 0, 0, 0, 0, 1, 0, 1, 0, 0, 1, 0, 1, 1,\n",
              "       1, 0, 1, 0, 0, 0, 0, 0, 0, 0, 0, 1, 1, 1, 1, 0, 0, 0, 0, 1, 0, 1,\n",
              "       0, 0, 0, 1, 1, 1, 0, 1, 0, 0, 1, 0, 0, 1, 0, 0, 0, 0, 1, 0, 1, 0,\n",
              "       0, 0, 0, 0, 0, 0, 0, 1, 0, 1, 0, 0, 1, 1, 0, 0, 0, 0, 1, 0, 0, 1,\n",
              "       1, 0, 0, 0, 0, 0, 0, 0, 0, 0, 0, 0, 0, 0, 0, 0, 1, 0, 0, 0, 1, 0,\n",
              "       0, 0, 0, 0, 0, 1, 0, 1, 0, 0, 0, 0, 1, 0, 0, 0, 0, 0, 0, 0, 0, 0,\n",
              "       1, 1, 1, 1, 0, 0, 0, 0, 0, 0, 0, 0, 1, 0, 0, 0, 0, 1, 0, 0, 0, 0,\n",
              "       0, 0, 1, 0, 0, 1, 0, 1, 0, 1, 0, 1, 0, 0, 1, 0, 0, 0, 0, 1, 0, 0,\n",
              "       0, 0, 1, 1, 0, 1, 0, 0, 1, 0, 1, 0, 0, 0, 1, 0, 0, 0, 0, 1, 0, 0,\n",
              "       1, 0, 0, 0, 0, 1, 0, 0, 0, 1, 0, 0, 0, 1, 1, 0, 0, 0, 0, 0, 0, 0,\n",
              "       0, 0, 0, 0, 0, 0, 0, 0, 0, 0, 0, 1, 0, 0, 0, 0, 0, 0, 0, 0, 0, 0,\n",
              "       0, 0, 0, 1, 0, 0, 0, 0, 1, 0, 0, 0, 0, 1, 0, 0, 0, 0, 0, 0, 0, 0,\n",
              "       1, 1, 0, 0, 1, 1, 0, 0, 0, 0, 0, 0, 1, 1, 1, 0, 0, 1, 0, 0, 0, 1,\n",
              "       0, 0, 0, 0, 1, 0, 0, 1, 0, 0, 1, 1, 0, 0, 0, 0, 0, 0, 1, 1, 0, 1,\n",
              "       0, 1, 1, 0, 1, 0, 0, 0, 1, 0, 1, 0, 0, 0, 0, 0, 0, 0, 0, 0, 0, 0])"
            ]
          },
          "metadata": {},
          "execution_count": 126
        }
      ]
    },
    {
      "cell_type": "markdown",
      "metadata": {
        "id": "f8JgssJbRJ6C"
      },
      "source": [
        "## Avaliando métricas"
      ]
    },
    {
      "cell_type": "code",
      "metadata": {
        "colab": {
          "base_uri": "https://localhost:8080/"
        },
        "id": "xJ3dNbM1RPNV",
        "outputId": "9f0c3393-7649-4c95-aaec-a1e2d2159999"
      },
      "source": [
        "from sklearn.metrics import accuracy_score\n",
        "\n",
        "accuracy_score(y_test,y_pred)*100"
      ],
      "execution_count": 127,
      "outputs": [
        {
          "output_type": "execute_result",
          "data": {
            "text/plain": [
              "85.35353535353535"
            ]
          },
          "metadata": {},
          "execution_count": 127
        }
      ]
    },
    {
      "cell_type": "markdown",
      "metadata": {
        "id": "_9j3ObCwRze_"
      },
      "source": [
        "## Otimizando modelo"
      ]
    },
    {
      "cell_type": "code",
      "metadata": {
        "id": "vLnCMLTzR1rn"
      },
      "source": [
        "score_list = []\n",
        "K_neighbors = range(5,20)\n",
        "\n",
        "for k in K_neighbors:\n",
        "  knn = KNeighborsClassifier(n_neighbors=k)\n",
        "  knn.fit(X_train, y_train)\n",
        "  y_pred = knn.predict(X_test)\n",
        "  score_list.append(accuracy_score(y_test,y_pred)*100)"
      ],
      "execution_count": null,
      "outputs": []
    },
    {
      "cell_type": "code",
      "metadata": {
        "colab": {
          "base_uri": "https://localhost:8080/",
          "height": 297
        },
        "id": "sS7Lt8LGSvG2",
        "outputId": "1cc06672-102f-41d1-b57b-22e2faf12eb6"
      },
      "source": [
        "%matplotlib inline\n",
        "import matplotlib.pyplot as plt\n",
        "\n",
        "plt.plot(K_neighbors,score_list)\n",
        "plt.xlabel('Valor de K')\n",
        "plt.ylabel('Acurácia')"
      ],
      "execution_count": 134,
      "outputs": [
        {
          "output_type": "execute_result",
          "data": {
            "text/plain": [
              "Text(0, 0.5, 'Acurácia')"
            ]
          },
          "metadata": {},
          "execution_count": 134
        },
        {
          "output_type": "display_data",
          "data": {
            "image/png": "[encoded data removed]",
            "text/plain": [
              "<Figure size 432x288 with 1 Axes>"
            ]
          },
          "metadata": {
            "needs_background": "light"
          }
        }
      ]
    },
    {
      "cell_type": "markdown",
      "metadata": {
        "id": "dR00Uk2uTj8C"
      },
      "source": [
        "## Reavaliando modelo otimizado"
      ]
    },
    {
      "cell_type": "code",
      "metadata": {
        "colab": {
          "base_uri": "https://localhost:8080/"
        },
        "id": "eMtKoAfDTnVE",
        "outputId": "014b30d4-aab0-4c69-83b9-8d1baca0d171"
      },
      "source": [
        "K_neighbors = 13\n",
        "\n",
        "otm = KNeighborsClassifier(n_neighbors=K_neighbors)\n",
        "otm.fit(X_train, y_train)\n",
        "y_pred = otm.predict(X_test)\n",
        "accuracy_score(y_test,y_pred)*100"
      ],
      "execution_count": 135,
      "outputs": [
        {
          "output_type": "stream",
          "name": "stderr",
          "text": [
            "/usr/local/lib/python3.7/dist-packages/ipykernel_launcher.py:4: DataConversionWarning:\n",
            "\n",
            "A column-vector y was passed when a 1d array was expected. Please change the shape of y to (n_samples, ), for example using ravel().\n",
            "\n"
          ]
        },
        {
          "output_type": "execute_result",
          "data": {
            "text/plain": [
              "86.11111111111111"
            ]
          },
          "metadata": {},
          "execution_count": 135
        }
      ]
    }
  ]
}