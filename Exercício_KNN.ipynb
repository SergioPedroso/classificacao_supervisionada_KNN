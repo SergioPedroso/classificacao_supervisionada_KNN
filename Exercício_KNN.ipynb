{
  "nbformat": 4,
  "nbformat_minor": 0,
  "metadata": {
    "colab": {
      "name": "Exercício KNN.ipynb",
      "provenance": [],
      "collapsed_sections": [],
      "toc_visible": true,
      "mount_file_id": "1Kx66ECDk-C-mHpgeVB2bwCxyEJQ2Imat",
      "authorship_tag": "ABX9TyMfERoqtVe3B2TUcCgP2EFo",
      "include_colab_link": true
    },
    "kernelspec": {
      "name": "python3",
      "display_name": "Python 3"
    },
    "language_info": {
      "name": "python"
    }
  },
  "cells": [
    {
      "cell_type": "markdown",
      "metadata": {
        "id": "view-in-github",
        "colab_type": "text"
      },
      "source": [
        "<a href=\"https://colab.research.google.com/github/SergioPedroso/classificacao_supervisionada_KNN/blob/main/Exerc%C3%ADcio_KNN.ipynb\" target=\"_parent\"><img src=\"https://colab.research.google.com/assets/colab-badge.svg\" alt=\"Open In Colab\"/></a>"
      ]
    },
    {
      "cell_type": "markdown",
      "metadata": {
        "id": "TiFI6PbnZkos"
      },
      "source": [
        "## Importando o arquivo"
      ]
    },
    {
      "cell_type": "code",
      "metadata": {
        "colab": {
          "resources": {
            "http://localhost:8080/nbextensions/google.colab/files.js": {
              "data": "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",
              "ok": true,
              "headers": [
                [
                  "content-type",
                  "application/javascript"
                ]
              ],
              "status": 200,
              "status_text": "OK"
            }
          },
          "base_uri": "https://localhost:8080/",
          "height": 74
        },
        "id": "7NYD-TGlUt-B",
        "outputId": "e6bb87df-9137-4f6d-e486-63d02dbb0425"
      },
      "source": [
        "from google.colab import files\n",
        "upload = files.upload()"
      ],
      "execution_count": 1,
      "outputs": [
        {
          "output_type": "display_data",
          "data": {
            "text/html": [
              "\n",
              "     <input type=\"file\" id=\"files-52494bc7-ea6a-4e97-9e89-b425cf26ca6c\" name=\"files[]\" multiple disabled\n",
              "        style=\"border:none\" />\n",
              "     <output id=\"result-52494bc7-ea6a-4e97-9e89-b425cf26ca6c\">\n",
              "      Upload widget is only available when the cell has been executed in the\n",
              "      current browser session. Please rerun this cell to enable.\n",
              "      </output>\n",
              "      <script src=\"/nbextensions/google.colab/files.js\"></script> "
            ],
            "text/plain": [
              "<IPython.core.display.HTML object>"
            ]
          },
          "metadata": {}
        },
        {
          "output_type": "stream",
          "name": "stdout",
          "text": [
            "Saving [Copy] - Bank_Personal_Loan_Modelling.xlsx to [Copy] - Bank_Personal_Loan_Modelling.xlsx\n"
          ]
        }
      ]
    },
    {
      "cell_type": "markdown",
      "metadata": {
        "id": "5bCiKmWPZtpe"
      },
      "source": [
        "## Preparando o dataframe"
      ]
    },
    {
      "cell_type": "code",
      "metadata": {
        "id": "oXii2HPYV28A"
      },
      "source": [
        "import pandas as pd\n",
        "import numpy as np"
      ],
      "execution_count": 17,
      "outputs": []
    },
    {
      "cell_type": "code",
      "metadata": {
        "colab": {
          "base_uri": "https://localhost:8080/",
          "height": 206
        },
        "id": "6R-NXof-V62e",
        "outputId": "0572ec01-6fc5-4a55-c3ce-55a7b47bc0df"
      },
      "source": [
        "df = pd.read_excel('[Copy] - Bank_Personal_Loan_Modelling.xlsx', sheet_name='Data')\n",
        "df = df.drop(axis=1, columns=['ID','ZIP Code'])\n",
        "df.head()"
      ],
      "execution_count": 46,
      "outputs": [
        {
          "output_type": "execute_result",
          "data": {
            "text/html": [
              "<div>\n",
              "<style scoped>\n",
              "    .dataframe tbody tr th:only-of-type {\n",
              "        vertical-align: middle;\n",
              "    }\n",
              "\n",
              "    .dataframe tbody tr th {\n",
              "        vertical-align: top;\n",
              "    }\n",
              "\n",
              "    .dataframe thead th {\n",
              "        text-align: right;\n",
              "    }\n",
              "</style>\n",
              "<table border=\"1\" class=\"dataframe\">\n",
              "  <thead>\n",
              "    <tr style=\"text-align: right;\">\n",
              "      <th></th>\n",
              "      <th>Age</th>\n",
              "      <th>Experience</th>\n",
              "      <th>Income</th>\n",
              "      <th>Family</th>\n",
              "      <th>CCAvg</th>\n",
              "      <th>Education</th>\n",
              "      <th>Mortgage</th>\n",
              "      <th>Personal Loan</th>\n",
              "      <th>Securities Account</th>\n",
              "      <th>CD Account</th>\n",
              "      <th>Online</th>\n",
              "      <th>CreditCard</th>\n",
              "    </tr>\n",
              "  </thead>\n",
              "  <tbody>\n",
              "    <tr>\n",
              "      <th>0</th>\n",
              "      <td>25</td>\n",
              "      <td>1</td>\n",
              "      <td>49</td>\n",
              "      <td>4</td>\n",
              "      <td>1.6</td>\n",
              "      <td>1</td>\n",
              "      <td>0</td>\n",
              "      <td>0</td>\n",
              "      <td>1</td>\n",
              "      <td>0</td>\n",
              "      <td>0</td>\n",
              "      <td>0</td>\n",
              "    </tr>\n",
              "    <tr>\n",
              "      <th>1</th>\n",
              "      <td>45</td>\n",
              "      <td>19</td>\n",
              "      <td>34</td>\n",
              "      <td>3</td>\n",
              "      <td>1.5</td>\n",
              "      <td>1</td>\n",
              "      <td>0</td>\n",
              "      <td>0</td>\n",
              "      <td>1</td>\n",
              "      <td>0</td>\n",
              "      <td>0</td>\n",
              "      <td>0</td>\n",
              "    </tr>\n",
              "    <tr>\n",
              "      <th>2</th>\n",
              "      <td>39</td>\n",
              "      <td>15</td>\n",
              "      <td>11</td>\n",
              "      <td>1</td>\n",
              "      <td>1.0</td>\n",
              "      <td>1</td>\n",
              "      <td>0</td>\n",
              "      <td>0</td>\n",
              "      <td>0</td>\n",
              "      <td>0</td>\n",
              "      <td>0</td>\n",
              "      <td>0</td>\n",
              "    </tr>\n",
              "    <tr>\n",
              "      <th>3</th>\n",
              "      <td>35</td>\n",
              "      <td>9</td>\n",
              "      <td>100</td>\n",
              "      <td>1</td>\n",
              "      <td>2.7</td>\n",
              "      <td>2</td>\n",
              "      <td>0</td>\n",
              "      <td>0</td>\n",
              "      <td>0</td>\n",
              "      <td>0</td>\n",
              "      <td>0</td>\n",
              "      <td>0</td>\n",
              "    </tr>\n",
              "    <tr>\n",
              "      <th>4</th>\n",
              "      <td>35</td>\n",
              "      <td>8</td>\n",
              "      <td>45</td>\n",
              "      <td>4</td>\n",
              "      <td>1.0</td>\n",
              "      <td>2</td>\n",
              "      <td>0</td>\n",
              "      <td>0</td>\n",
              "      <td>0</td>\n",
              "      <td>0</td>\n",
              "      <td>0</td>\n",
              "      <td>1</td>\n",
              "    </tr>\n",
              "  </tbody>\n",
              "</table>\n",
              "</div>"
            ],
            "text/plain": [
              "   Age  Experience  Income  ...  CD Account  Online  CreditCard\n",
              "0   25           1      49  ...           0       0           0\n",
              "1   45          19      34  ...           0       0           0\n",
              "2   39          15      11  ...           0       0           0\n",
              "3   35           9     100  ...           0       0           0\n",
              "4   35           8      45  ...           0       0           1\n",
              "\n",
              "[5 rows x 12 columns]"
            ]
          },
          "metadata": {},
          "execution_count": 46
        }
      ]
    },
    {
      "cell_type": "code",
      "metadata": {
        "colab": {
          "base_uri": "https://localhost:8080/",
          "height": 337
        },
        "id": "MpQaf2Afas9D",
        "outputId": "05e283de-af11-44d2-9650-1d6bca9cbaac"
      },
      "source": [
        "df.describe()"
      ],
      "execution_count": 47,
      "outputs": [
        {
          "output_type": "execute_result",
          "data": {
            "text/html": [
              "<div>\n",
              "<style scoped>\n",
              "    .dataframe tbody tr th:only-of-type {\n",
              "        vertical-align: middle;\n",
              "    }\n",
              "\n",
              "    .dataframe tbody tr th {\n",
              "        vertical-align: top;\n",
              "    }\n",
              "\n",
              "    .dataframe thead th {\n",
              "        text-align: right;\n",
              "    }\n",
              "</style>\n",
              "<table border=\"1\" class=\"dataframe\">\n",
              "  <thead>\n",
              "    <tr style=\"text-align: right;\">\n",
              "      <th></th>\n",
              "      <th>Age</th>\n",
              "      <th>Experience</th>\n",
              "      <th>Income</th>\n",
              "      <th>Family</th>\n",
              "      <th>CCAvg</th>\n",
              "      <th>Education</th>\n",
              "      <th>Mortgage</th>\n",
              "      <th>Personal Loan</th>\n",
              "      <th>Securities Account</th>\n",
              "      <th>CD Account</th>\n",
              "      <th>Online</th>\n",
              "      <th>CreditCard</th>\n",
              "    </tr>\n",
              "  </thead>\n",
              "  <tbody>\n",
              "    <tr>\n",
              "      <th>count</th>\n",
              "      <td>5000.000000</td>\n",
              "      <td>5000.000000</td>\n",
              "      <td>5000.000000</td>\n",
              "      <td>5000.000000</td>\n",
              "      <td>5000.000000</td>\n",
              "      <td>5000.000000</td>\n",
              "      <td>5000.000000</td>\n",
              "      <td>5000.000000</td>\n",
              "      <td>5000.000000</td>\n",
              "      <td>5000.00000</td>\n",
              "      <td>5000.000000</td>\n",
              "      <td>5000.000000</td>\n",
              "    </tr>\n",
              "    <tr>\n",
              "      <th>mean</th>\n",
              "      <td>45.338400</td>\n",
              "      <td>20.104600</td>\n",
              "      <td>73.774200</td>\n",
              "      <td>2.396400</td>\n",
              "      <td>1.937913</td>\n",
              "      <td>1.881000</td>\n",
              "      <td>56.498800</td>\n",
              "      <td>0.096000</td>\n",
              "      <td>0.104400</td>\n",
              "      <td>0.06040</td>\n",
              "      <td>0.596800</td>\n",
              "      <td>0.294000</td>\n",
              "    </tr>\n",
              "    <tr>\n",
              "      <th>std</th>\n",
              "      <td>11.463166</td>\n",
              "      <td>11.467954</td>\n",
              "      <td>46.033729</td>\n",
              "      <td>1.147663</td>\n",
              "      <td>1.747666</td>\n",
              "      <td>0.839869</td>\n",
              "      <td>101.713802</td>\n",
              "      <td>0.294621</td>\n",
              "      <td>0.305809</td>\n",
              "      <td>0.23825</td>\n",
              "      <td>0.490589</td>\n",
              "      <td>0.455637</td>\n",
              "    </tr>\n",
              "    <tr>\n",
              "      <th>min</th>\n",
              "      <td>23.000000</td>\n",
              "      <td>-3.000000</td>\n",
              "      <td>8.000000</td>\n",
              "      <td>1.000000</td>\n",
              "      <td>0.000000</td>\n",
              "      <td>1.000000</td>\n",
              "      <td>0.000000</td>\n",
              "      <td>0.000000</td>\n",
              "      <td>0.000000</td>\n",
              "      <td>0.00000</td>\n",
              "      <td>0.000000</td>\n",
              "      <td>0.000000</td>\n",
              "    </tr>\n",
              "    <tr>\n",
              "      <th>25%</th>\n",
              "      <td>35.000000</td>\n",
              "      <td>10.000000</td>\n",
              "      <td>39.000000</td>\n",
              "      <td>1.000000</td>\n",
              "      <td>0.700000</td>\n",
              "      <td>1.000000</td>\n",
              "      <td>0.000000</td>\n",
              "      <td>0.000000</td>\n",
              "      <td>0.000000</td>\n",
              "      <td>0.00000</td>\n",
              "      <td>0.000000</td>\n",
              "      <td>0.000000</td>\n",
              "    </tr>\n",
              "    <tr>\n",
              "      <th>50%</th>\n",
              "      <td>45.000000</td>\n",
              "      <td>20.000000</td>\n",
              "      <td>64.000000</td>\n",
              "      <td>2.000000</td>\n",
              "      <td>1.500000</td>\n",
              "      <td>2.000000</td>\n",
              "      <td>0.000000</td>\n",
              "      <td>0.000000</td>\n",
              "      <td>0.000000</td>\n",
              "      <td>0.00000</td>\n",
              "      <td>1.000000</td>\n",
              "      <td>0.000000</td>\n",
              "    </tr>\n",
              "    <tr>\n",
              "      <th>75%</th>\n",
              "      <td>55.000000</td>\n",
              "      <td>30.000000</td>\n",
              "      <td>98.000000</td>\n",
              "      <td>3.000000</td>\n",
              "      <td>2.500000</td>\n",
              "      <td>3.000000</td>\n",
              "      <td>101.000000</td>\n",
              "      <td>0.000000</td>\n",
              "      <td>0.000000</td>\n",
              "      <td>0.00000</td>\n",
              "      <td>1.000000</td>\n",
              "      <td>1.000000</td>\n",
              "    </tr>\n",
              "    <tr>\n",
              "      <th>max</th>\n",
              "      <td>67.000000</td>\n",
              "      <td>43.000000</td>\n",
              "      <td>224.000000</td>\n",
              "      <td>4.000000</td>\n",
              "      <td>10.000000</td>\n",
              "      <td>3.000000</td>\n",
              "      <td>635.000000</td>\n",
              "      <td>1.000000</td>\n",
              "      <td>1.000000</td>\n",
              "      <td>1.00000</td>\n",
              "      <td>1.000000</td>\n",
              "      <td>1.000000</td>\n",
              "    </tr>\n",
              "  </tbody>\n",
              "</table>\n",
              "</div>"
            ],
            "text/plain": [
              "               Age   Experience  ...       Online   CreditCard\n",
              "count  5000.000000  5000.000000  ...  5000.000000  5000.000000\n",
              "mean     45.338400    20.104600  ...     0.596800     0.294000\n",
              "std      11.463166    11.467954  ...     0.490589     0.455637\n",
              "min      23.000000    -3.000000  ...     0.000000     0.000000\n",
              "25%      35.000000    10.000000  ...     0.000000     0.000000\n",
              "50%      45.000000    20.000000  ...     1.000000     0.000000\n",
              "75%      55.000000    30.000000  ...     1.000000     1.000000\n",
              "max      67.000000    43.000000  ...     1.000000     1.000000\n",
              "\n",
              "[8 rows x 12 columns]"
            ]
          },
          "metadata": {},
          "execution_count": 47
        }
      ]
    },
    {
      "cell_type": "code",
      "metadata": {
        "colab": {
          "base_uri": "https://localhost:8080/",
          "height": 337
        },
        "id": "I168capna7Rz",
        "outputId": "f260b497-07da-4ab4-a99c-44ec9ad27c9e"
      },
      "source": [
        "df = df.loc[df['Experience']>=0]\n",
        "df.describe()"
      ],
      "execution_count": 48,
      "outputs": [
        {
          "output_type": "execute_result",
          "data": {
            "text/html": [
              "<div>\n",
              "<style scoped>\n",
              "    .dataframe tbody tr th:only-of-type {\n",
              "        vertical-align: middle;\n",
              "    }\n",
              "\n",
              "    .dataframe tbody tr th {\n",
              "        vertical-align: top;\n",
              "    }\n",
              "\n",
              "    .dataframe thead th {\n",
              "        text-align: right;\n",
              "    }\n",
              "</style>\n",
              "<table border=\"1\" class=\"dataframe\">\n",
              "  <thead>\n",
              "    <tr style=\"text-align: right;\">\n",
              "      <th></th>\n",
              "      <th>Age</th>\n",
              "      <th>Experience</th>\n",
              "      <th>Income</th>\n",
              "      <th>Family</th>\n",
              "      <th>CCAvg</th>\n",
              "      <th>Education</th>\n",
              "      <th>Mortgage</th>\n",
              "      <th>Personal Loan</th>\n",
              "      <th>Securities Account</th>\n",
              "      <th>CD Account</th>\n",
              "      <th>Online</th>\n",
              "      <th>CreditCard</th>\n",
              "    </tr>\n",
              "  </thead>\n",
              "  <tbody>\n",
              "    <tr>\n",
              "      <th>count</th>\n",
              "      <td>4948.000000</td>\n",
              "      <td>4948.000000</td>\n",
              "      <td>4948.000000</td>\n",
              "      <td>4948.000000</td>\n",
              "      <td>4948.0000</td>\n",
              "      <td>4948.000000</td>\n",
              "      <td>4948.000000</td>\n",
              "      <td>4948.000000</td>\n",
              "      <td>4948.000000</td>\n",
              "      <td>4948.000000</td>\n",
              "      <td>4948.000000</td>\n",
              "      <td>4948.000000</td>\n",
              "    </tr>\n",
              "    <tr>\n",
              "      <th>mean</th>\n",
              "      <td>45.557195</td>\n",
              "      <td>20.331043</td>\n",
              "      <td>73.814470</td>\n",
              "      <td>2.391471</td>\n",
              "      <td>1.9359</td>\n",
              "      <td>1.878941</td>\n",
              "      <td>56.634398</td>\n",
              "      <td>0.097009</td>\n",
              "      <td>0.104285</td>\n",
              "      <td>0.061035</td>\n",
              "      <td>0.597009</td>\n",
              "      <td>0.294058</td>\n",
              "    </tr>\n",
              "    <tr>\n",
              "      <th>std</th>\n",
              "      <td>11.320735</td>\n",
              "      <td>11.311973</td>\n",
              "      <td>46.112596</td>\n",
              "      <td>1.148444</td>\n",
              "      <td>1.7477</td>\n",
              "      <td>0.839745</td>\n",
              "      <td>101.828885</td>\n",
              "      <td>0.296000</td>\n",
              "      <td>0.305660</td>\n",
              "      <td>0.239418</td>\n",
              "      <td>0.490549</td>\n",
              "      <td>0.455664</td>\n",
              "    </tr>\n",
              "    <tr>\n",
              "      <th>min</th>\n",
              "      <td>24.000000</td>\n",
              "      <td>0.000000</td>\n",
              "      <td>8.000000</td>\n",
              "      <td>1.000000</td>\n",
              "      <td>0.0000</td>\n",
              "      <td>1.000000</td>\n",
              "      <td>0.000000</td>\n",
              "      <td>0.000000</td>\n",
              "      <td>0.000000</td>\n",
              "      <td>0.000000</td>\n",
              "      <td>0.000000</td>\n",
              "      <td>0.000000</td>\n",
              "    </tr>\n",
              "    <tr>\n",
              "      <th>25%</th>\n",
              "      <td>36.000000</td>\n",
              "      <td>10.750000</td>\n",
              "      <td>39.000000</td>\n",
              "      <td>1.000000</td>\n",
              "      <td>0.7000</td>\n",
              "      <td>1.000000</td>\n",
              "      <td>0.000000</td>\n",
              "      <td>0.000000</td>\n",
              "      <td>0.000000</td>\n",
              "      <td>0.000000</td>\n",
              "      <td>0.000000</td>\n",
              "      <td>0.000000</td>\n",
              "    </tr>\n",
              "    <tr>\n",
              "      <th>50%</th>\n",
              "      <td>46.000000</td>\n",
              "      <td>20.000000</td>\n",
              "      <td>64.000000</td>\n",
              "      <td>2.000000</td>\n",
              "      <td>1.5000</td>\n",
              "      <td>2.000000</td>\n",
              "      <td>0.000000</td>\n",
              "      <td>0.000000</td>\n",
              "      <td>0.000000</td>\n",
              "      <td>0.000000</td>\n",
              "      <td>1.000000</td>\n",
              "      <td>0.000000</td>\n",
              "    </tr>\n",
              "    <tr>\n",
              "      <th>75%</th>\n",
              "      <td>55.000000</td>\n",
              "      <td>30.000000</td>\n",
              "      <td>98.000000</td>\n",
              "      <td>3.000000</td>\n",
              "      <td>2.6000</td>\n",
              "      <td>3.000000</td>\n",
              "      <td>101.000000</td>\n",
              "      <td>0.000000</td>\n",
              "      <td>0.000000</td>\n",
              "      <td>0.000000</td>\n",
              "      <td>1.000000</td>\n",
              "      <td>1.000000</td>\n",
              "    </tr>\n",
              "    <tr>\n",
              "      <th>max</th>\n",
              "      <td>67.000000</td>\n",
              "      <td>43.000000</td>\n",
              "      <td>224.000000</td>\n",
              "      <td>4.000000</td>\n",
              "      <td>10.0000</td>\n",
              "      <td>3.000000</td>\n",
              "      <td>635.000000</td>\n",
              "      <td>1.000000</td>\n",
              "      <td>1.000000</td>\n",
              "      <td>1.000000</td>\n",
              "      <td>1.000000</td>\n",
              "      <td>1.000000</td>\n",
              "    </tr>\n",
              "  </tbody>\n",
              "</table>\n",
              "</div>"
            ],
            "text/plain": [
              "               Age   Experience  ...       Online   CreditCard\n",
              "count  4948.000000  4948.000000  ...  4948.000000  4948.000000\n",
              "mean     45.557195    20.331043  ...     0.597009     0.294058\n",
              "std      11.320735    11.311973  ...     0.490549     0.455664\n",
              "min      24.000000     0.000000  ...     0.000000     0.000000\n",
              "25%      36.000000    10.750000  ...     0.000000     0.000000\n",
              "50%      46.000000    20.000000  ...     1.000000     0.000000\n",
              "75%      55.000000    30.000000  ...     1.000000     1.000000\n",
              "max      67.000000    43.000000  ...     1.000000     1.000000\n",
              "\n",
              "[8 rows x 12 columns]"
            ]
          },
          "metadata": {},
          "execution_count": 48
        }
      ]
    },
    {
      "cell_type": "code",
      "metadata": {
        "colab": {
          "base_uri": "https://localhost:8080/"
        },
        "id": "XCWokXV3dDjU",
        "outputId": "16667445-9711-45c3-d5e8-a22d54363515"
      },
      "source": [
        "df.isnull().sum()"
      ],
      "execution_count": 49,
      "outputs": [
        {
          "output_type": "execute_result",
          "data": {
            "text/plain": [
              "Age                   0\n",
              "Experience            0\n",
              "Income                0\n",
              "Family                0\n",
              "CCAvg                 0\n",
              "Education             0\n",
              "Mortgage              0\n",
              "Personal Loan         0\n",
              "Securities Account    0\n",
              "CD Account            0\n",
              "Online                0\n",
              "CreditCard            0\n",
              "dtype: int64"
            ]
          },
          "metadata": {},
          "execution_count": 49
        }
      ]
    },
    {
      "cell_type": "code",
      "metadata": {
        "colab": {
          "base_uri": "https://localhost:8080/",
          "height": 542
        },
        "id": "n00CNBieOL1_",
        "outputId": "a0f7d5d3-cd07-4401-9ab4-a7ce661044f3"
      },
      "source": [
        "#Visualizando clusters\n",
        "import plotly.express as px\n",
        "\n",
        "fig = px.scatter_3d(df, x = 'Income', y = 'CCAvg', z = 'Mortgage',color ='Personal Loan')\n",
        "fig.show()"
      ],
      "execution_count": 50,
      "outputs": [
        {
          "output_type": "display_data",
          "data": {
            "text/html": [
              "<html>\n",
              "<head><meta charset=\"utf-8\" /></head>\n",
              "<body>\n",
              "    <div>\n",
              "            <script src=\"https://cdnjs.cloudflare.com/ajax/libs/mathjax/2.7.5/MathJax.js?config=TeX-AMS-MML_SVG\"></script><script type=\"text/javascript\">if (window.MathJax) {MathJax.Hub.Config({SVG: {font: \"STIX-Web\"}});}</script>\n",
              "                <script type=\"text/javascript\">window.PlotlyConfig = {MathJaxConfig: 'local'};</script>\n",
              "        <script src=\"https://cdn.plot.ly/plotly-latest.min.js\"></script>    \n",
              "            <div id=\"2798bebd-0165-472c-ac06-5fbcb92b01f3\" class=\"plotly-graph-div\" style=\"height:525px; width:100%;\"></div>\n",
              "            <script type=\"text/javascript\">\n",
              "                \n",
              "                    window.PLOTLYENV=window.PLOTLYENV || {};\n",
              "                    \n",
              "                if (document.getElementById(\"2798bebd-0165-472c-ac06-5fbcb92b01f3\")) {\n",
              "                    Plotly.newPlot(\n",
              "                        '2798bebd-0165-472c-ac06-5fbcb92b01f3',\n",
              "                        [{\"hoverlabel\": {\"namelength\": 0}, \"hovertemplate\": \"Income=%{x}<br>CCAvg=%{y}<br>Mortgage=%{z}<br>Personal Loan=%{marker.color}\", \"legendgroup\": \"\", \"marker\": {\"color\": [0, 0, 0, 0, 0, 0, 0, 0, 0, 1, 0, 0, 0, 0, 0, 0, 1, 0, 1, 0, 0, 0, 0, 0, 0, 0, 0, 0, 0, 1, 0, 0, 0, 0, 0, 0, 0, 0, 1, 0, 0, 0, 1, 0, 0, 0, 0, 1, 0, 0, 0, 0, 0, 1, 0, 0, 0, 1, 0, 0, 0, 0, 0, 0, 0, 0, 0, 0, 0, 0, 0, 0, 0, 0, 0, 1, 0, 0, 1, 0, 0, 0, 0, 0, 0, 0, 0, 0, 0, 1, 0, 0, 0, 0, 0, 0, 0, 0, 0, 0, 0, 0, 0, 0, 0, 0, 0, 0, 0, 0, 0, 0, 0, 0, 0, 0, 0, 0, 0, 0, 0, 0, 0, 0, 0, 0, 0, 0, 0, 0, 1, 0, 0, 0, 0, 0, 0, 0, 0, 0, 0, 0, 0, 0, 0, 0, 0, 0, 0, 0, 1, 0, 0, 0, 0, 0, 0, 0, 0, 1, 0, 0, 0, 0, 0, 0, 0, 0, 0, 0, 0, 0, 0, 1, 0, 0, 0, 0, 0, 0, 0, 0, 1, 0, 0, 0, 1, 0, 0, 0, 0, 0, 0, 0, 0, 0, 0, 0, 1, 0, 0, 0, 0, 0, 0, 0, 0, 0, 1, 0, 0, 0, 0, 0, 0, 0, 0, 0, 0, 0, 0, 0, 0, 0, 0, 0, 0, 0, 0, 0, 0, 0, 0, 0, 0, 0, 0, 0, 0, 0, 0, 1, 0, 0, 0, 1, 0, 0, 0, 1, 0, 0, 1, 0, 0, 0, 0, 0, 0, 1, 0, 0, 0, 0, 0, 0, 0, 0, 0, 0, 0, 0, 0, 0, 0, 0, 0, 0, 0, 0, 0, 0, 0, 0, 0, 0, 1, 0, 0, 0, 0, 0, 0, 0, 0, 0, 0, 1, 0, 0, 0, 1, 0, 0, 0, 0, 0, 0, 0, 0, 0, 0, 0, 1, 1, 0, 0, 0, 1, 1, 1, 1, 0, 0, 0, 0, 0, 0, 0, 0, 0, 0, 0, 0, 0, 0, 0, 0, 0, 0, 0, 0, 0, 0, 0, 1, 1, 0, 1, 0, 0, 0, 0, 0, 0, 0, 0, 0, 0, 0, 0, 0, 1, 0, 0, 0, 0, 0, 0, 0, 0, 0, 0, 0, 0, 0, 0, 0, 0, 1, 0, 0, 0, 0, 0, 1, 0, 0, 0, 0, 0, 0, 0, 0, 0, 0, 0, 1, 0, 0, 0, 0, 0, 0, 0, 0, 0, 0, 0, 0, 0, 0, 0, 0, 0, 0, 0, 0, 1, 0, 0, 0, 0, 0, 0, 0, 0, 0, 0, 0, 0, 0, 0, 0, 0, 1, 0, 0, 0, 1, 0, 0, 0, 0, 0, 0, 0, 0, 0, 0, 0, 0, 0, 0, 0, 0, 0, 0, 1, 1, 1, 0, 0, 0, 0, 0, 0, 0, 0, 1, 0, 1, 0, 0, 0, 0, 0, 0, 1, 0, 0, 0, 0, 0, 0, 0, 0, 0, 0, 0, 0, 0, 0, 0, 0, 0, 0, 0, 0, 0, 0, 1, 0, 0, 0, 0, 0, 0, 0, 0, 0, 0, 0, 0, 0, 0, 0, 0, 0, 0, 0, 0, 0, 1, 0, 0, 0, 0, 0, 0, 0, 1, 0, 0, 0, 0, 0, 0, 0, 0, 0, 0, 0, 0, 0, 0, 0, 0, 0, 0, 0, 0, 0, 0, 0, 0, 0, 0, 0, 1, 0, 0, 0, 1, 0, 0, 0, 0, 0, 0, 0, 0, 0, 0, 0, 0, 0, 0, 0, 0, 0, 0, 0, 0, 0, 0, 0, 1, 0, 0, 0, 0, 0, 0, 0, 0, 0, 1, 0, 0, 0, 0, 0, 0, 0, 0, 0, 0, 0, 0, 1, 0, 0, 0, 0, 0, 0, 0, 0, 0, 0, 0, 1, 0, 0, 0, 0, 0, 0, 0, 0, 0, 0, 0, 0, 0, 0, 0, 0, 1, 0, 0, 0, 1, 0, 0, 0, 0, 0, 0, 0, 1, 0, 0, 0, 0, 0, 0, 0, 1, 0, 0, 0, 0, 0, 0, 0, 0, 0, 1, 0, 0, 0, 0, 0, 0, 0, 0, 0, 0, 0, 0, 0, 0, 0, 0, 0, 0, 0, 1, 0, 0, 0, 0, 0, 0, 0, 0, 0, 0, 0, 0, 0, 0, 0, 0, 0, 0, 0, 1, 0, 0, 0, 0, 0, 1, 0, 0, 0, 0, 0, 0, 0, 1, 1, 0, 0, 0, 0, 0, 0, 0, 0, 0, 0, 0, 0, 0, 0, 0, 0, 0, 0, 0, 0, 0, 0, 0, 0, 0, 0, 0, 1, 0, 0, 0, 0, 1, 0, 1, 0, 0, 0, 1, 0, 0, 1, 0, 1, 1, 0, 0, 0, 0, 1, 0, 0, 0, 0, 0, 0, 0, 0, 0, 0, 0, 0, 0, 0, 0, 0, 1, 0, 0, 0, 0, 0, 0, 0, 1, 0, 0, 0, 0, 0, 0, 0, 0, 0, 0, 0, 0, 0, 0, 0, 0, 0, 0, 0, 0, 1, 0, 0, 0, 0, 0, 0, 0, 0, 0, 0, 0, 0, 0, 0, 0, 0, 0, 0, 0, 0, 0, 0, 0, 0, 1, 0, 0, 0, 0, 0, 0, 0, 0, 0, 0, 0, 0, 0, 0, 0, 0, 0, 0, 0, 0, 0, 0, 0, 0, 0, 0, 0, 0, 1, 0, 1, 0, 0, 0, 0, 1, 0, 0, 1, 0, 0, 0, 0, 0, 0, 0, 0, 0, 0, 0, 0, 0, 1, 0, 0, 0, 0, 0, 0, 0, 0, 0, 0, 0, 0, 1, 0, 0, 0, 0, 0, 0, 0, 0, 0, 0, 0, 0, 1, 1, 0, 0, 0, 0, 0, 0, 0, 0, 0, 1, 0, 0, 1, 0, 0, 0, 0, 0, 0, 0, 0, 0, 0, 1, 0, 0, 0, 0, 0, 1, 0, 0, 0, 1, 0, 0, 0, 0, 0, 1, 0, 0, 0, 0, 0, 0, 0, 0, 0, 0, 0, 1, 0, 0, 0, 0, 0, 0, 0, 0, 0, 0, 0, 0, 0, 1, 0, 0, 0, 0, 0, 0, 1, 0, 0, 0, 0, 0, 0, 0, 1, 0, 1, 0, 0, 0, 1, 0, 0, 0, 0, 0, 0, 0, 0, 0, 1, 1, 0, 0, 0, 0, 0, 0, 0, 0, 0, 0, 1, 0, 0, 0, 0, 0, 0, 0, 0, 0, 0, 0, 1, 0, 1, 0, 1, 0, 0, 1, 0, 0, 0, 0, 0, 0, 0, 1, 0, 0, 0, 0, 0, 0, 1, 0, 0, 0, 0, 0, 0, 0, 0, 0, 0, 0, 0, 1, 0, 0, 0, 0, 0, 0, 0, 1, 0, 0, 0, 0, 0, 0, 0, 0, 0, 0, 0, 0, 0, 0, 0, 0, 0, 0, 0, 0, 1, 0, 1, 1, 0, 0, 0, 0, 0, 0, 0, 1, 0, 0, 0, 1, 0, 1, 0, 0, 0, 0, 0, 0, 0, 0, 0, 0, 0, 0, 0, 0, 0, 0, 0, 1, 0, 0, 1, 0, 1, 0, 0, 0, 0, 0, 0, 0, 0, 1, 1, 0, 0, 0, 0, 0, 0, 0, 0, 0, 0, 0, 0, 0, 0, 0, 0, 0, 1, 0, 0, 0, 0, 0, 0, 0, 0, 1, 0, 1, 0, 0, 0, 0, 0, 0, 0, 0, 0, 0, 0, 0, 0, 0, 0, 0, 0, 0, 1, 0, 0, 0, 0, 0, 0, 0, 0, 0, 0, 0, 1, 0, 0, 0, 0, 0, 0, 1, 0, 0, 0, 0, 0, 0, 0, 0, 0, 0, 0, 0, 0, 0, 0, 0, 0, 0, 0, 0, 0, 0, 0, 0, 0, 0, 0, 0, 1, 0, 0, 0, 0, 0, 0, 0, 0, 0, 0, 0, 1, 0, 0, 0, 0, 0, 0, 1, 0, 0, 0, 0, 0, 0, 0, 0, 0, 0, 0, 0, 0, 0, 0, 0, 0, 0, 0, 0, 0, 0, 0, 0, 0, 0, 0, 1, 0, 0, 0, 0, 0, 0, 0, 1, 0, 0, 0, 0, 0, 0, 0, 0, 1, 0, 1, 0, 0, 0, 0, 0, 0, 0, 0, 0, 1, 0, 0, 0, 0, 0, 0, 0, 0, 0, 0, 0, 0, 0, 0, 0, 0, 0, 0, 0, 0, 0, 0, 1, 1, 0, 1, 0, 0, 0, 0, 0, 0, 0, 0, 0, 0, 0, 0, 0, 0, 0, 0, 0, 0, 0, 1, 0, 0, 0, 0, 0, 0, 1, 0, 0, 1, 0, 1, 1, 0, 0, 1, 0, 0, 0, 0, 0, 0, 1, 0, 0, 0, 0, 0, 0, 0, 0, 0, 0, 0, 0, 0, 0, 0, 0, 0, 0, 0, 0, 0, 0, 0, 0, 1, 0, 0, 0, 0, 0, 0, 0, 0, 0, 0, 0, 0, 0, 0, 0, 0, 0, 0, 0, 0, 0, 0, 0, 0, 0, 0, 0, 0, 0, 0, 0, 0, 0, 1, 0, 0, 0, 0, 0, 0, 0, 1, 0, 0, 0, 0, 0, 0, 0, 0, 1, 0, 0, 0, 1, 0, 0, 0, 0, 1, 0, 0, 0, 0, 0, 0, 0, 0, 0, 0, 0, 0, 0, 1, 0, 0, 0, 0, 1, 0, 0, 0, 0, 0, 0, 0, 0, 0, 0, 0, 0, 0, 0, 0, 0, 0, 0, 0, 0, 0, 0, 0, 0, 0, 0, 0, 0, 0, 0, 0, 0, 0, 0, 1, 0, 0, 0, 0, 0, 0, 0, 0, 0, 0, 1, 0, 0, 0, 0, 0, 0, 1, 0, 1, 0, 0, 1, 1, 0, 0, 0, 0, 0, 1, 0, 0, 1, 0, 0, 0, 0, 0, 0, 0, 0, 0, 0, 1, 1, 0, 0, 0, 0, 0, 0, 0, 0, 0, 0, 0, 1, 0, 0, 0, 0, 0, 0, 0, 0, 0, 0, 0, 0, 1, 0, 1, 1, 0, 0, 0, 0, 1, 0, 0, 0, 1, 0, 0, 0, 0, 0, 0, 0, 0, 0, 1, 1, 0, 0, 0, 0, 0, 0, 1, 0, 0, 0, 0, 0, 0, 1, 0, 0, 0, 0, 0, 1, 0, 1, 0, 0, 0, 0, 1, 0, 0, 0, 0, 0, 0, 0, 0, 0, 0, 0, 0, 0, 0, 0, 0, 0, 0, 0, 0, 0, 0, 0, 0, 0, 0, 0, 0, 0, 0, 0, 0, 0, 0, 0, 0, 0, 0, 0, 0, 0, 0, 0, 0, 0, 0, 0, 0, 0, 0, 0, 1, 0, 0, 0, 0, 0, 0, 0, 0, 0, 0, 0, 0, 0, 0, 0, 0, 0, 0, 0, 0, 1, 0, 0, 0, 0, 0, 0, 0, 0, 0, 0, 0, 0, 0, 0, 0, 1, 0, 0, 0, 0, 0, 0, 0, 0, 0, 0, 0, 0, 0, 0, 0, 1, 0, 0, 0, 0, 1, 0, 0, 0, 1, 1, 0, 0, 0, 1, 0, 0, 0, 0, 0, 0, 0, 0, 0, 0, 0, 0, 0, 0, 0, 0, 0, 0, 0, 0, 0, 0, 0, 1, 0, 1, 1, 0, 0, 0, 0, 0, 0, 0, 1, 0, 0, 0, 0, 0, 0, 0, 0, 0, 0, 0, 0, 0, 0, 0, 0, 0, 0, 0, 0, 0, 0, 0, 0, 0, 0, 1, 0, 0, 0, 0, 0, 0, 0, 0, 0, 1, 0, 0, 0, 0, 0, 0, 0, 0, 0, 0, 0, 1, 0, 0, 0, 0, 0, 0, 1, 0, 0, 0, 0, 0, 0, 0, 0, 0, 0, 0, 0, 0, 0, 0, 0, 0, 0, 0, 0, 0, 1, 1, 0, 0, 0, 0, 1, 0, 0, 0, 0, 0, 0, 0, 0, 0, 0, 0, 0, 0, 0, 0, 0, 1, 0, 1, 0, 0, 0, 0, 0, 0, 0, 0, 0, 0, 0, 0, 0, 0, 0, 0, 0, 0, 0, 0, 0, 0, 0, 0, 0, 0, 0, 0, 0, 0, 0, 0, 0, 0, 0, 0, 0, 0, 0, 0, 0, 0, 0, 0, 0, 0, 0, 0, 0, 0, 0, 0, 0, 0, 0, 0, 0, 0, 0, 0, 1, 0, 0, 1, 1, 0, 0, 1, 0, 0, 0, 0, 0, 0, 0, 0, 1, 0, 0, 0, 0, 0, 0, 1, 0, 0, 1, 0, 0, 0, 0, 0, 0, 0, 0, 0, 0, 0, 0, 0, 0, 0, 0, 1, 0, 0, 0, 0, 1, 1, 0, 0, 0, 0, 0, 0, 0, 0, 0, 0, 0, 0, 0, 1, 0, 0, 0, 0, 0, 0, 0, 0, 0, 0, 0, 0, 0, 0, 0, 1, 0, 0, 0, 0, 0, 0, 0, 0, 0, 1, 0, 0, 0, 0, 0, 0, 0, 1, 0, 0, 0, 0, 0, 1, 0, 0, 0, 0, 0, 0, 1, 0, 0, 0, 0, 0, 0, 0, 0, 0, 0, 0, 0, 0, 0, 0, 0, 0, 0, 0, 0, 0, 0, 0, 0, 0, 0, 1, 0, 0, 0, 0, 0, 0, 0, 1, 0, 0, 0, 0, 0, 0, 0, 0, 0, 0, 0, 0, 0, 1, 1, 0, 0, 0, 0, 0, 0, 0, 0, 0, 0, 0, 0, 0, 0, 0, 0, 0, 0, 1, 0, 0, 0, 0, 0, 1, 0, 0, 0, 0, 0, 0, 0, 0, 0, 1, 0, 1, 0, 0, 0, 0, 0, 0, 0, 0, 0, 0, 1, 0, 0, 0, 0, 0, 0, 0, 1, 0, 1, 0, 0, 0, 0, 0, 0, 0, 0, 0, 0, 0, 0, 1, 0, 0, 0, 0, 0, 0, 0, 0, 0, 0, 0, 0, 0, 0, 0, 1, 0, 0, 0, 0, 0, 0, 0, 0, 0, 0, 0, 0, 0, 0, 1, 1, 0, 0, 0, 0, 1, 1, 0, 0, 0, 0, 0, 0, 0, 1, 0, 0, 0, 0, 0, 0, 0, 0, 1, 0, 0, 0, 0, 0, 0, 1, 0, 0, 0, 0, 0, 0, 0, 0, 0, 0, 0, 1, 0, 0, 0, 0, 0, 0, 0, 0, 0, 0, 1, 0, 1, 0, 0, 0, 0, 0, 0, 0, 0, 0, 0, 1, 0, 0, 0, 0, 0, 0, 0, 0, 1, 0, 0, 0, 0, 0, 0, 0, 1, 0, 0, 0, 0, 0, 0, 0, 0, 0, 0, 1, 0, 0, 1, 0, 1, 0, 0, 0, 0, 0, 0, 0, 0, 0, 0, 0, 1, 0, 0, 0, 0, 0, 0, 0, 0, 1, 0, 0, 1, 0, 0, 0, 0, 0, 1, 0, 0, 0, 0, 0, 0, 0, 0, 1, 0, 0, 1, 0, 0, 0, 0, 0, 0, 0, 0, 0, 0, 0, 0, 0, 0, 0, 0, 0, 0, 0, 0, 0, 0, 0, 0, 1, 0, 0, 0, 1, 0, 0, 0, 0, 0, 0, 0, 0, 0, 1, 0, 0, 0, 0, 0, 0, 0, 0, 0, 0, 0, 1, 0, 0, 0, 0, 0, 0, 0, 0, 0, 0, 0, 0, 0, 0, 0, 0, 0, 0, 0, 0, 1, 0, 0, 0, 0, 0, 0, 0, 0, 0, 0, 0, 0, 1, 0, 0, 0, 0, 0, 0, 0, 0, 0, 0, 0, 1, 0, 0, 0, 0, 0, 0, 0, 0, 1, 0, 0, 0, 0, 0, 0, 0, 0, 0, 0, 0, 0, 0, 0, 0, 0, 0, 0, 0, 0, 0, 1, 0, 0, 1, 0, 0, 1, 0, 1, 0, 0, 1, 0, 0, 0, 0, 0, 0, 0, 0, 0, 0, 0, 0, 0, 0, 0, 1, 0, 0, 0, 0, 0, 0, 0, 0, 0, 0, 0, 0, 0, 0, 0, 0, 0, 0, 0, 0, 0, 0, 1, 0, 1, 0, 0, 0, 1, 0, 0, 1, 0, 0, 0, 0, 0, 0, 0, 0, 1, 0, 0, 0, 0, 0, 0, 0, 0, 0, 0, 1, 1, 0, 0, 0, 0, 0, 0, 0, 1, 0, 0, 0, 0, 0, 0, 0, 0, 0, 0, 0, 0, 0, 0, 0, 0, 0, 0, 0, 0, 0, 0, 1, 0, 0, 0, 0, 0, 0, 0, 0, 0, 0, 0, 0, 0, 0, 0, 0, 0, 1, 0, 0, 0, 0, 0, 0, 0, 1, 0, 0, 0, 0, 0, 1, 0, 0, 0, 0, 0, 0, 0, 0, 0, 0, 0, 0, 1, 0, 0, 0, 0, 0, 0, 0, 0, 0, 0, 0, 0, 0, 0, 0, 1, 0, 0, 0, 0, 0, 0, 1, 0, 0, 0, 0, 0, 1, 0, 0, 0, 0, 0, 0, 0, 0, 0, 0, 0, 0, 0, 0, 0, 0, 0, 0, 0, 0, 0, 0, 0, 0, 0, 0, 0, 0, 0, 0, 0, 1, 0, 0, 0, 0, 0, 0, 0, 0, 0, 0, 0, 0, 0, 0, 0, 1, 0, 0, 1, 1, 0, 0, 0, 0, 0, 1, 0, 0, 0, 0, 1, 0, 0, 0, 0, 0, 0, 0, 0, 0, 0, 0, 0, 0, 0, 0, 0, 0, 1, 0, 0, 1, 0, 0, 0, 1, 0, 0, 1, 0, 0, 0, 0, 0, 0, 0, 0, 0, 0, 0, 0, 0, 0, 0, 0, 0, 0, 0, 1, 0, 0, 0, 0, 0, 1, 0, 0, 1, 0, 0, 0, 0, 0, 0, 0, 0, 0, 0, 0, 0, 0, 1, 1, 0, 1, 0, 0, 0, 0, 0, 0, 0, 0, 0, 0, 0, 0, 0, 0, 1, 0, 0, 1, 0, 0, 0, 0, 0, 0, 1, 0, 0, 0, 0, 0, 0, 0, 0, 0, 0, 0, 0, 1, 0, 0, 0, 0, 0, 1, 0, 0, 0, 0, 0, 1, 0, 1, 0, 0, 0, 0, 0, 0, 0, 0, 0, 0, 0, 0, 0, 0, 0, 0, 0, 0, 0, 0, 0, 0, 0, 0, 0, 0, 0, 0, 0, 0, 0, 0, 0, 0, 0, 0, 0, 0, 1, 0, 0, 0, 0, 1, 0, 0, 0, 0, 0, 0, 0, 0, 0, 0, 1, 0, 1, 0, 0, 0, 0, 0, 0, 0, 0, 0, 0, 0, 0, 0, 0, 1, 0, 0, 0, 0, 0, 0, 0, 0, 0, 1, 0, 0, 0, 1, 0, 0, 0, 0, 1, 1, 0, 0, 0, 0, 0, 0, 0, 0, 0, 0, 0, 0, 0, 0, 0, 0, 0, 0, 0, 0, 0, 0, 0, 0, 0, 0, 1, 0, 0, 0, 1, 0, 1, 0, 0, 0, 0, 0, 0, 0, 0, 0, 0, 0, 0, 0, 0, 1, 0, 0, 0, 0, 0, 1, 0, 0, 0, 0, 0, 0, 0, 0, 0, 0, 0, 0, 0, 0, 0, 0, 0, 0, 0, 0, 0, 0, 1, 0, 0, 0, 0, 0, 0, 0, 0, 0, 0, 0, 1, 0, 0, 0, 0, 0, 0, 0, 0, 0, 0, 0, 0, 0, 0, 0, 0, 0, 0, 0, 0, 0, 0, 0, 0, 0, 0, 0, 0, 0, 0, 0, 0, 0, 0, 0, 0, 0, 0, 0, 0, 0, 0, 0, 1, 1, 0, 0, 1, 0, 0, 0, 0, 1, 0, 0, 0, 1, 0, 0, 0, 0, 1, 0, 0, 0, 0, 0, 0, 0, 0, 0, 0, 0, 0, 0, 0, 0, 0, 0, 0, 0, 0, 0, 0, 0, 0, 0, 0, 0, 0, 0, 0, 0, 0, 0, 0, 0, 0, 0, 0, 0, 0, 0, 0, 0, 0, 0, 0, 0, 0, 1, 0, 0, 0, 0, 0, 0, 0, 1, 0, 0, 0, 0, 0, 0, 0, 0, 0, 0, 0, 0, 0, 0, 0, 0, 0, 0, 0, 0, 0, 0, 0, 0, 0, 0, 0, 0, 0, 0, 0, 0, 0, 0, 0, 0, 0, 0, 0, 0, 0, 0, 0, 0, 0, 0, 0, 0, 0, 0, 1, 0, 1, 1, 0, 0, 0, 0, 1, 0, 0, 0, 0, 0, 0, 0, 0, 0, 1, 0, 0, 0, 0, 0, 1, 1, 0, 0, 0, 0, 0, 0, 0, 0, 0, 0, 0, 0, 0, 0, 0, 0, 0, 0, 0, 0, 0, 1, 1, 0, 0, 0, 0, 0, 0, 1, 1, 0, 0, 0, 0, 0, 0, 0, 0, 0, 0, 0, 1, 0, 0, 0, 1, 0, 0, 0, 0, 0, 0, 0, 0, 0, 0, 0, 0, 1, 0, 0, 0, 0, 0, 0, 0, 0, 0, 0, 0, 1, 0, 0, 0, 0, 1, 0, 0, 0, 0, 0, 0, 0, 0, 0, 1, 0, 0, 1, 0, 0, 0, 0, 0, 0, 0, 0, 0, 0, 0, 0, 0, 0, 0, 1, 0, 0, 0, 0, 0, 0, 0, 0, 0, 0, 0, 0, 0, 0, 0, 0, 0, 0, 0, 0, 0, 0, 0, 0, 0, 0, 0, 0, 0, 0, 0, 0, 0, 0, 0, 0, 0, 0, 0, 0, 0, 0, 0, 0, 1, 0, 0, 0, 0, 0, 0, 1, 0, 0, 0, 0, 0, 0, 0, 1, 0, 0, 1, 0, 0, 0, 0, 1, 0, 0, 0, 0, 0, 1, 0, 0, 0, 0, 0, 0, 0, 0, 0, 0, 1, 0, 0, 0, 0, 0, 0, 0, 0, 1, 0, 0, 0, 0, 0, 0, 0, 0, 0, 1, 0, 0, 0, 0, 0, 0, 0, 0, 1, 0, 0, 0, 0, 0, 0, 0, 0, 0, 0, 0, 0, 0, 0, 0, 0, 0, 0, 0, 0, 0, 0, 0, 1, 1, 0, 0, 0, 0, 0, 0, 0, 0, 0, 0, 0, 0, 0, 0, 0, 0, 0, 0, 0, 1, 1, 0, 0, 0, 0, 0, 0, 0, 1, 0, 1, 0, 0, 0, 0, 1, 0, 0, 0, 0, 0, 0, 0, 0, 0, 0, 0, 0, 0, 0, 0, 0, 0, 0, 0, 0, 0, 0, 0, 0, 0, 0, 1, 0, 0, 0, 0, 0, 0, 1, 1, 1, 0, 0, 0, 0, 0, 0, 0, 0, 0, 0, 0, 0, 0, 0, 0, 0, 0, 0, 0, 0, 0, 0, 0, 0, 0, 0, 0, 0, 0, 0, 1, 0, 0, 0, 0, 1, 0, 0, 0, 0, 0, 0, 0, 0, 0, 1, 0, 0, 0, 0, 0, 0, 1, 0, 0, 0, 0, 0, 0, 0, 0, 0, 0, 0, 0, 0, 0, 0, 0, 0, 0, 0, 0, 0, 0, 0, 0, 0, 0, 0, 0, 0, 0, 0, 0, 0, 1, 0, 1, 0, 0, 0, 0, 0, 0, 0, 0, 0, 0, 0, 0, 0, 0, 0, 1, 0, 0, 0, 0, 0, 0, 0, 1, 0, 0, 0, 0, 0, 0, 0, 0, 0, 0, 0, 0, 0, 0, 0, 0, 0, 0, 1, 0, 0, 0, 0, 0, 0, 0, 0, 0, 1, 0, 0, 0, 0, 0, 0, 0, 0, 1, 0, 0, 0, 0, 0, 0, 0, 0, 0, 1, 0, 0, 0, 0, 0, 0, 0, 1, 0, 0, 0, 0, 0, 0, 0, 0, 0, 0, 0, 0, 0, 0, 0, 0, 0, 0, 0, 0, 0, 0, 0, 0, 0, 0, 0, 0, 0, 0, 0, 0, 0, 0, 0, 1, 1, 0, 0, 0, 0, 0, 0, 0, 0, 0, 0, 0, 1, 0, 0, 0, 0, 0, 0, 0, 1, 0, 0, 0, 0, 0, 0, 0, 0, 0, 0, 0, 0, 0, 0, 1, 0, 0, 0, 0, 0, 1, 0, 0, 0, 0, 0, 0, 0, 0, 0, 0, 0, 0, 0, 0, 0, 0, 0, 0, 0, 0, 0, 0, 0, 0, 1, 0, 0, 0, 0, 0, 0, 0, 0, 0, 0, 0, 0, 0, 0, 0, 0, 0, 0, 0, 0, 0, 0, 0, 0, 0, 0, 0, 0, 1, 0, 0, 0, 0, 0, 0, 0, 0, 0, 0, 0, 0, 0, 0, 0, 0, 0, 0, 0, 0, 0, 0, 0, 1, 0, 1, 1, 1, 0, 0, 0, 0, 0, 0, 0, 0, 0, 0, 1, 0, 0, 0, 0, 0, 0, 0, 0, 0, 0, 0, 0, 0, 0, 0, 0, 0, 0, 0, 0, 0, 0, 0, 1, 0, 0, 1, 0, 1, 0, 0, 0, 1, 0, 0, 0, 0, 0, 0, 0, 1, 0, 0, 0, 0, 0, 0, 0, 1, 0, 0, 0, 0, 0, 0, 1, 0, 0, 0, 1, 0, 0, 1, 0, 0, 1, 0, 0, 0, 0, 0, 0, 0, 0, 1, 0, 0, 0, 0, 0, 0, 0, 0, 0, 0, 0, 0, 0, 0, 0, 0, 0, 0, 0, 0, 0, 0, 0, 0, 0, 0, 0, 0, 0, 0, 0, 0, 0, 0, 0, 0, 0, 0, 0, 0, 0, 0, 0, 0, 0, 1, 0, 0, 0, 0, 0, 1, 0, 0, 0, 0, 1, 0, 0, 0, 0, 0, 0, 0, 0, 0, 0, 0, 0, 0, 0, 0, 0, 0, 0, 0, 0, 0, 0, 0, 0, 0, 0, 0, 0, 0, 1, 0, 0, 0, 0, 0, 0, 0, 0, 0, 0, 0, 0, 0, 0, 0, 0, 0, 0, 0, 0, 0, 0, 1, 0, 0, 0, 1, 0, 0, 1, 0, 0, 0, 0, 0, 0, 0, 0, 1, 0, 1, 0, 1, 1, 1, 0, 0, 0, 0, 0, 1, 0, 0, 0, 1, 0, 0, 0, 0, 0, 0, 0, 0, 0, 0, 1, 0, 0, 0, 0, 0, 0, 0, 0, 0, 0, 0, 0, 0, 0, 0, 0, 0, 0, 0, 0, 0, 0, 0, 0, 0, 1, 0, 0, 0, 0, 0, 0, 0, 0, 0, 0, 0, 0, 0, 0, 0, 0, 0, 0, 0, 0, 0, 0, 0, 0, 0, 0, 0, 0, 0, 0, 0, 0, 0, 0, 0, 0, 0, 0, 0, 0, 0, 1, 1, 0, 0, 0, 0, 0, 0, 0, 1, 0, 0, 0, 0, 0, 0, 0, 0, 0, 0, 0, 0, 0, 0, 1, 0, 0, 0, 0, 0, 0, 0, 0, 1, 0, 0, 0, 0, 0, 0, 0, 0, 1, 1, 0, 0, 0, 0, 1, 1, 1, 1, 0, 0, 0, 0, 0, 0, 0, 0, 0, 0, 0, 0, 0, 0, 0, 0, 0, 1, 0, 0, 0, 0, 0, 0, 0, 0, 1, 0, 0, 0, 0, 0, 0, 0, 1, 0, 0, 0, 0, 0, 0, 0, 0, 1, 0, 0, 1, 0, 0, 0, 0, 0, 0, 0, 0, 0, 0, 0, 0, 0, 0, 0, 0, 0, 0, 0, 1, 0, 0, 0, 0, 0, 0, 0, 0, 0, 0, 0, 0, 0, 0, 0, 0, 0, 0, 0, 0, 0, 0, 0, 0, 0, 0, 0, 0, 0, 0, 1, 0, 0, 0, 0, 1, 0, 0, 0, 1, 0, 0, 0, 1, 0, 0, 1, 0, 0, 0, 0, 0, 0, 0, 0, 0, 0, 0, 0, 0, 1, 0, 0, 0, 0, 0, 0, 0, 0, 0, 0, 0, 0, 0, 0, 0, 0, 0, 0, 0, 0, 0, 0, 0, 0, 0, 0, 0, 0, 0, 0, 1, 0, 0, 0, 0, 0, 0, 0, 0, 0, 1, 0, 0, 0, 0, 0, 0, 0, 0, 0, 0, 0, 0, 1, 0, 0, 0, 0, 0, 0, 0, 0, 0, 0, 0, 0, 0, 0, 0, 0, 0, 0, 0, 0, 0, 0, 0, 0, 0, 0, 0, 0, 0, 0, 0, 0, 0, 0, 0, 0, 1, 0, 0, 0, 0, 0, 0, 0, 0, 0, 0, 0, 0, 0, 0, 0, 0, 0, 0, 0, 0, 0, 0, 0, 0, 0, 0, 0, 0, 0, 0, 0, 0, 1, 0, 0, 0, 0, 0, 0, 0, 0, 0, 1, 0, 0, 0, 0, 0, 0, 1, 0, 1, 0, 0, 0, 0, 1, 0, 0, 1, 0, 0, 0, 0, 0, 0, 0, 0, 0, 0, 1, 0, 0, 0, 0, 0, 0, 0, 0, 0, 0, 0, 0, 0, 0, 0, 0, 0, 0, 0, 0, 1, 0, 1, 1, 0, 0, 1, 0, 0, 0, 0, 0, 0, 0, 0, 0, 0, 1, 0, 0, 0, 0, 0, 0, 0, 0, 0, 1, 0, 0, 1, 0, 0, 0, 0, 0, 0, 0, 0, 0, 0, 0, 0, 0, 0, 0, 0, 0, 0, 0, 0, 0, 0, 0, 0, 0, 0, 0, 0, 0, 0, 0, 0, 0, 0, 0, 0, 0, 0, 0, 0, 0, 0, 1, 0, 0, 0, 1, 0, 0, 1, 0, 0, 0, 0, 0, 0, 0, 0, 0, 0, 0, 0, 0, 1, 0, 0, 0, 0, 0, 0, 0, 0, 0, 0, 0, 0, 0, 0, 0, 0, 0, 0, 0, 0, 0, 0, 0, 0, 0, 0, 0, 0, 0, 0, 0, 0, 0, 0, 0, 0, 0, 0, 0, 0, 0, 0, 0, 1, 0, 0, 0, 0, 0, 0, 0, 0, 0, 0, 0, 0, 0, 0, 0, 0, 0, 0, 0, 0, 0, 0, 0, 0, 0, 0, 1, 0, 0, 0, 0, 0, 0, 0, 0, 0, 0, 0, 0, 0, 0, 0, 0, 0, 0, 0, 0, 1, 1, 0, 0, 0, 0, 0, 0, 0, 0, 0, 0, 1, 0, 0, 0, 0, 0, 0, 0, 0, 0, 0, 0, 0, 0, 0, 0, 0, 0, 0, 1, 0, 0, 0, 1, 0, 0, 0, 0, 0, 0, 0, 0, 0, 0, 0, 0, 1, 0, 0, 0, 0, 0, 1, 0, 0, 0, 0, 0, 0, 0, 0, 0, 0, 1, 0, 0, 0, 0, 0, 0, 1, 0, 0, 0, 0, 0, 0, 0, 0, 0, 0, 0, 0, 0, 0, 0, 0, 0, 0, 0, 0, 0, 0, 0, 0, 0, 0, 0, 0, 0, 0, 0, 0, 0, 0, 0, 0, 0, 0, 0, 0, 0, 0, 0, 1, 0, 0, 0, 0, 0, 0, 0, 0, 0, 0, 0, 0, 0, 1, 0, 0, 0, 0, 0, 0, 0, 0, 0, 0, 0, 0, 0, 0, 0, 0, 0, 0, 0, 1, 0, 0, 0, 0, 0, 0, 0, 0, 0, 0, 0, 0, 0, 0, 0, 0, 0, 1, 0, 0, 0, 0, 0, 0, 0, 0, 0, 0, 0, 0, 0, 0, 0, 0, 0, 0, 0], \"coloraxis\": \"coloraxis\", \"symbol\": \"circle\"}, \"mode\": \"markers\", \"name\": \"\", \"scene\": \"scene\", \"showlegend\": false, \"type\": \"scatter3d\", \"x\": [49, 34, 11, 100, 45, 29, 72, 22, 81, 180, 105, 45, 114, 40, 112, 22, 130, 81, 193, 21, 25, 63, 62, 43, 152, 29, 83, 158, 48, 119, 35, 29, 41, 18, 50, 81, 121, 71, 141, 80, 84, 60, 132, 45, 104, 52, 43, 194, 81, 49, 8, 131, 72, 190, 44, 139, 29, 131, 93, 188, 39, 125, 22, 32, 105, 131, 105, 45, 60, 20, 115, 69, 130, 85, 135, 135, 12, 29, 133, 19, 41, 40, 82, 50, 18, 109, 42, 78, 51, 118, 29, 34, 64, 121, 48, 80, 161, 94, 15, 74, 30, 44, 22, 38, 35, 69, 43, 32, 49, 9, 45, 82, 92, 39, 81, 35, 61, 73, 112, 12, 38, 73, 84, 78, 80, 115, 82, 74, 70, 81, 149, 51, 39, 98, 45, 49, 128, 42, 18, 31, 58, 48, 54, 70, 124, 84, 83, 163, 42, 118, 132, 24, 22, 58, 60, 15, 83, 79, 41, 134, 80, 52, 70, 92, 43, 21, 23, 13, 112, 138, 11, 171, 42, 168, 85, 44, 65, 24, 11, 38, 10, 135, 148, 63, 115, 45, 159, 169, 112, 93, 29, 85, 21, 144, 13, 165, 9, 59, 158, 29, 20, 68, 65, 61, 91, 31, 71, 73, 172, 20, 55, 69, 155, 94, 92, 125, 74, 72, 61, 25, 83, 104, 41, 58, 93, 148, 53, 71, 92, 61, 38, 58, 80, 71, 89, 83, 28, 52, 70, 71, 75, 170, 78, 25, 60, 120, 99, 55, 29, 170, 53, 138, 134, 42, 99, 18, 24, 55, 58, 111, 33, 74, 38, 23, 61, 81, 129, 33, 63, 70, 45, 65, 74, 50, 22, 30, 21, 155, 64, 65, 71, 40, 69, 69, 45, 62, 172, 24, 80, 8, 38, 93, 55, 64, 122, 70, 81, 159, 70, 150, 152, 195, 22, 22, 79, 33, 128, 91, 39, 121, 21, 41, 45, 165, 119, 110, 20, 64, 101, 101, 99, 158, 89, 80, 114, 49, 191, 78, 28, 42, 140, 45, 122, 65, 68, 153, 89, 91, 55, 118, 22, 63, 12, 50, 43, 173, 60, 113, 155, 91, 55, 173, 71, 24, 42, 141, 32, 55, 153, 113, 30, 29, 174, 35, 98, 30, 58, 25, 19, 44, 20, 98, 90, 61, 40, 38, 28, 34, 73, 133, 53, 21, 40, 41, 82, 100, 155, 45, 9, 48, 18, 80, 64, 29, 48, 23, 84, 179, 30, 93, 39, 60, 133, 125, 58, 89, 82, 110, 54, 89, 42, 41, 38, 85, 83, 33, 50, 58, 115, 145, 161, 38, 28, 75, 35, 24, 78, 113, 75, 91, 31, 45, 80, 50, 31, 113, 29, 59, 43, 122, 29, 91, 65, 22, 71, 60, 60, 69, 21, 53, 29, 60, 42, 69, 20, 200, 141, 81, 183, 149, 83, 35, 13, 39, 21, 10, 84, 30, 31, 182, 114, 152, 53, 24, 150, 132, 68, 53, 173, 30, 113, 15, 84, 88, 43, 43, 90, 34, 38, 173, 160, 44, 83, 94, 43, 42, 34, 39, 70, 39, 44, 69, 44, 32, 15, 118, 62, 82, 54, 48, 74, 113, 81, 43, 34, 48, 54, 75, 72, 39, 79, 205, 65, 122, 82, 21, 50, 39, 101, 41, 132, 131, 11, 21, 141, 81, 54, 164, 28, 68, 44, 61, 35, 54, 14, 52, 101, 149, 35, 21, 118, 38, 24, 59, 41, 85, 12, 32, 79, 175, 28, 41, 70, 161, 53, 128, 50, 80, 93, 149, 49, 88, 22, 55, 72, 114, 83, 101, 94, 40, 128, 39, 51, 79, 48, 85, 41, 152, 11, 103, 141, 38, 135, 28, 70, 41, 81, 170, 55, 24, 81, 32, 129, 108, 180, 139, 33, 74, 42, 73, 115, 114, 92, 34, 54, 64, 42, 70, 51, 71, 35, 40, 165, 18, 32, 35, 120, 31, 35, 32, 85, 139, 103, 152, 33, 84, 61, 64, 34, 122, 58, 92, 78, 129, 13, 81, 23, 35, 79, 165, 52, 185, 49, 64, 61, 112, 72, 18, 41, 105, 23, 22, 59, 33, 11, 204, 61, 103, 51, 164, 12, 82, 164, 48, 65, 71, 18, 52, 48, 30, 40, 112, 115, 63, 85, 59, 68, 84, 62, 109, 141, 129, 30, 148, 25, 21, 72, 59, 83, 10, 84, 98, 32, 31, 94, 21, 110, 38, 39, 132, 61, 92, 119, 53, 18, 114, 90, 140, 90, 85, 80, 53, 49, 152, 138, 80, 82, 195, 22, 81, 40, 154, 49, 85, 21, 14, 60, 138, 98, 22, 49, 102, 45, 82, 81, 35, 59, 52, 84, 85, 65, 89, 109, 81, 38, 72, 78, 172, 71, 165, 120, 39, 23, 135, 12, 92, 192, 42, 158, 194, 160, 98, 164, 42, 202, 10, 31, 58, 65, 98, 44, 15, 82, 61, 38, 39, 173, 8, 51, 62, 34, 132, 44, 162, 64, 111, 41, 52, 65, 130, 45, 35, 65, 38, 42, 45, 145, 33, 60, 45, 72, 34, 23, 45, 28, 81, 72, 49, 31, 63, 150, 142, 74, 24, 29, 79, 94, 121, 54, 73, 71, 29, 93, 73, 19, 58, 39, 23, 29, 155, 90, 113, 42, 30, 19, 124, 30, 28, 15, 70, 10, 22, 70, 61, 161, 29, 35, 48, 44, 88, 40, 21, 58, 59, 74, 84, 58, 154, 185, 78, 55, 30, 74, 118, 182, 29, 120, 53, 43, 59, 84, 161, 21, 63, 172, 51, 24, 95, 59, 51, 28, 154, 15, 55, 79, 68, 78, 34, 195, 184, 85, 200, 64, 88, 42, 91, 38, 28, 32, 31, 22, 95, 74, 22, 43, 43, 112, 9, 81, 131, 19, 62, 19, 8, 193, 129, 30, 80, 22, 33, 64, 60, 81, 45, 112, 83, 180, 28, 169, 14, 43, 88, 78, 68, 144, 30, 120, 24, 78, 135, 44, 73, 90, 58, 75, 174, 50, 85, 54, 83, 24, 45, 68, 48, 114, 142, 52, 142, 15, 118, 101, 84, 32, 64, 81, 28, 93, 185, 42, 45, 49, 69, 94, 18, 8, 55, 85, 62, 65, 138, 103, 99, 152, 25, 98, 39, 40, 58, 192, 62, 69, 40, 61, 30, 29, 41, 118, 109, 122, 50, 43, 108, 110, 20, 112, 25, 42, 29, 84, 81, 55, 40, 145, 175, 78, 51, 50, 21, 79, 84, 34, 73, 90, 23, 145, 54, 49, 51, 8, 62, 25, 63, 24, 11, 23, 33, 83, 39, 138, 113, 125, 195, 105, 75, 40, 61, 75, 122, 75, 59, 24, 175, 39, 145, 24, 20, 85, 65, 191, 11, 40, 54, 95, 94, 79, 48, 70, 40, 44, 43, 29, 188, 114, 52, 13, 95, 84, 49, 181, 182, 70, 79, 61, 121, 34, 183, 51, 70, 39, 84, 122, 145, 98, 79, 38, 49, 38, 91, 29, 172, 104, 58, 171, 73, 191, 90, 55, 28, 42, 9, 65, 134, 83, 38, 13, 143, 75, 120, 91, 99, 71, 111, 108, 158, 81, 12, 21, 55, 42, 81, 13, 132, 99, 23, 40, 181, 112, 138, 94, 113, 112, 190, 38, 32, 104, 43, 45, 42, 58, 103, 71, 14, 98, 90, 65, 19, 35, 71, 31, 43, 24, 58, 115, 168, 128, 138, 81, 41, 123, 71, 8, 42, 62, 22, 38, 24, 50, 190, 94, 165, 43, 48, 52, 84, 131, 44, 78, 15, 38, 84, 122, 98, 80, 165, 121, 20, 11, 45, 118, 14, 30, 45, 80, 25, 144, 84, 22, 33, 60, 81, 169, 63, 12, 15, 39, 44, 110, 130, 41, 59, 39, 35, 80, 81, 31, 93, 45, 40, 80, 20, 41, 31, 35, 40, 84, 53, 85, 138, 71, 113, 23, 62, 14, 60, 94, 83, 130, 61, 92, 20, 194, 74, 84, 98, 52, 55, 64, 128, 113, 50, 54, 129, 82, 100, 44, 164, 81, 71, 28, 80, 90, 74, 14, 23, 153, 38, 112, 145, 28, 31, 195, 50, 71, 21, 35, 42, 78, 73, 53, 51, 40, 178, 35, 192, 123, 48, 45, 15, 79, 63, 30, 145, 32, 64, 84, 21, 99, 35, 180, 42, 179, 42, 180, 82, 55, 79, 48, 93, 23, 50, 85, 35, 171, 29, 84, 20, 14, 179, 48, 74, 53, 83, 171, 85, 38, 85, 79, 69, 43, 33, 42, 40, 43, 20, 65, 139, 135, 84, 179, 45, 109, 34, 162, 105, 22, 82, 105, 62, 82, 72, 38, 25, 20, 80, 84, 33, 55, 33, 190, 43, 45, 141, 69, 78, 84, 172, 51, 75, 183, 20, 101, 129, 63, 44, 184, 100, 12, 68, 48, 82, 52, 154, 39, 40, 54, 32, 64, 92, 40, 60, 85, 35, 52, 128, 195, 68, 55, 55, 80, 123, 90, 61, 41, 43, 71, 25, 154, 141, 22, 145, 49, 109, 80, 82, 52, 85, 148, 160, 39, 25, 33, 38, 85, 48, 15, 94, 120, 60, 145, 29, 78, 59, 80, 180, 8, 23, 79, 78, 64, 64, 160, 43, 32, 179, 8, 63, 40, 99, 141, 159, 39, 99, 18, 38, 133, 84, 60, 178, 18, 73, 125, 91, 74, 35, 113, 52, 191, 18, 25, 50, 75, 92, 33, 65, 44, 183, 175, 28, 49, 45, 64, 22, 120, 175, 104, 155, 58, 80, 45, 134, 58, 20, 25, 55, 155, 30, 39, 73, 41, 34, 21, 11, 154, 19, 101, 24, 131, 105, 52, 21, 45, 39, 192, 195, 83, 34, 49, 60, 41, 72, 102, 31, 73, 89, 19, 63, 104, 40, 92, 72, 44, 114, 73, 63, 69, 42, 88, 98, 65, 12, 122, 12, 24, 170, 184, 25, 131, 50, 21, 55, 124, 58, 72, 192, 83, 93, 38, 55, 11, 85, 124, 129, 180, 74, 138, 111, 83, 33, 21, 35, 105, 103, 75, 33, 52, 89, 63, 84, 44, 29, 29, 22, 53, 24, 153, 31, 21, 180, 82, 90, 154, 99, 153, 93, 53, 18, 70, 100, 193, 125, 68, 55, 152, 84, 13, 33, 89, 93, 68, 85, 73, 83, 158, 182, 24, 102, 53, 175, 28, 14, 139, 34, 64, 84, 42, 63, 100, 190, 22, 20, 21, 25, 20, 173, 81, 139, 119, 74, 42, 73, 114, 44, 141, 14, 33, 83, 89, 39, 83, 108, 21, 102, 48, 32, 43, 35, 184, 140, 32, 149, 15, 71, 108, 122, 40, 198, 79, 84, 31, 12, 88, 29, 201, 20, 15, 155, 25, 200, 101, 19, 188, 8, 59, 72, 55, 24, 19, 71, 54, 28, 25, 51, 125, 88, 125, 79, 31, 131, 70, 38, 83, 59, 121, 42, 32, 29, 40, 25, 21, 79, 52, 61, 25, 155, 25, 80, 55, 23, 60, 54, 44, 33, 45, 55, 134, 44, 149, 22, 74, 128, 62, 9, 9, 15, 28, 83, 73, 42, 34, 32, 68, 82, 19, 60, 192, 119, 190, 34, 44, 23, 171, 43, 139, 118, 113, 98, 70, 42, 143, 185, 28, 45, 78, 121, 59, 64, 15, 10, 61, 50, 79, 35, 11, 128, 55, 79, 18, 91, 9, 62, 59, 25, 54, 112, 125, 194, 161, 35, 113, 25, 45, 119, 30, 79, 178, 23, 171, 74, 103, 99, 43, 23, 91, 93, 154, 21, 65, 15, 52, 30, 42, 20, 60, 54, 60, 41, 30, 21, 105, 65, 20, 179, 161, 82, 43, 61, 90, 90, 21, 118, 44, 110, 99, 98, 69, 82, 112, 123, 78, 59, 78, 49, 82, 125, 185, 163, 19, 115, 81, 93, 111, 184, 50, 55, 13, 29, 72, 83, 98, 43, 34, 10, 201, 85, 50, 91, 98, 115, 22, 101, 83, 52, 191, 134, 54, 69, 64, 53, 118, 19, 31, 63, 25, 22, 78, 81, 41, 62, 35, 30, 51, 140, 73, 40, 69, 191, 82, 181, 38, 23, 55, 58, 29, 39, 39, 30, 58, 62, 62, 19, 38, 84, 78, 22, 81, 32, 89, 121, 42, 130, 30, 114, 155, 50, 34, 94, 114, 89, 49, 115, 148, 72, 114, 11, 63, 113, 80, 54, 32, 11, 141, 84, 18, 20, 55, 31, 114, 52, 18, 55, 29, 30, 38, 122, 183, 41, 38, 61, 103, 80, 22, 128, 142, 124, 44, 170, 75, 78, 31, 99, 41, 39, 51, 52, 169, 141, 93, 14, 160, 44, 33, 103, 71, 55, 113, 79, 80, 179, 9, 61, 111, 80, 32, 83, 91, 29, 19, 52, 150, 32, 91, 180, 121, 25, 102, 44, 161, 134, 43, 94, 29, 38, 120, 85, 89, 25, 20, 125, 18, 173, 34, 159, 55, 32, 65, 83, 30, 180, 13, 35, 95, 83, 39, 54, 81, 53, 119, 160, 21, 40, 69, 45, 55, 38, 44, 45, 84, 188, 29, 95, 79, 41, 19, 75, 64, 174, 54, 14, 94, 10, 145, 203, 153, 58, 49, 132, 85, 85, 178, 104, 40, 103, 25, 69, 30, 70, 15, 125, 50, 44, 38, 64, 9, 44, 93, 83, 179, 40, 58, 74, 15, 11, 41, 68, 28, 115, 83, 40, 113, 89, 38, 62, 65, 168, 40, 30, 20, 58, 150, 54, 19, 30, 123, 45, 154, 93, 71, 83, 99, 55, 38, 74, 69, 104, 38, 25, 162, 64, 30, 52, 42, 79, 34, 123, 160, 51, 108, 158, 68, 42, 32, 22, 29, 183, 69, 92, 40, 9, 128, 110, 171, 13, 25, 123, 33, 189, 34, 58, 51, 29, 111, 43, 130, 20, 101, 48, 180, 92, 33, 51, 31, 83, 45, 89, 193, 89, 162, 9, 58, 80, 73, 41, 74, 29, 25, 98, 59, 43, 72, 183, 134, 140, 39, 35, 141, 23, 134, 35, 42, 81, 14, 45, 79, 53, 33, 190, 60, 8, 38, 154, 54, 41, 25, 53, 79, 13, 130, 93, 82, 15, 150, 131, 28, 9, 88, 143, 168, 105, 62, 51, 101, 90, 83, 21, 115, 172, 32, 204, 34, 30, 31, 90, 79, 22, 114, 42, 29, 72, 68, 78, 90, 170, 14, 129, 39, 82, 31, 9, 15, 70, 84, 155, 89, 170, 185, 82, 60, 58, 29, 32, 115, 83, 54, 112, 182, 112, 129, 23, 198, 84, 39, 129, 113, 35, 85, 73, 70, 130, 39, 72, 68, 35, 61, 69, 59, 99, 201, 130, 72, 44, 91, 92, 55, 20, 89, 59, 8, 85, 94, 22, 74, 59, 12, 8, 74, 184, 34, 63, 123, 85, 109, 31, 61, 88, 22, 63, 80, 78, 45, 51, 111, 45, 184, 41, 69, 23, 160, 61, 110, 50, 49, 185, 52, 53, 125, 72, 51, 23, 41, 41, 138, 138, 14, 145, 25, 43, 93, 90, 41, 169, 63, 23, 140, 75, 13, 10, 100, 85, 73, 130, 65, 59, 31, 134, 11, 32, 53, 28, 44, 40, 40, 163, 82, 89, 78, 55, 34, 108, 58, 54, 45, 123, 93, 102, 39, 114, 29, 30, 22, 38, 41, 161, 38, 25, 70, 201, 42, 64, 28, 119, 28, 60, 23, 164, 39, 19, 72, 41, 32, 69, 23, 44, 32, 25, 83, 133, 89, 81, 44, 119, 39, 40, 79, 30, 179, 178, 82, 50, 64, 129, 68, 30, 48, 130, 40, 105, 41, 168, 80, 134, 49, 63, 70, 32, 14, 111, 38, 121, 90, 178, 20, 61, 43, 39, 60, 63, 8, 52, 92, 111, 71, 25, 34, 74, 120, 50, 10, 45, 29, 145, 100, 24, 60, 50, 43, 79, 44, 31, 14, 19, 111, 90, 21, 104, 75, 175, 98, 41, 171, 79, 24, 90, 9, 15, 80, 63, 20, 43, 65, 91, 53, 110, 82, 23, 172, 88, 71, 180, 39, 94, 25, 10, 42, 142, 34, 139, 154, 40, 33, 80, 10, 41, 30, 78, 164, 23, 149, 25, 42, 71, 114, 70, 149, 55, 29, 123, 152, 8, 69, 161, 79, 105, 39, 163, 9, 71, 51, 32, 161, 60, 35, 41, 73, 49, 79, 120, 60, 78, 40, 110, 160, 68, 49, 65, 62, 152, 42, 39, 111, 82, 108, 59, 61, 78, 18, 113, 62, 81, 13, 75, 33, 179, 69, 45, 59, 81, 133, 81, 14, 28, 93, 191, 155, 155, 68, 52, 51, 44, 121, 49, 42, 144, 72, 44, 43, 74, 145, 158, 78, 154, 105, 100, 58, 113, 10, 142, 128, 131, 88, 101, 70, 122, 70, 148, 43, 31, 35, 81, 19, 98, 101, 81, 135, 34, 104, 29, 119, 82, 62, 85, 8, 78, 44, 122, 22, 39, 55, 144, 71, 191, 22, 158, 131, 75, 69, 39, 34, 32, 129, 158, 54, 34, 68, 53, 32, 173, 31, 72, 30, 138, 18, 69, 58, 63, 43, 28, 38, 72, 64, 70, 12, 159, 103, 42, 48, 49, 89, 22, 10, 38, 49, 30, 82, 82, 24, 32, 34, 195, 61, 22, 40, 50, 35, 64, 49, 44, 65, 13, 84, 28, 108, 59, 163, 183, 69, 115, 130, 185, 118, 163, 140, 91, 61, 168, 69, 22, 53, 25, 115, 31, 83, 152, 30, 34, 44, 182, 44, 122, 35, 91, 30, 53, 28, 85, 28, 41, 154, 41, 33, 182, 59, 129, 35, 185, 45, 62, 183, 14, 53, 48, 128, 105, 40, 10, 102, 31, 30, 21, 44, 48, 21, 84, 64, 82, 39, 45, 133, 152, 12, 32, 74, 54, 181, 75, 95, 190, 90, 20, 64, 85, 105, 21, 158, 125, 81, 183, 54, 79, 38, 172, 184, 158, 188, 20, 60, 113, 70, 84, 23, 141, 110, 31, 22, 91, 82, 23, 35, 114, 18, 74, 122, 73, 40, 55, 69, 92, 48, 113, 58, 109, 39, 33, 18, 63, 43, 70, 19, 39, 81, 34, 140, 114, 55, 21, 50, 41, 190, 8, 55, 40, 22, 44, 102, 54, 130, 75, 42, 133, 40, 34, 142, 64, 44, 95, 49, 12, 98, 42, 44, 124, 175, 22, 78, 54, 154, 42, 195, 80, 81, 89, 61, 25, 43, 122, 160, 83, 79, 30, 145, 151, 14, 19, 55, 132, 182, 78, 42, 44, 195, 53, 65, 43, 38, 50, 41, 73, 31, 84, 95, 162, 60, 121, 43, 38, 82, 52, 43, 82, 161, 24, 102, 85, 111, 90, 94, 63, 153, 39, 205, 142, 163, 113, 64, 20, 179, 91, 103, 80, 38, 44, 164, 81, 95, 44, 88, 148, 169, 11, 92, 74, 72, 63, 172, 183, 40, 68, 78, 68, 49, 39, 151, 159, 89, 105, 78, 128, 81, 50, 38, 119, 110, 29, 19, 130, 38, 31, 14, 158, 39, 141, 33, 92, 78, 42, 15, 48, 63, 149, 49, 125, 58, 48, 75, 114, 134, 111, 62, 45, 113, 128, 168, 81, 75, 21, 83, 121, 40, 101, 90, 68, 74, 74, 51, 149, 31, 85, 44, 63, 23, 40, 78, 40, 78, 129, 71, 23, 15, 28, 23, 19, 42, 113, 34, 19, 43, 179, 44, 21, 115, 81, 91, 30, 55, 48, 23, 21, 55, 21, 40, 30, 78, 65, 50, 55, 111, 21, 65, 114, 54, 75, 13, 54, 22, 198, 18, 74, 61, 64, 10, 61, 83, 73, 22, 91, 65, 13, 103, 95, 31, 131, 175, 38, 104, 114, 38, 30, 19, 25, 124, 20, 83, 18, 99, 62, 24, 64, 62, 158, 88, 28, 52, 82, 140, 80, 58, 180, 55, 65, 62, 23, 35, 35, 74, 14, 83, 71, 53, 103, 109, 60, 12, 141, 128, 98, 41, 90, 31, 74, 83, 35, 140, 65, 35, 73, 29, 55, 20, 70, 81, 25, 119, 49, 38, 80, 84, 61, 173, 60, 83, 59, 32, 33, 19, 14, 94, 154, 33, 28, 44, 81, 29, 58, 38, 82, 18, 45, 64, 48, 24, 65, 111, 114, 39, 19, 22, 49, 40, 63, 55, 33, 31, 24, 81, 81, 113, 92, 81, 101, 78, 78, 35, 9, 82, 41, 84, 42, 54, 84, 131, 85, 84, 114, 61, 39, 21, 111, 68, 179, 93, 85, 180, 110, 65, 159, 81, 132, 98, 62, 91, 29, 65, 58, 32, 140, 44, 113, 38, 62, 29, 141, 132, 23, 11, 90, 43, 59, 28, 28, 108, 78, 65, 25, 108, 43, 95, 24, 190, 24, 41, 80, 63, 79, 105, 153, 114, 120, 104, 20, 41, 35, 174, 164, 22, 132, 32, 21, 49, 79, 30, 118, 11, 61, 43, 141, 54, 33, 84, 125, 110, 14, 65, 78, 18, 95, 95, 191, 19, 19, 39, 93, 115, 112, 40, 45, 133, 85, 18, 54, 41, 21, 152, 53, 163, 84, 59, 33, 81, 182, 61, 88, 170, 83, 44, 83, 21, 143, 103, 135, 162, 73, 142, 25, 115, 88, 73, 94, 58, 81, 35, 65, 170, 62, 54, 39, 28, 95, 82, 21, 50, 34, 19, 71, 113, 9, 118, 79, 72, 18, 93, 62, 23, 40, 34, 114, 125, 41, 38, 45, 115, 175, 24, 28, 32, 63, 32, 60, 53, 58, 42, 39, 72, 80, 39, 18, 30, 54, 128, 38, 120, 25, 85, 135, 14, 70, 23, 31, 132, 28, 125, 91, 191, 88, 84, 64, 28, 149, 172, 42, 53, 149, 113, 79, 175, 38, 120, 52, 42, 13, 141, 131, 133, 64, 49, 34, 91, 195, 53, 39, 20, 104, 51, 154, 38, 12, 28, 33, 31, 44, 49, 134, 182, 114, 90, 105, 58, 53, 15, 103, 58, 83, 125, 61, 69, 89, 70, 39, 41, 148, 38, 95, 129, 84, 29, 30, 90, 150, 15, 13, 9, 24, 41, 25, 49, 58, 141, 50, 61, 65, 112, 19, 23, 60, 30, 144, 118, 194, 109, 174, 34, 84, 41, 92, 19, 55, 22, 155, 72, 81, 30, 54, 60, 68, 65, 31, 169, 139, 29, 43, 80, 43, 194, 24, 32, 153, 30, 165, 64, 15, 70, 32, 128, 84, 62, 33, 65, 33, 15, 45, 132, 29, 65, 52, 64, 73, 20, 44, 79, 104, 88, 51, 61, 23, 38, 75, 42, 45, 59, 130, 9, 62, 202, 162, 93, 145, 99, 148, 154, 149, 69, 30, 48, 42, 132, 81, 60, 45, 70, 71, 83, 131, 82, 79, 51, 111, 93, 73, 24, 64, 104, 38, 191, 53, 74, 21, 80, 41, 79, 141, 32, 38, 85, 93, 140, 69, 32, 61, 125, 30, 104, 24, 22, 59, 120, 164, 60, 43, 70, 51, 59, 129, 22, 29, 18, 65, 65, 38, 110, 22, 43, 30, 134, 32, 139, 45, 62, 51, 93, 122, 45, 179, 64, 41, 58, 64, 28, 21, 60, 78, 59, 59, 83, 128, 95, 160, 78, 184, 30, 51, 35, 74, 43, 23, 20, 112, 74, 65, 124, 65, 73, 8, 53, 131, 13, 60, 45, 39, 78, 43, 31, 118, 82, 112, 10, 18, 72, 72, 78, 78, 30, 45, 80, 174, 51, 181, 78, 79, 119, 49, 83, 100, 70, 52, 12, 82, 34, 112, 42, 83, 142, 199, 29, 70, 25, 84, 81, 15, 54, 108, 83, 62, 134, 75, 109, 152, 83, 52, 31, 135, 98, 14, 64, 109, 118, 80, 51, 115, 83, 90, 28, 82, 24, 71, 80, 109, 140, 39, 39, 31, 35, 44, 35, 20, 10, 83, 203, 84, 41, 164, 152, 62, 12, 28, 52, 19, 35, 28, 70, 140, 102, 50, 61, 188, 178, 44, 69, 132, 128, 44, 44, 34, 132, 158, 83, 28, 131, 31, 40, 71, 42, 35, 81, 91, 129, 75, 54, 43, 94, 84, 34, 15, 99, 15, 83, 83, 143, 81, 39, 158, 62, 64, 29, 64, 21, 142, 64, 40, 61, 44, 78, 25, 125, 63, 54, 92, 119, 40, 41, 81, 101, 25, 55, 43, 98, 112, 69, 79, 81, 19, 139, 63, 102, 40, 44, 59, 224, 64, 129, 43, 12, 53, 39, 65, 18, 55, 60, 42, 44, 111, 62, 44, 69, 62, 35, 91, 12, 89, 65, 179, 82, 48, 20, 91, 122, 22, 43, 38, 61, 33, 145, 170, 55, 40, 68, 53, 63, 123, 13, 12, 53, 79, 89, 188, 62, 123, 119, 123, 23, 62, 69, 124, 52, 134, 58, 45, 75, 23, 123, 48, 145, 31, 38, 78, 94, 84, 22, 78, 75, 71, 24, 112, 53, 41, 25, 42, 51, 19, 90, 89, 22, 119, 93, 18, 32, 182, 19, 85, 90, 59, 84, 95, 13, 88, 34, 11, 80, 41, 90, 93, 81, 60, 39, 22, 32, 28, 35, 154, 189, 40, 88, 124, 23, 23, 173, 42, 161, 28, 191, 42, 81, 175, 82, 53, 142, 42, 64, 90, 44, 29, 93, 69, 82, 180, 13, 72, 54, 104, 44, 40, 190, 64, 9, 38, 72, 82, 48, 82, 14, 162, 54, 90, 64, 65, 113, 38, 65, 39, 174, 59, 43, 24, 50, 68, 61, 21, 21, 31, 70, 25, 78, 19, 23, 40, 22, 71, 58, 75, 40, 155, 83, 99, 59, 53, 11, 179, 85, 49, 122, 171, 138, 8, 59, 49, 92, 75, 60, 41, 40, 81, 52, 25, 139, 54, 81, 73, 30, 59, 21, 65, 41, 52, 84, 18, 34, 85, 23, 65, 195, 40, 141, 95, 23, 82, 53, 10, 75, 23, 133, 129, 85, 168, 83, 52, 114, 81, 32, 63, 70, 20, 138, 63, 85, 180, 80, 53, 72, 123, 91, 148, 163, 28, 193, 22, 74, 70, 11, 61, 41, 108, 23, 135, 30, 144, 139, 143, 44, 49, 75, 43, 59, 154, 75, 75, 88, 91, 11, 22, 49, 140, 99, 82, 10, 109, 45, 93, 89, 39, 21, 31, 31, 52, 13, 21, 50, 81, 74, 89, 82, 88, 61, 139, 29, 51, 58, 21, 43, 104, 9, 39, 89, 21, 173, 29, 43, 30, 39, 83, 58, 8, 39, 204, 45, 111, 83, 83, 115, 60, 53, 134, 91, 91, 128, 78, 161, 60, 161, 40, 68, 74, 55, 145, 24, 10, 138, 63, 54, 62, 81, 61, 68, 78, 165, 48, 155, 158, 52, 18, 42, 18, 40, 44, 11, 194, 108, 12, 19, 150, 89, 83, 79, 102, 155, 138, 51, 80, 135, 34, 195, 62, 173, 20, 42, 28, 95, 95, 34, 191, 41, 150, 91, 84, 73, 122, 73, 20, 130, 85, 134, 98, 54, 41, 128, 132, 188, 170, 14, 93, 79, 79, 62, 95, 60, 75, 85, 143, 34, 44, 31, 13, 52, 42, 102, 143, 10, 44, 158, 12, 59, 92, 82, 44, 182, 121, 38, 92, 53, 45, 63, 181, 184, 33, 22, 99, 44, 101, 32, 59, 25, 140, 29, 35, 141, 75, 58, 41, 42, 55, 18, 75, 85, 43, 149, 25, 19, 18, 13, 41, 139, 62, 51, 71, 145, 45, 53, 64, 39, 38, 85, 61, 23, 122, 72, 123, 40, 62, 113, 81, 59, 25, 25, 14, 19, 61, 21, 44, 42, 52, 112, 34, 83, 24, 71, 181, 75, 153, 19, 31, 178, 65, 8, 92, 145, 85, 149, 9, 164, 40, 54, 164, 140, 18, 12, 140, 24, 60, 50, 44, 51, 34, 33, 63, 22, 104, 75, 75, 62, 48, 73, 135, 61, 78, 40, 44, 45, 18, 53, 11, 38, 28, 35, 81, 90, 115, 78, 30, 39, 69, 29, 54, 60, 99, 51, 53, 111, 79, 90, 18, 73, 59, 40, 41, 53, 128, 145, 28, 155, 195, 50, 48, 81, 50, 21, 142, 64, 91, 74, 182, 82, 45, 85, 133, 22, 24, 38, 80, 33, 41, 90, 89, 8, 85, 53, 20, 9, 25, 114, 49, 12, 50, 30, 32, 41, 25, 29, 50, 79, 110, 40, 18, 48, 40, 19, 35, 133, 19, 83, 39, 38, 63, 85, 14, 64, 124, 20, 33, 80, 35, 74, 32, 73, 41, 18, 28, 64, 44, 109, 71, 79, 30, 82, 101, 13, 59, 64, 188, 28, 120, 131, 19, 44, 49, 99, 95, 81, 73, 193, 115, 41, 80, 90, 41, 102, 59, 83, 49, 180, 61, 59, 85, 13, 151, 44, 53, 133, 31, 101, 61, 68, 21, 149, 75, 55, 81, 179, 81, 42, 199, 18, 28, 80, 79, 52, 18, 52, 15, 84, 114, 41, 29, 23, 84, 60, 13, 45, 83, 102, 58, 134, 130, 148, 92, 142, 62, 50, 29, 85, 78, 85, 89, 33, 42, 31, 143, 35, 22, 45, 119, 43, 75, 121, 63, 58, 184, 155, 69, 188, 38, 9, 69, 199, 38, 129, 59, 115, 83, 65, 72, 72, 63, 64, 194, 104, 180, 18, 93, 32, 68, 38, 115, 161, 154, 68, 44, 149, 103, 41, 113, 48, 69, 43, 19, 65, 32, 20, 25, 70, 70, 103, 162, 61, 170, 49, 108, 62, 102, 141, 8, 91, 10, 35, 71, 59, 14, 122, 81, 35, 83, 121, 35, 140, 88, 70, 63, 125, 21, 75, 38, 58, 31, 18, 29, 29, 69, 121, 64, 84, 65, 85, 44, 174, 178, 55, 25, 21, 72, 129, 18, 91, 38, 21, 38, 154, 178, 85, 93, 151, 78, 135, 40, 80, 18, 74, 94, 173, 88, 82, 54, 45, 39, 20, 93, 85, 95, 48, 22, 33, 40, 30, 22, 20, 49, 25, 150, 32, 9, 23, 18, 42, 39, 84, 101, 43, 28, 59, 29, 39, 42, 24, 62, 33, 73, 88, 58, 48, 40, 160, 39, 53, 32, 32, 11, 123, 184, 60, 41, 99, 83, 134, 85, 41, 44, 62, 149, 115, 25, 84, 81, 181, 62, 11, 60, 42, 83, 109, 70, 25, 72, 183, 44, 52, 18, 40, 174, 41, 81, 128, 135, 65, 145, 65, 119, 124, 33, 41, 105, 130, 80, 115, 62, 165, 34, 18, 44, 25, 52, 133, 71, 61, 62, 33, 28, 53, 69, 165, 75, 54, 142, 53, 41, 43, 79, 24, 73, 129, 50, 28, 64, 49, 121, 58, 51, 61, 35, 39, 74, 201, 81, 44, 19, 85, 74, 54, 58, 18, 88, 19, 49, 101, 138, 25, 120, 153, 28, 110, 94, 48, 123, 33, 42, 68, 28, 42, 28, 73, 89, 82, 83, 121, 28, 39, 110, 55, 111, 94, 85, 81, 94, 162, 80, 70, 19, 112, 109, 12, 33, 49, 42, 41, 43, 64, 19, 65, 53, 32, 22, 39, 59, 19, 55, 81, 108, 122, 98, 110, 33, 34, 69, 41, 60, 95, 73, 41, 68, 64, 29, 31, 54, 63, 92, 135, 195, 45, 72, 98, 30, 78, 43, 85, 38, 58, 92, 13, 218, 75, 40, 15, 24, 49, 83], \"y\": [1.6, 1.5, 1.0, 2.7, 1.0, 0.4, 1.5, 0.3, 0.6, 8.9, 2.4, 0.1, 3.8, 2.5, 2.0, 1.5, 4.7, 2.4, 8.1, 0.5, 0.9, 2.0, 1.2, 0.7, 3.9, 0.5, 0.2, 2.4, 2.2, 3.3, 1.2, 2.0, 0.6, 0.9, 1.8, 0.7, 2.9, 1.4, 5.0, 0.7, 1.6, 2.3, 1.1, 0.7, 5.7, 2.5, 0.7, 0.2, 4.5, 1.8, 0.7, 2.9, 0.1, 2.1, 0.2, 8.0, 0.1, 1.2, 0.2, 4.5, 1.7, 5.7, 1.0, 0.0, 3.3, 3.8, 2.8, 2.0, 2.1, 0.2, 3.5, 1.0, 5.0, 4.0, 3.3, 3.8, 0.3, 0.5, 2.6, 0.4, 1.3, 2.7, 4.0, 2.4, 0.9, 1.8, 2.2, 1.1, 1.1, 5.6, 1.1, 0.6, 1.7, 2.0, 0.2, 5.2, 2.9, 0.3, 0.1, 1.2, 1.3, 1.0, 0.3, 1.3, 0.1, 2.9, 0.7, 0.6, 2.8, 1.0, 1.3, 1.0, 2.8, 0.5, 1.8, 1.5, 2.3, 3.0, 4.6, 0.2, 0.9, 0.7, 3.6, 2.4, 0.5, 1.3, 2.7, 0.0, 0.5, 1.5, 7.2, 1.75, 1.1, 1.8, 2.1, 2.5, 0.4, 1.5, 1.2, 0.4, 2.0, 2.1, 1.6, 1.5, 7.4, 2.6666666666666665, 3.6, 0.4, 2.2, 7.5, 6.5, 1.3, 1.0, 1.3, 1.6, 0.4, 2.6666666666666665, 1.5, 1.7, 6.5, 2.8, 2.0, 2.6, 1.1, 1.5, 1.0, 0.9, 1.0, 2.1, 2.0, 0.4, 7.8, 1.5, 7.9, 1.1, 1.0, 1.8, 0.2, 0.1, 1.0, 0.7, 1.5, 4.1, 1.5, 1.0, 0.3, 1.9, 2.1, 1.4, 4.3, 0.3, 2.6666666666666665, 0.6, 6.8, 1.0, 5.0, 0.7, 0.0, 5.1, 1.9, 1.4, 2.0, 2.2, 1.9, 1.4, 1.0, 0.1, 2.6666666666666665, 3.1, 0.0, 0.2, 1.7, 7.4, 1.9, 0.0, 0.6, 3.0, 0.3, 2.2, 0.3, 1.7, 2.5, 1.0, 1.8, 1.5, 7.5, 1.9, 1.7, 2.8, 2.1, 2.5, 1.7, 0.8, 1.8, 0.5, 1.8, 0.2, 1.7, 1.2, 1.4, 3.7, 7.9, 0.8, 1.0, 0.6, 2.7, 1.4, 2.6, 1.0, 6.2, 2.2, 0.0, 3.9, 0.7, 2.3, 0.5, 0.3, 1.4, 0.0, 1.2, 0.3, 1.8, 0.7, 0.6, 1.5, 2.9, 2.5, 0.75, 2.2, 1.4, 0.2, 0.5, 2.2, 1.8, 0.5, 1.0, 1.0, 3.9, 2.1, 2.6, 0.7, 0.5, 0.5, 2.3333333333333335, 0.6, 0.7, 4.3, 1.0, 4.9, 0.6666666666666666, 0.8, 2.6, 2.0, 1.7, 0.0, 1.4, 3.2, 5.5, 1.3, 6.9, 7.5, 3.0, 0.1, 1.3, 0.8, 1.4, 4.333333333333333, 3.8, 0.9, 7.3, 0.6666666666666666, 2.3, 0.7, 1.6, 4.2, 1.8, 0.7, 0.8, 4.4, 3.9, 4.4, 6.1, 1.9, 1.3, 2.0, 0.5, 6.333333333333333, 1.0, 1.0, 0.8, 2.5, 1.3, 0.3, 2.6, 1.4, 2.0, 1.4, 2.6, 2.0, 3.3, 0.6666666666666666, 1.4, 0.5, 2.7, 1.6, 6.6, 3.0, 1.0, 5.3, 1.0, 1.1, 1.4, 0.3, 0.4, 2.0, 4.333333333333333, 1.9, 1.3, 7.5, 1.4, 1.7, 1.0, 6.8, 0.3, 2.0, 1.0, 2.5, 1.0, 0.7, 0.7, 1.0, 3.1, 1.6, 0.7, 2.0, 2.1, 1.7, 1.5, 2.3, 2.0, 0.2, 0.6, 0.9, 1.7, 1.8, 3.4, 7.0, 0.2, 0.3, 1.8, 0.1, 3.4, 2.8, 0.1, 0.7, 0.4, 0.2, 6.6, 1.5, 4.9, 1.9, 0.5, 3.8, 2.4, 1.8, 2.8, 2.6666666666666665, 3.3, 2.3, 1.9, 2.3, 1.9, 1.0, 0.4, 1.0, 1.0, 2.1, 3.6, 3.1, 6.3, 7.5, 0.2, 0.8, 2.3333333333333335, 1.3, 1.0, 0.1, 1.3, 2.1, 5.7, 0.2, 1.8, 0.8, 1.4, 1.0, 3.8, 0.6, 1.5, 1.3, 3.0, 1.0, 0.0, 2.2, 1.0, 1.4, 2.0, 2.0, 0.3, 0.2, 2.8, 0.9, 2.2, 0.5, 0.3, 1.0, 3.0, 2.1, 3.7, 8.3, 5.5, 3.6, 1.9, 0.9, 2.4, 0.5, 0.7, 1.8, 0.1, 0.3, 1.2, 6.9, 6.1, 0.8, 0.4, 3.3, 6.0, 1.6, 1.2, 4.6, 1.0, 0.2, 0.8, 3.7, 1.4, 2.8, 2.1, 2.7, 0.3, 1.3, 1.0, 8.0, 0.6, 0.4, 2.6, 2.1, 1.7, 0.3, 1.9, 0.1, 1.8, 2.0, 3.1, 0.9, 0.1, 0.7, 6.8, 1.3, 2.2, 3.0, 2.1, 0.3, 1.0, 1.7, 1.0, 1.8, 2.5, 1.2, 1.4, 2.8, 0.9, 2.8, 6.333333333333333, 0.1, 0.2, 0.8, 0.2, 2.1, 2.8, 1.9, 0.6, 0.3, 4.9, 0.4, 0.3, 4.333333333333333, 0.1, 2.4, 7.8, 0.3, 2.6, 2.0, 1.4, 1.3, 0.3, 0.1, 2.2, 0.3, 7.2, 0.8, 0.3, 1.9, 2.0, 0.2, 3.7, 1.6666666666666667, 0.8, 1.0, 0.6, 0.8, 3.6, 0.9, 0.1, 2.1, 6.5, 2.2, 3.4, 1.0, 2.0, 2.7, 6.8, 2.5, 2.7, 0.4, 2.2, 0.7, 3.4, 4.0, 0.4, 4.9, 2.5, 6.0, 2.1, 1.0, 2.0, 2.2, 0.0, 1.8, 3.5, 0.2, 2.5, 0.5, 1.4, 0.6, 0.5, 2.2, 0.2, 0.9, 0.1, 1.7, 1.5, 1.8, 1.8, 1.3, 0.9, 8.6, 6.9, 1.4, 2.6, 0.7, 3.0, 2.9, 1.8, 1.9, 0.3, 1.6666666666666667, 1.0, 0.2, 2.1, 1.3, 2.9, 1.3, 1.0, 2.7, 1.5, 1.4, 0.2, 6.1, 0.1, 1.5, 0.2, 3.7, 7.8, 0.3, 1.4, 2.0, 2.2, 1.7, 2.2, 1.3, 5.1, 1.5, 2.8, 2.4, 4.2, 0.7, 2.8, 0.6666666666666666, 0.9, 1.7, 3.3, 2.8, 2.0, 2.2, 1.8, 2.0, 2.4, 2.0, 0.5, 2.5, 3.0, 0.2, 0.5, 2.1, 2.0, 0.9, 2.8, 1.8, 1.8, 1.5, 6.0, 0.1, 3.6, 2.4, 1.6666666666666667, 1.5, 1.9, 0.3, 1.6, 2.5, 1.0, 2.2, 3.8, 1.9, 1.0, 3.7, 2.5, 0.8, 1.8, 0.8, 4.0, 7.6, 7.4, 0.7, 4.7, 0.6666666666666666, 1.3, 2.2, 0.9, 1.8, 0.3, 0.6, 2.0, 1.0, 0.4, 0.5, 0.2, 4.4, 2.2, 1.4, 1.2, 2.6, 2.0, 6.1, 2.1, 1.3, 4.4, 3.0, 7.0, 3.3, 1.9, 1.2, 1.1, 2.2, 3.3, 2.8, 2.2, 2.4, 8.1, 1.2, 2.5, 2.2, 2.8, 1.1, 3.4, 0.1, 1.0, 1.6, 4.333333333333333, 1.3, 0.6, 1.2, 1.9, 0.7, 1.3, 1.8, 1.5, 1.9, 1.1, 0.7, 2.7, 0.2, 1.7, 1.8, 2.8, 1.1, 1.7, 2.0, 6.9, 2.3333333333333335, 4.1, 3.9, 0.2, 0.7, 4.6, 0.2, 0.7, 6.4, 0.8, 3.7, 6.0, 7.6, 6.3, 7.6, 2.5, 10.0, 0.7, 0.3, 0.9, 2.8, 4.0, 2.3, 0.2, 2.5, 0.5, 2.0, 2.1, 6.0, 0.2, 2.0, 1.8, 0.7, 5.9, 1.5, 8.1, 2.2, 0.1, 2.0, 1.6666666666666667, 2.2, 1.1, 0.1, 1.9, 0.7, 0.7, 1.1, 1.5, 0.3, 1.5, 1.4, 2.0, 2.4, 0.2, 0.6666666666666666, 1.0, 1.0, 3.8, 0.7, 1.6666666666666667, 1.2, 2.2, 5.4, 3.9, 3.0, 0.4, 1.9, 2.4, 0.2, 4.3, 2.0, 2.4, 0.8, 1.0, 2.7, 1.5, 0.9, 0.1, 0.2, 1.4, 0.6, 0.8, 2.6, 2.0, 1.8, 0.2, 0.5, 5.0, 0.7, 1.5, 1.0, 1.6, 0.1, 0.3, 1.9, 1.6, 3.3, 0.8, 0.5, 2.8, 0.8, 0.8, 2.1, 0.4, 2.8, 0.1, 4.0, 1.9, 0.2, 8.8, 1.7, 1.2, 1.1, 0.3, 2.0, 3.3, 3.3, 1.5, 5.4, 2.4, 1.4, 2.2, 2.6, 3.4, 0.4, 0.7, 3.4, 0.2, 0.7, 1.6, 2.4, 1.8, 1.0, 2.0, 0.3, 1.6666666666666667, 1.8, 2.6, 2.6, 2.0, 0.4, 8.1, 3.2, 8.8, 0.5, 2.6, 2.4, 1.6, 0.3, 1.5, 0.1, 0.3, 0.4, 3.7, 1.3, 1.5, 0.1, 1.0, 1.8, 1.0, 0.0, 5.7, 1.5, 0.7, 0.4, 0.3, 4.7, 4.4, 0.7, 1.8, 1.5, 1.5, 2.1, 2.2, 2.9, 0.6, 1.8, 3.4, 7.6, 0.2, 5.2, 0.7, 2.0, 0.3, 2.6, 0.2, 3.3, 1.0, 0.0, 0.3, 2.3, 5.2, 1.6, 3.8, 2.7, 0.5, 3.7, 1.7, 1.7, 4.0, 2.2, 3.4, 0.2, 1.1, 0.8, 0.1, 1.0, 2.3, 0.5, 3.3, 0.4, 4.7, 4.9, 2.8, 1.9, 0.5, 3.4, 1.5, 0.0, 3.6, 1.8, 1.6, 1.6666666666666667, 2.1, 2.8, 1.5, 0.7, 2.1, 0.4, 0.0, 2.0, 0.0, 2.5, 3.5, 7.3, 0.9, 2.5, 0.7, 1.3, 2.1, 1.8, 0.8, 0.8, 1.3, 0.6, 0.3, 1.5, 1.0, 3.3, 7.0, 0.2, 1.5, 0.1, 4.6, 2.5, 1.4, 1.7, 0.1, 0.7, 0.3, 2.1, 2.6, 0.9, 2.4, 5.7, 1.1, 1.8, 1.5, 1.6666666666666667, 0.4, 0.2, 4.0, 0.4, 1.6, 0.5, 0.2, 6.1, 0.2, 2.2, 2.8, 0.6, 1.0, 0.6666666666666666, 1.75, 0.2, 0.1, 0.1, 1.4, 3.8, 1.4, 6.9, 2.5, 0.5, 1.7, 1.2, 3.5, 1.0, 0.5, 4.5, 0.0, 3.0, 0.2, 1.0, 3.3, 0.8, 6.8, 0.4, 0.1, 2.6, 2.6, 5.6, 0.0, 1.0, 0.7, 3.8, 1.0, 2.2, 0.3, 2.6, 0.1, 1.8, 1.4, 0.3, 1.3, 0.0, 0.7, 0.2, 0.5, 2.9, 1.8, 1.7, 0.3, 2.7, 1.1, 2.8, 2.1, 0.2, 1.0, 1.6, 0.3, 1.7, 2.0, 7.0, 1.7, 0.4, 1.0, 2.0, 0.7, 1.0, 2.6, 0.2, 6.5, 3.7, 2.5, 1.9, 3.3, 2.9, 4.5, 2.3, 2.0, 2.5, 0.1, 1.5, 4.5, 3.4, 1.0, 0.3, 2.9, 1.9, 3.2, 2.8, 1.5, 0.1, 0.8, 5.2, 7.4, 2.6666666666666665, 0.1, 0.4, 0.9, 1.8, 0.4, 0.2, 0.6, 1.0, 0.2, 2.0, 1.4, 2.2, 7.8, 3.8, 1.7, 5.0, 3.0, 1.1, 1.4, 0.6, 1.9, 1.7, 1.2, 0.8, 3.4, 3.3, 0.4, 1.2, 0.1, 0.2, 0.4, 1.7, 1.3, 0.5, 1.2, 1.5, 0.4, 0.4, 8.0, 1.5, 7.0, 1.7, 1.3, 2.9, 2.7, 0.4, 0.7, 2.5, 1.0, 1.0, 0.4, 2.4, 1.3, 3.1, 5.1, 1.2, 1.6, 2.7, 4.9, 0.9, 0.2, 0.2, 0.4, 1.9, 1.3, 0.3, 2.8, 2.6666666666666665, 8.0, 3.3, 0.4, 0.2, 1.8, 2.8, 0.3, 0.2, 0.2, 2.6666666666666665, 0.3, 2.5, 0.2, 0.4, 1.5, 2.6, 2.2, 6.8, 1.6, 0.7, 0.8, 0.5, 2.0, 4.0, 6.3, 1.4, 1.4, 0.8, 0.0, 2.6, 2.6666666666666665, 0.8, 1.9, 1.5, 0.6, 1.6, 0.4, 0.5, 0.3, 0.2, 1.4, 1.8, 1.6, 4.0, 3.9, 1.75, 0.8, 1.0, 2.3, 0.2, 2.2, 0.8, 1.8, 6.3, 1.7, 3.1, 0.8, 8.8, 2.5, 0.4, 1.8, 2.3333333333333335, 1.3, 3.4, 2.5, 1.7, 1.1, 2.2, 0.9, 0.4, 1.7, 2.2, 0.5, 3.7, 0.1, 0.5, 1.5, 1.9, 3.6, 0.7, 0.5, 1.7, 0.9, 2.0, 8.1, 0.3, 1.1, 6.333333333333333, 2.0, 2.0, 0.3, 0.8, 2.4, 3.6, 2.2, 1.0, 1.6, 2.3, 1.0, 0.3, 0.0, 5.4, 1.6666666666666667, 0.6, 0.2, 0.3, 2.0, 0.2, 6.9, 1.0, 0.1, 0.1, 0.4, 1.7, 1.3, 1.7, 1.3333333333333333, 2.1, 0.1, 9.0, 3.4, 0.7, 2.2, 0.6, 2.7, 0.2, 2.3333333333333335, 2.0, 1.5, 6.0, 1.5, 1.8, 0.5, 0.4, 8.6, 0.8, 2.8, 1.4, 2.8, 2.1, 4.9, 0.9, 1.6, 0.1, 0.4, 0.9, 0.3, 0.1, 1.9, 1.8, 0.5, 2.5, 3.4, 0.3, 1.6, 2.9, 1.3, 2.5, 0.1, 1.3, 1.4, 0.2, 1.8, 1.7, 1.8, 2.0, 0.0, 1.7, 1.0, 0.75, 1.8, 1.1, 1.0, 0.9, 0.7, 0.3, 0.3, 0.1, 3.5, 2.4, 0.1, 3.7, 5.2, 0.2, 1.4, 3.1, 0.4, 3.9, 5.9, 3.2, 2.1, 5.4, 2.0, 0.4, 2.3, 1.0, 0.4, 2.5, 4.6, 1.5, 0.3, 1.9, 1.0, 2.3, 1.3, 2.5, 0.5, 1.3, 0.6, 0.1, 7.4, 6.333333333333333, 1.5, 1.1, 0.2, 0.4, 0.8, 1.9, 1.4, 2.5, 1.6, 0.1, 1.0, 3.0, 2.4, 0.9, 6.8, 0.5, 2.0, 0.5, 1.4, 2.5, 2.5, 1.0, 2.1, 1.7, 0.8, 1.4, 2.5, 0.2, 0.2, 0.6, 0.0, 0.6, 0.7, 4.333333333333333, 0.7, 2.6666666666666665, 1.2, 4.5, 1.0, 0.1, 1.5, 3.8, 3.8, 0.0, 0.2, 3.8, 1.0, 1.1, 0.0, 0.1, 1.6, 2.3, 2.2, 4.5, 1.5, 0.3, 1.7, 0.3, 0.3, 0.0, 2.8, 0.0, 5.4, 0.5, 0.8, 7.3, 4.3, 1.1, 0.3, 2.0, 2.2, 4.4, 0.3, 0.0, 1.9, 0.7, 4.5, 2.0, 2.2, 1.7, 1.4, 1.4, 1.5, 2.2, 1.8, 3.0, 0.1, 7.4, 6.7, 1.0, 0.1, 2.4, 2.2, 1.8, 4.6, 2.0, 0.2, 1.5, 0.3, 1.3, 1.3, 0.4, 2.0, 1.3, 0.1, 0.9, 0.3, 6.9, 0.4, 2.4, 1.0, 2.7, 4.0, 1.2, 0.9, 1.4, 2.0, 2.8, 4.3, 0.7, 1.0, 1.7, 4.0, 1.8, 2.3, 3.0, 1.3, 1.5, 0.0, 0.7, 1.2, 1.2, 0.8, 0.0, 0.7, 1.9, 3.5, 2.4, 1.2, 0.8, 1.5, 2.7, 0.4, 3.0, 0.3, 3.0, 0.0, 0.2, 4.25, 2.3, 0.6, 2.7, 2.3, 0.4, 1.1, 0.2, 2.6, 2.8, 7.0, 1.8, 2.8, 1.0, 1.9, 0.1, 0.4, 4.9, 6.0, 4.3, 1.4, 7.0, 3.6, 0.8, 1.7, 0.7, 0.3, 0.8, 0.8, 2.3, 0.7, 1.7, 2.6, 2.5, 3.1, 2.1, 1.0, 0.3, 0.3, 2.2, 0.3, 1.3, 0.3, 0.7, 6.7, 0.7, 0.8, 7.4, 1.8, 2.6, 3.1, 0.0, 1.3, 2.9, 1.7, 6.3, 0.0, 0.0, 2.0, 3.6, 1.5, 0.0, 0.4, 1.0, 2.4, 1.8, 1.7, 0.8, 2.2, 6.3, 6.0, 0.9, 2.0, 2.8, 3.3, 1.0, 0.8, 4.0, 0.9, 1.5, 0.1, 0.5, 1.6, 1.2, 4.2, 1.0, 0.8, 1.4, 0.4, 1.1, 0.2, 2.5, 0.8, 3.9, 2.6, 1.5, 1.1, 5.2, 1.0, 4.333333333333333, 0.0, 0.4, 2.0, 0.8, 2.2, 2.0, 2.0, 1.3, 1.9, 1.6, 1.4, 0.2, 0.4, 6.0, 7.6, 0.7, 1.7, 0.6, 2.3333333333333335, 1.8, 0.5, 0.1, 6.666666666666667, 1.4, 0.1, 0.4, 0.6, 1.6, 0.3, 6.333333333333333, 1.4, 1.0, 0.4, 0.2, 6.5, 2.7, 0.4, 6.5, 0.3, 2.3, 2.6, 1.5, 0.6666666666666666, 1.3, 2.3, 1.5, 0.3, 0.4, 0.6, 2.4, 1.8, 2.2, 2.1, 0.4, 2.7, 0.2, 0.9, 2.5, 2.4, 4.7, 0.7, 1.8, 0.8, 1.1, 0.3, 0.4, 0.7, 2.1, 1.7, 0.2, 7.4, 0.4, 4.9, 1.7, 0.0, 1.2, 0.7, 0.8, 0.0, 2.0, 1.6666666666666667, 5.0, 0.6, 7.2, 0.2, 2.3333333333333335, 5.3, 2.2, 0.1, 0.7, 0.3, 0.8, 0.5, 0.8, 1.1, 0.7, 1.0, 2.8, 2.9, 0.7, 2.8, 1.7, 2.0, 4.5, 1.5, 0.2, 0.2, 0.7, 0.3, 0.0, 5.7, 0.8, 3.9, 2.9, 2.1, 8.6, 2.7, 0.4, 1.5, 2.6, 1.3, 1.6, 2.6666666666666665, 0.0, 0.1, 0.4, 1.5, 2.1, 0.2, 0.5, 4.7, 0.9, 0.7, 0.4, 1.7, 0.2, 2.2, 1.6, 0.1, 1.3, 5.1, 0.0, 8.3, 5.8, 0.2, 2.7, 0.3, 2.0, 7.8, 0.4, 3.8, 0.8, 0.3, 1.4, 1.9, 1.0, 4.0, 1.3, 0.4, 0.1, 2.7, 6.0, 0.1, 2.2, 0.1, 2.6, 1.3, 1.6, 0.3, 2.2, 1.8, 2.6, 1.0, 0.7, 1.0, 0.8, 2.8, 0.4, 4.9, 2.9, 3.7, 1.2, 2.8, 1.8, 2.6, 0.4, 5.4, 2.0, 4.1, 1.8, 1.1, 0.7, 0.9, 2.5, 2.9, 2.6666666666666665, 0.8, 1.7, 1.9, 2.6666666666666665, 0.6, 2.9, 7.4, 1.1, 1.7, 2.0, 2.8, 0.3, 8.1, 2.2, 1.7, 0.4, 0.1, 2.6, 2.6, 0.1, 0.1, 0.2, 0.4, 6.666666666666667, 1.2, 1.4, 0.0, 0.4, 0.3, 0.5, 1.7, 3.8, 0.5, 4.8, 0.9, 1.6, 2.1, 1.6, 1.6666666666666667, 6.0, 1.4, 0.4, 0.8, 1.4, 0.2, 1.8, 0.3, 2.4, 2.3, 1.2, 0.6, 1.0, 2.0, 2.4, 1.2, 0.8, 4.8, 3.0, 3.3, 1.9, 0.2, 1.8, 3.2, 0.5, 2.6, 1.9, 1.5, 2.0, 1.8, 2.4, 1.2, 1.5, 2.0, 2.6, 0.2, 2.0, 0.5, 0.8, 3.3, 1.5, 1.0, 0.0, 4.9, 6.333333333333333, 1.1, 1.5, 0.5, 2.4, 0.5, 1.4, 2.0, 1.5, 1.1, 2.1, 0.0, 0.2, 0.2, 1.8, 0.5, 1.4, 1.0, 2.4, 3.0, 0.1, 0.3, 1.7, 0.4, 0.4, 2.0, 0.3, 1.8, 0.2, 0.5, 0.8, 3.1, 6.0, 2.4, 1.4, 1.8, 4.0, 2.4, 0.1, 3.25, 4.2, 4.7, 1.9, 6.5, 0.1, 2.0, 1.1, 1.9, 1.5, 0.0, 1.4, 0.8, 5.666666666666667, 0.8, 0.8, 1.0, 2.1, 0.2, 0.2, 4.8, 1.8, 0.2, 0.2, 2.0, 0.7, 0.0, 0.0, 2.0, 3.9, 0.5, 0.2, 0.3, 1.9, 1.0, 0.6666666666666666, 1.0, 7.3, 0.4, 0.5, 8.5, 0.3, 0.2, 0.3, 0.9, 8.0, 4.0, 1.8, 1.1, 0.8, 0.2, 0.8, 2.0, 1.9, 1.4, 1.3, 3.9, 0.6, 6.7, 0.1, 4.9, 2.5, 0.4, 1.8, 1.5, 1.4, 2.9, 0.3, 0.8, 0.5, 0.0, 0.2, 0.7, 1.3, 2.0, 7.3, 8.0, 1.0, 1.0, 0.1, 1.3, 2.0, 0.2, 1.0, 0.6, 0.8, 6.9, 2.0, 2.7, 2.9, 2.0, 0.4, 3.6, 2.5, 3.2, 2.3, 0.1, 3.8, 0.4, 0.8, 10.0, 6.5, 0.2, 1.8, 2.9, 0.2, 2.6666666666666665, 6.5, 2.5, 1.6, 1.9, 1.0, 1.7, 1.4, 2.6666666666666665, 0.9, 1.3, 0.5, 0.3, 2.2, 0.8, 0.1, 0.9, 0.8, 0.4, 0.0, 1.1, 0.7, 2.6666666666666665, 0.2, 1.0, 2.0, 1.5, 0.75, 1.2, 0.1, 1.1, 0.1, 0.8, 1.6, 1.5, 1.7, 5.666666666666667, 1.7, 1.0, 1.0, 3.2, 7.3, 0.8, 0.3, 0.1, 5.2, 2.4, 2.9, 2.7, 0.2, 3.1, 4.8, 2.2, 0.9, 0.9, 1.8, 2.5, 1.0, 0.9, 1.3, 2.6, 0.7, 0.5, 1.5, 1.8, 1.7, 3.1, 3.3, 2.3333333333333335, 4.0, 2.3, 1.5, 1.6, 0.75, 1.4, 2.0, 3.4, 1.6, 0.2, 1.0, 0.5, 0.6, 0.2, 8.0, 1.0, 0.1, 1.6, 0.2, 4.75, 0.3, 0.0, 1.3, 1.3, 0.4, 1.9, 0.6, 0.4, 2.8, 2.2, 2.8, 0.0, 0.9, 1.9, 1.4, 2.7, 0.8, 0.8, 4.0, 3.8, 3.3, 0.3, 2.0, 0.8, 1.7, 0.3, 2.0, 1.4, 0.4, 5.4, 1.7, 1.9, 1.4, 3.0, 5.7, 0.5, 1.8, 0.4, 6.9, 0.5, 0.0, 1.4, 2.5, 0.2, 0.4, 1.8, 1.7, 0.8, 0.7, 3.1, 2.5, 0.8, 1.0, 5.0, 2.2, 1.4, 0.3, 1.7, 0.1, 0.9, 1.4, 0.7, 0.8, 0.3, 5.0, 0.7, 1.5, 0.7, 1.4, 4.1, 1.3, 3.0, 2.1, 2.6, 4.4, 0.8, 2.1, 0.0, 3.4, 4.4, 1.0, 4.5, 0.6, 2.0, 1.3, 2.7, 2.6, 0.6, 2.4, 0.5, 0.2, 2.6, 1.8, 0.7, 2.7, 2.1, 0.1, 1.9, 1.0, 0.2, 0.4, 0.5, 0.1, 2.2, 0.7, 7.0, 0.8, 4.7, 6.7, 2.2, 1.7, 2.4, 1.3333333333333333, 0.3, 3.4, 2.4, 0.3, 1.8, 1.4, 6.8, 5.9, 0.8, 3.0, 2.0, 0.5, 1.3, 2.0, 0.75, 0.1, 2.9, 0.8, 4.4, 1.5, 1.8, 2.3, 1.4, 0.7, 1.9, 3.6, 4.5, 10.0, 7.5, 2.0, 1.2, 1.5, 0.5, 0.8, 0.5, 4.1, 1.5, 0.1, 4.9, 4.3, 0.4, 3.2, 2.6666666666666665, 0.6, 0.4, 1.6, 3.4, 0.0, 0.8, 5.6, 1.6, 0.5, 0.6, 2.4, 1.6, 0.3, 2.2, 0.2, 2.1, 0.1, 2.1, 1.5, 2.8, 4.8, 1.0, 1.3, 0.2, 6.666666666666667, 0.8, 6.1, 0.6, 2.4, 7.5, 1.1, 2.8, 3.5, 1.6, 1.8, 0.5, 1.9, 2.0, 4.666666666666667, 3.3, 0.8, 8.0, 1.0, 1.7, 0.2, 0.3, 1.0, 6.1, 2.2, 0.6666666666666666, 0.5, 1.5, 0.9, 0.5, 0.8, 1.1, 2.6666666666666665, 6.7, 2.7, 1.7, 1.0, 4.0, 0.2, 0.3, 1.6, 0.7, 1.0, 0.8, 0.6, 0.5, 1.3, 1.4, 1.6, 0.9, 0.4, 3.6666666666666665, 2.2, 2.1, 0.9, 2.3, 5.2, 2.2, 1.5, 3.4, 0.3, 0.6, 0.6, 0.3, 1.7, 1.7, 0.5, 0.9, 2.6, 8.8, 0.6, 1.2, 1.1, 4.9, 1.0, 2.1, 1.5, 7.4, 0.8, 0.0, 0.8, 0.9, 0.3, 0.8, 0.4, 0.2, 0.4, 0.3, 0.8, 7.3, 0.1, 4.5, 1.1, 2.0, 0.9, 1.0, 0.8, 0.7, 2.6, 6.7, 3.8, 2.4, 1.9, 1.5, 2.9, 1.4, 1.5, 1.3, 0.5, 1.9, 0.2, 6.5, 2.7, 3.1, 2.5, 1.8, 1.9, 0.7, 0.9, 6.1, 2.8, 2.0, 2.6, 6.0, 0.4, 1.7, 0.8, 1.9, 2.1, 3.0, 0.2, 1.3, 3.0, 1.4, 1.4, 0.1, 1.9, 2.6, 2.0, 1.3, 1.0, 2.5, 1.8, 6.9, 6.3, 0.4, 1.2, 0.6, 1.1, 4.4, 0.1, 1.5, 1.0, 0.8, 1.1, 1.9, 0.7, 4.2, 1.9, 7.8, 4.2, 0.1, 2.2, 1.6, 0.6, 3.6, 0.0, 0.1, 2.7, 0.7, 0.5, 2.1, 1.5, 1.7, 0.8, 1.7, 1.5, 0.2, 6.666666666666667, 2.7, 0.8, 2.9, 2.1, 1.5, 1.0, 0.0, 1.0, 3.9, 1.3, 4.6, 4.5, 2.0, 1.5, 1.6, 0.6666666666666666, 0.5, 1.3, 0.8, 5.0, 0.4, 6.0, 0.7, 2.1, 2.5, 4.2, 2.8, 6.1, 2.5, 1.3, 3.8, 7.4, 0.7, 0.7, 7.9, 0.2, 4.6, 2.3, 5.0, 0.2, 2.0, 2.1, 1.4, 4.3, 0.2, 1.0, 1.2, 1.7, 1.5, 2.0, 7.5, 3.2, 0.6, 1.1, 5.4, 5.7, 0.7, 1.6, 2.5, 2.3, 0.0, 2.5, 0.7, 3.0, 2.1, 3.4, 0.8, 2.5, 2.0, 0.1, 1.7, 2.6666666666666665, 4.9, 0.4, 2.8, 0.8, 4.1, 2.0, 1.0, 3.0, 2.8, 5.4, 0.0, 0.4, 0.8, 2.2, 2.6, 2.9, 7.2, 1.3, 1.1, 0.7, 1.6, 3.1, 2.2, 1.0, 4.1, 2.6, 1.5, 0.9, 0.1, 2.5, 2.1, 4.9, 2.4, 4.5, 0.6, 0.0, 0.9, 0.1, 2.7, 2.5, 0.5, 1.0, 0.6, 1.75, 0.3, 1.5, 4.3, 2.1, 1.5, 0.8, 2.6, 1.4, 1.8, 2.1, 0.4, 0.6, 0.7, 3.4, 0.7, 5.4, 1.7, 0.2, 2.1, 0.1, 1.7, 0.5, 8.0, 0.1, 2.2, 1.6, 6.1, 2.6, 3.0, 0.5, 2.4, 0.3, 2.8, 0.7, 0.8, 1.7, 1.7, 5.7, 5.4, 1.8, 2.0, 2.3, 1.5, 0.1, 7.2, 0.4, 3.7, 0.4, 2.5, 1.5, 2.8, 2.1, 1.5, 0.3, 0.2, 2.1, 0.3, 0.9, 2.6, 0.3, 0.5, 4.5, 0.3, 2.1, 1.5, 0.4, 0.7, 0.2, 1.3, 2.1, 1.4, 2.6, 0.8, 0.1, 0.6, 0.9, 4.75, 2.2, 0.1, 1.0, 2.8, 0.7, 0.3, 2.3, 1.0, 3.7, 0.7, 2.9, 0.2, 4.4, 0.0, 2.4, 8.8, 4.0, 7.0, 6.5, 7.9, 0.3, 4.1, 6.3, 0.7, 1.3, 4.1, 0.9, 0.2, 0.3, 1.0, 2.2, 1.1, 2.8, 6.9, 0.1, 0.2, 1.4, 7.6, 1.5, 6.0, 1.8, 0.8, 2.0, 2.5, 0.3, 3.4, 0.7, 0.4, 5.0, 0.3, 1.5, 5.8, 0.8, 3.3, 0.9, 2.2, 1.3, 0.1, 8.2, 0.1, 2.2, 2.6, 0.4, 4.0, 0.9, 0.4, 3.3, 0.1, 0.8, 0.6, 0.3, 2.5, 0.2, 2.2, 0.7, 2.5, 1.3, 0.8, 5.7, 1.4, 1.0, 1.5, 2.6, 1.1, 4.1, 0.0, 0.1, 7.3, 2.8, 1.0, 2.2, 1.7, 1.7, 0.2, 6.666666666666667, 4.3, 1.8, 8.1, 0.6, 3.6, 1.5, 1.0, 7.5, 7.8, 0.9, 0.5, 0.2, 2.4, 0.0, 0.0, 0.2, 3.3, 4.4, 1.8, 1.3, 5.2, 2.4, 0.3, 0.1, 2.5, 0.1, 2.3, 4.1, 2.3333333333333335, 1.1, 0.1, 2.7, 1.4, 2.1, 0.6, 1.3, 2.2, 1.0, 1.9, 0.2, 1.6, 2.8, 2.0, 0.9, 1.3, 0.8, 1.3, 5.9, 0.3, 3.2, 0.1, 2.8, 1.5, 2.2, 0.3, 1.6666666666666667, 1.3, 0.1, 1.6666666666666667, 4.5, 1.8, 3.2, 2.3333333333333335, 1.7, 3.8, 1.2, 1.5, 0.8, 2.3, 1.6, 0.3, 1.4, 0.2, 1.3, 0.4, 0.6, 5.2, 6.7, 0.3, 2.6666666666666665, 1.0, 7.0, 2.7, 6.5, 3.0, 2.0, 2.0, 2.6, 0.4, 0.1, 2.6, 4.3, 1.6, 0.0, 0.5, 4.3, 3.3, 0.1, 0.2, 0.7, 2.4, 8.6, 0.5, 2.4, 2.3, 5.2, 0.5, 2.4, 0.2, 1.5, 1.8, 1.9, 2.3, 0.4, 0.6, 1.9, 1.3, 2.2, 1.1, 1.0, 1.8, 2.9, 1.9, 1.5, 2.6, 4.1, 0.7, 2.6, 1.2, 4.4, 0.3, 1.1, 3.6, 2.8, 2.0, 8.8, 3.4, 0.4, 1.0, 2.9, 0.1, 1.0, 4.5, 3.3333333333333335, 1.6, 0.3, 0.2, 4.3, 1.6, 1.7, 1.9, 1.6, 7.0, 5.0, 0.8, 3.0, 2.6, 0.8, 2.6666666666666665, 4.5, 1.4, 2.5, 2.9, 3.6, 3.7, 1.4, 2.3, 3.5, 0.5, 1.9, 1.7, 2.0, 2.7, 0.8, 0.1, 0.1, 6.1, 1.8, 1.4, 0.4, 4.7, 2.4, 0.3, 0.7, 0.4, 0.2, 4.9, 1.0, 0.6, 3.0, 2.7, 0.3, 2.8, 2.3, 4.7, 0.8, 3.9, 1.3, 1.5, 3.2, 0.2, 5.5, 2.3, 3.8, 0.7, 0.2, 2.6, 5.7, 4.0, 0.1, 0.1, 4.4, 3.5, 1.6666666666666667, 2.9, 4.5, 2.6666666666666665, 1.8, 0.1, 3.2, 1.5, 1.4, 1.6, 0.3, 0.5, 0.3, 2.2, 4.5, 0.9, 2.4, 0.7, 0.3, 0.3, 0.3, 1.3, 1.0, 1.5, 1.4, 0.4, 0.4, 0.5, 1.6, 1.2, 2.2, 0.1, 2.5, 3.8, 2.8, 0.9, 1.4, 2.1, 0.3, 0.1, 1.7, 1.0, 2.2, 0.3, 0.6, 3.2, 2.1, 2.0, 0.2, 0.1, 0.5, 0.8, 0.9, 1.7, 0.4, 0.6, 1.0, 2.8, 0.2, 0.7, 0.2, 1.8, 0.3, 2.7, 2.5, 2.6, 0.4, 1.8, 2.2, 0.5, 4.6, 0.3, 1.0, 0.6, 1.1, 0.1, 1.0, 3.3, 1.7, 1.3, 0.1, 1.0, 5.0, 0.5, 1.0, 0.3, 3.0, 0.3, 0.1, 0.8, 2.6666666666666665, 4.7, 5.4, 0.8, 1.0, 0.0, 6.9, 0.8, 1.2, 1.7, 1.6, 2.6666666666666665, 2.3333333333333335, 0.3, 1.7, 0.2, 0.4, 0.4, 1.5, 1.9, 0.7, 0.6, 1.7, 1.9, 0.6666666666666666, 8.0, 3.8, 1.0, 0.5, 4.5, 0.3, 3.0, 1.8, 0.5, 4.0, 0.5, 1.4, 1.8, 1.5, 2.0, 0.7, 2.8, 0.2, 0.3, 7.5, 1.7, 1.4, 1.5, 4.3, 1.6, 1.5, 2.5, 4.5, 2.8, 2.0, 0.1, 0.2, 0.3, 4.1, 6.1, 2.0, 0.2, 1.8, 0.8, 0.5, 0.3, 0.9, 1.5, 0.4, 1.7, 3.4, 2.4, 0.3, 2.0, 0.0, 0.6, 1.6, 0.75, 0.1, 1.1, 0.3, 1.6, 2.8, 2.0, 1.5, 0.2, 3.6, 0.8, 3.3, 3.3, 1.2, 1.2, 3.0, 0.0, 1.5, 0.3, 2.0, 2.5, 1.8, 2.2, 2.3, 0.0, 3.8, 3.8, 3.4, 2.4, 0.5, 2.2, 1.0, 5.4, 2.8, 3.6, 4.1, 1.8, 4.1, 1.5, 1.2, 3.9, 3.2, 3.8, 2.6, 1.5, 4.7, 0.7, 0.7, 2.8, 0.8, 0.5, 0.3, 0.1, 1.3, 2.5, 2.0, 4.0, 4.4, 0.3, 0.3, 1.9, 1.9, 2.6, 0.8, 0.7, 1.0, 2.8, 2.4, 1.0, 3.8, 0.2, 1.0, 0.3, 8.8, 0.9, 1.7, 1.1, 2.0, 2.0, 3.2, 2.0, 0.6, 5.2, 4.0, 1.3, 1.4, 1.3, 2.9, 1.3, 0.1, 3.8, 1.1, 0.1, 1.6666666666666667, 0.1, 0.8, 7.8, 0.7, 2.0, 1.2, 5.1, 1.8, 0.3, 1.2, 1.0, 3.4, 1.0, 2.8, 2.0, 0.3, 4.5, 1.8, 1.7, 0.6666666666666666, 0.6, 0.3, 2.4, 4.6, 2.7, 0.4, 0.6, 5.0, 1.6, 0.3, 1.3, 2.4, 0.6666666666666666, 6.0, 1.6, 5.333333333333333, 0.1, 0.9, 0.5, 4.9, 7.2, 2.2, 1.1, 2.8, 0.7, 0.6, 2.0, 0.8, 3.5, 2.8, 4.1, 8.6, 0.4, 0.8, 0.2, 3.3, 0.8, 0.3, 0.8, 1.0, 0.9, 1.4, 0.0, 6.7, 2.4, 2.1, 1.2, 1.4, 0.0, 3.7, 0.6, 2.1, 2.0, 0.7, 1.9, 2.0, 0.2, 2.0, 4.9, 1.4, 1.3, 2.2, 0.0, 1.0, 1.4, 1.7, 0.8, 2.4, 1.4, 1.0, 0.0, 1.5, 8.0, 0.9, 1.4, 0.3, 1.7, 1.0, 1.3, 1.6, 1.3, 2.5, 0.7, 2.8, 0.1, 0.6, 0.3, 0.5, 2.8, 0.9, 1.5, 7.4, 0.1, 1.9, 4.8, 0.5, 1.6, 0.4, 0.3, 0.3, 0.5, 4.7, 2.8, 2.8, 1.8, 2.4, 2.0, 0.5, 0.8, 4.25, 1.9, 1.0, 0.2, 1.8, 2.5, 0.5, 1.4, 3.0, 0.7, 0.7, 0.3, 6.9, 4.333333333333333, 1.5, 2.5, 1.5, 0.3, 4.3, 4.7, 2.5, 0.8, 1.0, 1.8, 1.1, 6.4, 1.3333333333333333, 0.4, 0.6, 0.4, 1.5, 1.8, 2.0, 0.3, 0.8, 0.3, 2.8, 1.7, 2.0, 2.1, 0.6, 0.8, 1.8, 2.6666666666666665, 4.3, 0.9, 2.3333333333333335, 1.5, 2.9, 1.0, 1.2, 0.4, 0.6, 3.9, 6.0, 1.8, 1.3, 0.8, 0.0, 0.8, 0.9, 0.9, 0.2, 1.1, 2.2, 1.0, 2.8, 0.9, 0.0, 2.1, 2.0, 1.2, 0.3, 0.3, 0.1, 2.2, 0.3, 5.4, 3.0, 0.0, 1.1, 2.4, 1.1, 0.7, 2.0, 1.6, 0.75, 0.5, 0.5, 7.0, 2.0, 2.7, 1.7, 2.9, 2.5, 1.5, 2.2, 1.0, 6.5, 0.9, 0.6, 1.1, 2.8, 1.3, 4.5, 0.8, 0.6, 5.6, 0.4, 5.6, 0.3, 0.6, 0.3, 2.0, 4.1, 2.9, 2.2, 1.0, 0.0, 1.5, 0.8, 1.0, 3.9, 0.1, 0.0, 2.4, 0.1, 2.3, 0.6666666666666666, 0.3, 2.5, 1.8, 4.7, 2.0, 0.9, 0.1, 2.1, 2.6, 0.1, 0.1, 0.5, 2.6, 0.0, 0.9, 4.7, 4.3, 1.6, 0.9, 4.6, 5.8, 5.4, 6.0, 1.5, 0.3, 1.0, 0.3, 0.3, 1.7, 3.8, 1.7, 1.4, 2.9, 0.2, 3.4, 0.0, 4.0, 1.9, 6.3, 0.3, 2.3, 0.5, 0.9, 1.0, 1.9, 8.1, 1.6666666666666667, 2.3, 0.7, 1.6, 2.5, 3.7, 6.9, 1.0, 2.0, 1.8, 0.8, 1.9, 2.2, 2.0, 0.9, 2.4, 1.0, 2.4, 0.1, 0.4, 2.4, 4.1, 0.0, 1.6, 1.9, 2.3333333333333335, 2.8, 1.6, 0.3, 1.4, 0.4, 0.4, 0.5, 1.3, 0.2, 2.0, 1.5, 0.3, 0.6, 6.3, 1.3, 4.3, 0.7, 3.0, 1.7, 0.8, 1.3, 1.3333333333333333, 8.1, 2.8, 1.1, 0.6, 2.2, 1.7, 0.6666666666666666, 2.8, 0.2, 0.5, 0.5, 1.4, 5.7, 2.6, 4.3, 2.4, 5.1, 1.0, 1.6, 0.6, 4.0, 1.2, 1.0, 0.4, 0.6, 0.7, 0.4, 0.2, 2.5, 2.0, 0.1, 2.3, 2.6, 0.3, 2.4, 1.6, 2.1, 2.0, 0.5, 0.3, 2.4, 0.1, 2.5, 0.4, 0.9, 0.3, 0.2, 5.2, 1.8, 0.5, 1.4, 0.4, 4.7, 3.2, 6.0, 1.4, 1.6, 5.4, 1.2, 3.9, 2.7, 2.3333333333333335, 0.5, 1.0, 1.3, 0.3, 2.4, 1.0, 2.2, 1.4, 6.666666666666667, 1.5, 1.4, 0.7, 1.1, 4.4, 0.4, 0.3, 3.8, 2.6666666666666665, 0.7, 3.3, 2.3333333333333335, 2.0, 3.0, 2.4, 1.8, 2.0, 2.7, 0.9, 0.6, 2.6, 6.8, 1.3, 2.2, 1.4, 3.8, 2.4, 0.3, 1.7, 2.5, 0.4, 1.7, 0.3, 1.7, 2.9, 0.2, 1.2, 0.3, 1.0, 0.2, 0.5, 0.3, 0.7, 2.0, 8.8, 0.8, 0.8, 7.8, 6.5, 1.6, 1.0, 0.6, 2.0, 1.3, 1.3, 0.3, 2.0, 0.9, 2.3, 2.0, 2.3, 3.7, 9.0, 0.9, 3.4, 5.0, 3.9, 0.8, 0.5, 2.0, 3.9, 2.1, 0.1, 1.4, 2.2, 0.5, 0.0, 1.8, 2.0, 0.1, 0.2, 2.0, 5.2, 2.7, 0.6, 1.5, 1.1, 1.3, 2.0, 0.8, 3.8, 0.4, 2.0, 1.8, 1.7, 2.6, 1.9, 0.4, 1.4, 0.1, 1.5, 2.5, 0.7, 2.8, 2.5, 1.8, 2.7, 0.3, 2.6666666666666665, 0.9, 1.9, 1.0, 1.6, 0.0, 0.6, 2.4, 1.0, 0.0, 2.5, 0.5, 1.5, 2.1, 1.8, 2.3, 4.0, 1.7, 2.6666666666666665, 0.1, 2.9, 0.5, 1.4, 1.7, 0.3, 2.0, 6.666666666666667, 2.3, 3.3, 1.4, 0.4, 2.6, 2.1, 0.0, 0.4, 1.6, 2.5, 0.3, 0.1, 1.3, 1.0, 0.8, 1.5, 0.8, 1.8, 2.8, 0.2, 0.1, 1.7, 4.5, 1.5, 1.2, 1.5, 2.8, 6.0, 1.4, 1.3, 1.7, 2.6666666666666665, 0.4, 2.9, 1.0, 0.7, 2.5, 0.0, 2.5, 0.8, 2.2, 0.0, 0.2, 2.5, 2.7, 0.1, 9.3, 1.4, 5.6, 5.0, 3.1, 0.4, 1.5, 2.1, 3.9, 0.1, 3.1, 0.8, 0.5, 1.1, 0.4, 1.3, 2.2, 0.3, 1.0, 2.2, 1.9, 1.9, 2.9, 0.6, 0.2, 2.3333333333333335, 2.2, 0.5, 4.333333333333333, 2.8, 0.5, 0.5, 2.5, 1.0, 0.3, 0.0, 1.4, 0.5, 1.5, 3.6, 0.3, 1.1, 2.6, 0.2, 3.4, 1.4, 3.7, 2.0, 3.9, 0.9, 0.8, 0.6, 0.6, 1.7, 1.3333333333333333, 0.8, 3.0, 1.9, 2.8, 0.6, 0.7, 0.8, 1.2, 1.0, 7.5, 7.6, 1.9, 1.7, 0.6, 0.3, 0.7, 2.7, 1.3, 2.9, 0.7, 5.2, 0.3, 4.0, 0.7, 0.1, 1.8, 5.5, 1.9, 2.9, 1.3, 0.8, 0.3, 1.6, 1.4, 1.7, 6.5, 0.7, 0.0, 1.7, 4.6, 1.9, 0.2, 4.5, 2.6, 0.3, 0.7, 2.6, 5.2, 1.6, 2.6, 1.0, 2.9, 1.7, 0.0, 1.7, 2.1, 6.3, 2.1, 1.5, 1.5, 6.7, 1.75, 1.7, 0.1, 0.0, 3.7, 2.0, 0.5, 0.5, 1.3, 0.7, 1.0, 1.0, 0.2, 0.3, 0.8, 0.3, 1.8, 3.6, 2.2, 2.0, 1.5, 2.2, 1.1, 0.0, 2.4, 0.2, 4.2, 2.1, 2.1, 1.3, 3.3, 2.2, 0.4, 0.4, 2.8, 2.0, 0.0, 2.8, 1.7, 0.6, 0.4, 0.8, 1.0, 3.4, 1.2, 2.9, 2.2, 1.0, 2.4, 1.5, 0.7, 1.1, 0.1, 1.1, 0.2, 0.7, 1.8, 1.4, 2.8, 2.9, 2.6, 0.2, 0.7, 1.3, 1.8, 1.9, 0.4, 1.9, 0.4, 2.6, 3.4, 0.1, 2.8, 2.0, 1.1, 0.6, 2.9, 1.5, 2.1, 1.6, 0.3, 3.3, 1.6, 1.3, 6.5, 2.0, 0.7, 1.7, 5.9, 0.8, 6.8, 1.3, 0.1, 8.6, 0.9, 0.7, 1.9, 0.1, 2.6, 0.8, 1.9, 1.1, 3.8, 0.7, 3.5, 0.4, 2.7, 1.2, 2.5, 0.1, 0.3, 0.5, 4.9, 0.7, 2.6, 1.6, 3.4, 0.6666666666666666, 0.4, 0.8, 3.5, 2.4, 2.5, 1.0, 2.2, 1.3, 1.7, 3.9, 1.0, 0.2, 0.2, 0.5, 2.2, 0.9, 0.4, 1.7, 0.2, 1.9, 0.5, 0.9, 1.9, 2.1, 3.9, 1.3, 2.1, 1.8, 1.4, 1.6666666666666667, 1.8, 0.5, 1.9, 2.7, 0.3, 3.1, 0.3, 0.2, 0.4, 0.1, 0.4, 0.7, 0.5, 1.0, 8.8, 1.8, 3.8, 2.0, 3.0, 2.8, 1.8, 1.8, 3.3, 0.8, 0.2, 3.9, 4.4, 7.6, 2.2, 4.1, 2.0, 0.2, 0.7, 2.0, 3.5, 1.5, 0.8, 3.9, 2.1, 0.1, 0.9, 0.1, 3.0, 1.6, 2.8, 7.6, 2.2, 7.2, 3.7, 1.4, 0.8, 1.7, 0.2, 0.3, 0.6, 0.2, 5.7, 2.4, 0.5, 1.5, 6.333333333333333, 1.9, 3.8, 2.0, 3.4, 7.3, 3.5, 1.7, 1.8, 3.3, 1.5, 6.333333333333333, 2.2, 3.3, 0.2, 2.5, 0.6, 1.9, 0.0, 0.1, 4.3, 1.5, 7.4, 0.0, 2.2, 3.4, 0.3, 2.6, 0.3, 1.1, 3.4, 3.3, 1.8, 1.6, 2.0, 6.0, 2.6, 2.9, 6.1, 0.9, 2.8, 2.7, 2.2, 1.8, 0.2, 1.3, 1.5, 0.1, 4.1, 2.0, 1.7, 0.9, 0.8, 1.5, 0.2, 2.1, 6.4, 0.7, 1.1, 6.0, 1.0, 1.2, 1.9, 2.8, 0.0, 3.2, 0.4, 1.7, 2.7, 1.6, 2.3, 3.6, 8.1, 4.2, 0.5, 0.2, 2.7, 1.0, 3.4, 2.0, 2.6666666666666665, 0.5, 5.6, 0.75, 0.7, 6.3, 2.0, 2.8, 1.1, 2.0, 1.1, 0.3, 2.3, 2.5, 1.1, 3.9, 1.0, 0.4, 0.4, 0.6, 2.4, 4.3, 2.3333333333333335, 2.0, 3.0, 2.7, 1.2, 1.9, 1.5, 0.8, 2.2, 2.5, 2.7, 1.2, 2.4, 0.7, 7.3, 1.6, 2.8, 3.3, 3.8, 1.6, 0.7, 0.6, 0.5, 0.1, 2.5, 0.1, 1.3333333333333333, 1.5, 1.4, 0.0, 0.4, 1.7, 0.4, 1.7, 2.3, 0.2, 3.0, 0.4, 1.5, 8.5, 1.5, 0.3, 1.1, 1.8, 3.7, 4.7, 0.6, 3.8, 0.5, 2.5, 4.0, 4.6, 0.4, 1.0, 2.7, 0.8, 1.8, 0.8, 1.9, 2.2, 1.3, 0.5, 1.5, 0.0, 3.6, 0.3, 1.7, 3.6, 1.8, 2.8, 1.4, 2.2, 2.0, 0.9, 0.2, 2.5, 0.4, 2.3, 0.1, 0.6, 1.5, 0.3, 1.7, 0.8, 4.0, 0.2, 1.9, 0.8, 0.1, 0.2, 2.2, 2.8, 0.1, 2.2, 0.5, 5.3, 0.8, 2.8, 0.3, 2.4, 0.8, 0.3, 1.5, 2.1, 4.333333333333333, 6.0, 0.8, 1.0, 3.0, 2.2, 0.8, 3.6, 1.5, 0.2, 0.0, 0.4, 3.0, 2.6, 3.7, 2.6666666666666665, 2.6, 3.2, 0.6, 0.5, 0.5, 2.2, 0.0, 0.5, 1.8, 1.1, 2.8, 0.9, 1.9, 1.7, 0.1, 1.0, 0.6, 1.7, 2.1, 0.7, 2.5, 0.2, 0.6, 2.0, 0.1, 0.3, 1.7, 0.7, 3.8, 1.6666666666666667, 0.6, 0.3, 1.0, 1.0, 1.3333333333333333, 3.1, 0.5, 2.6666666666666665, 2.1, 0.5, 2.5, 2.0, 1.0, 1.5, 3.8, 0.2, 0.1, 2.5, 0.2, 0.7, 0.7, 0.7, 0.8, 1.5, 1.5, 2.6666666666666665, 0.7, 1.0, 0.3, 1.1, 1.0, 0.4, 2.0, 0.1, 1.4, 1.5, 4.5, 0.3, 4.2, 5.4, 0.5, 1.3, 2.2, 4.5, 3.0, 1.8, 0.8, 6.5, 0.5, 0.6, 1.7, 1.1, 0.2, 6.3, 1.5, 3.1, 2.4, 3.6, 2.2, 0.2, 2.1, 0.5, 0.6, 1.0, 0.8, 5.0, 0.9, 2.2, 2.8, 2.6, 0.8, 0.4, 1.4, 2.5, 3.7, 8.6, 3.4, 1.2, 6.666666666666667, 0.5, 0.3, 2.6, 3.6, 1.0, 0.3, 1.7, 0.7, 0.7, 0.8, 0.5, 0.9, 0.1, 2.4, 1.7, 0.6666666666666666, 0.6, 2.8, 4.7, 2.3, 1.7, 2.9, 3.3, 0.2, 6.2, 0.7, 1.5, 0.6, 2.5, 0.4, 1.9, 1.7, 0.9, 2.1, 1.7, 6.6, 0.8, 0.1, 1.7, 3.3, 1.3, 0.9, 4.3, 0.8, 1.7, 8.0, 6.5, 2.6666666666666665, 7.0, 0.6, 0.3, 2.1, 6.333333333333333, 0.8, 5.0, 1.9, 1.9, 0.1, 3.2, 2.3, 1.6, 0.5, 1.8, 1.7, 4.0, 1.7, 1.0, 2.8, 1.3333333333333333, 2.1, 1.6, 2.7, 7.2, 2.8, 0.0, 1.0, 0.4, 2.6, 1.3, 2.8, 1.3, 1.8, 1.1, 0.3, 2.1, 0.4, 0.3, 0.8, 2.8, 2.3, 2.0, 1.4, 2.8, 6.0, 2.8, 2.75, 2.0, 1.7, 0.7, 1.0, 1.6, 0.5, 1.7, 0.3, 2.4, 0.9, 0.2, 1.5, 0.5, 1.4, 1.5, 1.0, 6.6, 2.8, 1.1, 1.5, 3.5, 1.0, 1.8, 1.3333333333333333, 2.6666666666666665, 0.4, 1.5, 1.5, 1.4, 0.1, 4.9, 1.8, 2.2, 0.7, 1.8, 1.5, 4.7, 2.9, 2.5, 0.9, 0.2, 0.3, 0.3, 0.4, 1.4, 0.5, 1.0, 1.1, 1.7, 4.1, 0.2, 1.6, 6.0, 2.2, 1.5, 0.3, 0.1, 0.0, 0.7, 1.8, 0.5, 1.0, 4.3, 2.1, 0.9, 2.0, 1.0, 1.8, 1.2, 0.8, 1.9, 1.2, 0.75, 2.1, 0.4, 0.8, 0.6, 2.5, 0.1, 7.2, 0.3, 0.2, 0.9, 1.0, 0.6, 2.0, 1.6, 3.8, 0.4, 1.0, 2.5, 1.5, 1.3, 1.3, 1.0, 0.3, 0.3, 2.5, 0.0, 2.8, 2.1, 2.8, 4.3, 1.5, 2.0, 0.5, 0.6, 0.3, 3.0, 2.2, 0.7, 2.2, 1.4, 3.0, 3.3, 1.7, 0.9, 0.3, 0.1, 4.7, 4.2, 1.0, 1.6, 0.0, 4.3, 1.8, 0.5, 2.1, 2.1, 2.2, 0.6, 0.3, 0.4, 1.4, 0.0, 2.5, 0.2, 0.4, 0.4, 4.6, 2.5, 2.5, 4.7, 4.8, 2.4, 0.5, 1.0, 2.9, 0.3, 1.5, 0.2, 4.7, 2.7, 1.3, 0.8, 0.8, 7.0, 0.6, 0.4, 0.3, 0.8, 2.2, 1.4, 3.2, 0.2, 3.2, 0.1, 2.0, 1.9, 0.7, 6.0, 0.3, 1.5, 1.5, 0.1, 1.0, 1.7, 2.6666666666666665, 0.2, 2.3333333333333335, 4.1, 2.2, 0.8, 1.8, 0.9, 5.4, 2.0, 1.4, 0.9, 0.3, 2.0, 1.4, 2.8, 0.4, 2.4, 1.4, 1.3, 2.2, 1.1, 2.5, 0.1, 3.8, 0.5, 2.2, 0.6, 6.1, 0.1, 0.0, 7.5, 1.3, 2.9, 2.0, 1.3, 0.6, 1.2, 0.7, 3.0, 1.5, 0.5, 0.3, 3.0, 2.7, 3.4, 1.7, 0.7, 1.2, 0.3, 1.8, 1.4, 4.3, 4.7, 1.6, 1.4, 0.5, 8.6, 1.7, 2.0, 0.5, 1.6, 2.4, 0.1, 1.7, 1.7, 1.3, 0.3, 0.7, 0.0, 1.0, 2.2, 1.8, 1.5, 1.5, 0.7, 0.2, 0.9, 1.6, 3.0, 1.2, 3.0, 4.5, 4.9, 1.8, 0.7, 0.1, 2.5, 0.4, 1.7, 1.4, 2.2, 4.0, 1.7, 1.0, 1.8, 0.8, 2.0, 2.6, 5.3, 3.0, 0.2, 2.9, 2.3, 1.7, 2.9, 1.7, 2.5, 1.0, 2.0, 1.9, 0.5, 6.666666666666667, 2.0, 1.9, 0.4, 0.3, 0.5, 0.8], \"z\": [0, 0, 0, 0, 0, 155, 0, 0, 104, 0, 0, 0, 0, 0, 0, 0, 134, 0, 0, 0, 111, 0, 260, 163, 159, 97, 0, 0, 0, 0, 122, 0, 193, 0, 0, 0, 0, 198, 0, 285, 0, 0, 412, 0, 0, 0, 153, 211, 0, 0, 0, 0, 207, 240, 0, 0, 0, 0, 0, 455, 0, 112, 0, 0, 0, 0, 336, 132, 0, 0, 0, 0, 0, 0, 0, 0, 0, 0, 0, 118, 174, 0, 0, 0, 0, 0, 126, 0, 0, 0, 0, 0, 236, 0, 0, 0, 0, 0, 0, 0, 0, 198, 0, 166, 0, 0, 136, 166, 0, 0, 0, 309, 103, 0, 0, 0, 193, 0, 366, 0, 0, 0, 0, 118, 0, 101, 251, 0, 0, 276, 0, 0, 0, 0, 0, 0, 0, 0, 0, 161, 149, 0, 0, 0, 0, 0, 188, 116, 0, 0, 0, 0, 0, 0, 0, 0, 0, 0, 0, 0, 0, 0, 0, 0, 0, 0, 0, 0, 0, 0, 0, 0, 0, 0, 0, 135, 244, 0, 0, 164, 81, 0, 0, 0, 0, 0, 315, 122, 0, 0, 140, 0, 0, 0, 95, 0, 89, 90, 0, 0, 0, 0, 0, 105, 100, 0, 0, 0, 282, 0, 0, 209, 0, 0, 249, 0, 0, 0, 0, 0, 0, 0, 0, 91, 0, 0, 98, 145, 0, 0, 135, 0, 150, 0, 0, 0, 0, 0, 169, 0, 280, 99, 78, 0, 0, 111, 264, 113, 117, 325, 0, 0, 121, 138, 0, 0, 0, 77, 0, 251, 0, 112, 0, 98, 0, 138, 0, 0, 0, 0, 158, 0, 0, 0, 109, 0, 0, 0, 164, 0, 0, 0, 0, 0, 131, 0, 391, 0, 0, 88, 129, 0, 0, 0, 0, 0, 0, 0, 0, 196, 0, 617, 0, 123, 0, 0, 0, 0, 0, 167, 0, 0, 0, 0, 0, 190, 0, 248, 82, 0, 0, 0, 0, 0, 402, 0, 0, 0, 0, 0, 0, 0, 360, 0, 0, 392, 0, 0, 185, 0, 103, 138, 78, 0, 0, 0, 132, 0, 0, 0, 0, 419, 0, 88, 81, 0, 0, 0, 0, 270, 0, 148, 466, 0, 175, 159, 0, 147, 0, 174, 111, 220, 0, 0, 0, 0, 0, 0, 0, 0, 0, 0, 0, 0, 0, 0, 0, 0, 0, 0, 109, 0, 0, 0, 0, 0, 0, 0, 112, 133, 0, 182, 290, 0, 0, 0, 125, 0, 0, 0, 0, 0, 124, 0, 0, 0, 0, 0, 0, 0, 0, 0, 0, 0, 116, 116, 0, 161, 224, 0, 141, 0, 0, 112, 0, 119, 0, 139, 0, 115, 0, 0, 0, 0, 0, 0, 0, 0, 0, 0, 0, 0, 116, 0, 0, 458, 0, 0, 0, 0, 0, 172, 0, 0, 0, 0, 0, 161, 156, 547, 0, 0, 0, 78, 0, 470, 0, 0, 88, 0, 0, 0, 304, 0, 0, 0, 0, 104, 0, 0, 0, 0, 0, 0, 0, 0, 0, 0, 0, 185, 0, 0, 0, 0, 0, 112, 221, 0, 108, 0, 0, 211, 0, 169, 0, 105, 129, 0, 224, 0, 179, 271, 89, 378, 0, 0, 0, 113, 0, 0, 0, 0, 76, 117, 0, 0, 90, 0, 87, 203, 180, 0, 0, 0, 0, 230, 0, 0, 137, 129, 0, 0, 138, 0, 0, 0, 0, 152, 0, 0, 0, 161, 185, 485, 0, 0, 0, 0, 0, 0, 0, 0, 0, 0, 155, 300, 0, 0, 272, 0, 0, 0, 0, 0, 0, 144, 94, 0, 90, 0, 0, 0, 0, 89, 240, 0, 208, 0, 0, 0, 275, 83, 0, 0, 0, 0, 0, 0, 115, 0, 0, 0, 131, 78, 122, 211, 100, 0, 0, 218, 108, 0, 0, 0, 0, 169, 196, 0, 0, 0, 327, 0, 0, 0, 0, 322, 0, 123, 0, 163, 131, 0, 205, 0, 0, 145, 0, 0, 0, 0, 0, 0, 0, 227, 0, 0, 190, 0, 0, 282, 0, 85, 0, 160, 103, 0, 207, 364, 0, 0, 0, 0, 449, 0, 0, 207, 0, 75, 113, 111, 107, 81, 0, 82, 0, 220, 91, 0, 0, 0, 92, 0, 0, 0, 0, 115, 0, 87, 187, 0, 0, 0, 0, 161, 0, 137, 0, 0, 0, 0, 0, 0, 0, 0, 0, 0, 0, 205, 0, 0, 0, 0, 0, 0, 0, 0, 0, 0, 0, 0, 0, 0, 0, 0, 0, 0, 0, 0, 355, 0, 0, 0, 0, 0, 0, 0, 0, 0, 166, 100, 0, 314, 0, 0, 108, 0, 119, 0, 106, 0, 0, 0, 0, 91, 76, 0, 0, 0, 0, 587, 0, 0, 0, 0, 0, 0, 0, 0, 0, 0, 0, 0, 0, 0, 0, 0, 0, 0, 214, 82, 0, 307, 0, 0, 0, 0, 0, 0, 0, 0, 0, 118, 263, 91, 0, 0, 0, 0, 0, 0, 0, 0, 0, 88, 75, 0, 81, 0, 0, 0, 0, 193, 0, 81, 0, 0, 310, 0, 0, 0, 127, 0, 0, 252, 0, 0, 0, 0, 127, 0, 0, 77, 0, 0, 0, 170, 145, 124, 101, 265, 0, 139, 0, 0, 0, 0, 0, 0, 0, 134, 0, 123, 0, 0, 0, 0, 177, 0, 0, 305, 0, 0, 0, 0, 372, 79, 301, 0, 0, 232, 289, 212, 137, 0, 0, 172, 0, 0, 250, 0, 84, 130, 115, 0, 0, 0, 0, 0, 0, 303, 0, 0, 0, 0, 0, 126, 0, 0, 0, 0, 103, 138, 0, 91, 0, 0, 0, 0, 0, 256, 0, 0, 124, 0, 203, 140, 0, 0, 0, 0, 0, 84, 259, 204, 0, 0, 524, 0, 249, 0, 0, 0, 0, 163, 0, 163, 135, 0, 157, 0, 0, 0, 0, 0, 236, 231, 174, 287, 0, 0, 0, 205, 0, 0, 0, 0, 0, 0, 0, 159, 0, 0, 100, 247, 0, 0, 0, 0, 0, 0, 214, 0, 333, 0, 91, 108, 0, 229, 0, 0, 0, 357, 0, 140, 361, 166, 0, 169, 301, 0, 0, 170, 127, 157, 97, 0, 0, 366, 0, 169, 0, 0, 0, 0, 0, 136, 0, 0, 134, 0, 119, 0, 0, 0, 163, 0, 0, 0, 83, 0, 0, 0, 0, 0, 294, 141, 103, 0, 0, 0, 0, 0, 86, 0, 0, 0, 97, 131, 0, 0, 0, 0, 0, 0, 0, 137, 0, 0, 0, 0, 0, 329, 182, 0, 142, 0, 0, 0, 0, 0, 167, 196, 0, 0, 0, 0, 0, 111, 0, 137, 0, 184, 0, 0, 0, 0, 0, 0, 0, 229, 0, 185, 0, 0, 83, 442, 0, 0, 0, 0, 0, 132, 0, 233, 0, 196, 0, 0, 0, 0, 0, 0, 0, 0, 0, 0, 0, 0, 0, 91, 0, 0, 0, 0, 0, 0, 0, 0, 0, 0, 78, 0, 0, 0, 0, 0, 0, 215, 0, 0, 87, 157, 0, 0, 0, 0, 394, 227, 327, 0, 0, 475, 0, 158, 0, 0, 0, 0, 0, 0, 149, 98, 0, 0, 0, 0, 0, 0, 0, 0, 87, 0, 0, 152, 0, 0, 0, 0, 0, 94, 0, 101, 184, 91, 0, 0, 0, 197, 0, 0, 0, 0, 228, 0, 0, 0, 87, 0, 144, 0, 0, 0, 0, 0, 0, 94, 91, 0, 0, 109, 0, 98, 0, 0, 0, 297, 0, 0, 0, 116, 0, 0, 109, 101, 0, 0, 0, 99, 128, 241, 0, 0, 0, 0, 0, 0, 204, 0, 185, 0, 0, 104, 0, 137, 0, 0, 0, 0, 108, 0, 0, 0, 100, 0, 236, 0, 437, 0, 178, 117, 428, 0, 145, 333, 0, 236, 117, 162, 0, 0, 0, 366, 0, 0, 0, 234, 121, 257, 90, 219, 0, 0, 0, 103, 337, 0, 382, 397, 88, 0, 0, 0, 0, 0, 125, 0, 141, 0, 181, 123, 0, 0, 0, 0, 0, 0, 0, 0, 120, 0, 0, 380, 0, 224, 0, 0, 0, 0, 0, 0, 0, 0, 297, 0, 149, 0, 215, 0, 0, 200, 0, 97, 0, 0, 0, 0, 0, 357, 158, 0, 0, 0, 433, 0, 0, 157, 0, 0, 0, 101, 149, 122, 0, 117, 222, 483, 0, 0, 0, 86, 0, 0, 0, 0, 0, 178, 230, 0, 83, 0, 0, 0, 0, 0, 0, 0, 0, 0, 305, 158, 0, 0, 0, 0, 0, 0, 154, 0, 0, 0, 294, 0, 0, 0, 176, 127, 0, 128, 212, 0, 0, 0, 0, 0, 164, 103, 0, 287, 94, 0, 119, 171, 0, 0, 0, 117, 0, 0, 0, 146, 106, 0, 0, 0, 162, 0, 0, 0, 110, 0, 0, 0, 0, 201, 0, 0, 0, 0, 0, 0, 0, 0, 0, 0, 77, 174, 0, 159, 277, 0, 0, 0, 0, 0, 83, 0, 0, 268, 0, 0, 237, 102, 0, 76, 0, 0, 0, 155, 0, 0, 174, 0, 0, 0, 0, 0, 0, 147, 0, 0, 0, 0, 0, 0, 0, 0, 0, 93, 0, 0, 0, 0, 0, 0, 0, 354, 0, 0, 0, 0, 221, 90, 119, 102, 0, 0, 0, 0, 195, 164, 153, 0, 0, 0, 0, 0, 0, 188, 0, 157, 119, 0, 0, 0, 0, 116, 0, 0, 194, 113, 198, 0, 238, 0, 0, 0, 104, 244, 0, 285, 115, 0, 128, 0, 121, 0, 0, 128, 0, 226, 141, 0, 0, 0, 184, 0, 0, 0, 227, 104, 0, 0, 0, 318, 342, 125, 0, 0, 0, 0, 0, 188, 0, 0, 0, 0, 110, 164, 0, 0, 266, 0, 0, 0, 86, 0, 0, 87, 0, 98, 0, 0, 0, 104, 0, 0, 0, 0, 0, 0, 0, 0, 114, 0, 455, 0, 0, 0, 0, 245, 0, 0, 0, 0, 0, 104, 0, 0, 0, 0, 0, 95, 0, 0, 0, 131, 90, 0, 0, 0, 0, 106, 0, 0, 123, 0, 0, 0, 0, 0, 106, 0, 0, 0, 0, 0, 341, 0, 91, 0, 0, 101, 0, 0, 0, 421, 0, 104, 131, 0, 0, 0, 0, 103, 0, 249, 155, 0, 0, 359, 0, 0, 0, 0, 0, 118, 0, 132, 0, 0, 0, 0, 0, 0, 0, 0, 0, 0, 0, 0, 0, 131, 158, 0, 0, 107, 0, 565, 233, 0, 0, 0, 152, 0, 0, 0, 0, 150, 0, 0, 0, 0, 0, 319, 0, 182, 0, 394, 230, 82, 0, 0, 0, 137, 109, 135, 0, 0, 89, 151, 221, 229, 0, 0, 0, 0, 0, 0, 0, 0, 0, 0, 121, 89, 0, 0, 154, 0, 0, 84, 0, 94, 0, 119, 0, 0, 117, 151, 114, 0, 0, 267, 0, 181, 601, 0, 0, 0, 0, 0, 567, 0, 0, 0, 0, 0, 0, 0, 0, 0, 100, 181, 0, 0, 0, 0, 114, 0, 0, 0, 0, 0, 0, 0, 0, 0, 0, 0, 0, 0, 231, 148, 0, 86, 0, 0, 0, 171, 352, 0, 0, 221, 115, 0, 0, 118, 284, 0, 180, 0, 0, 88, 199, 256, 0, 0, 0, 0, 159, 0, 0, 97, 0, 167, 97, 0, 0, 0, 0, 240, 80, 142, 0, 0, 112, 0, 0, 334, 0, 0, 0, 0, 268, 0, 80, 218, 389, 0, 0, 159, 0, 89, 0, 342, 0, 0, 104, 0, 0, 0, 372, 0, 0, 0, 101, 0, 0, 0, 0, 0, 0, 0, 0, 107, 0, 0, 275, 0, 112, 0, 112, 0, 0, 198, 186, 0, 0, 142, 246, 120, 0, 245, 0, 0, 0, 218, 0, 0, 0, 0, 0, 0, 185, 0, 0, 0, 0, 589, 0, 0, 0, 0, 0, 0, 83, 151, 0, 231, 86, 0, 0, 0, 0, 83, 277, 0, 184, 0, 0, 0, 0, 0, 0, 0, 111, 0, 0, 108, 0, 0, 397, 203, 0, 78, 242, 0, 0, 0, 0, 0, 0, 0, 110, 0, 175, 79, 0, 0, 120, 0, 76, 0, 0, 0, 0, 0, 0, 0, 0, 0, 0, 0, 359, 0, 143, 0, 0, 0, 125, 323, 0, 0, 0, 113, 167, 0, 218, 0, 0, 0, 0, 0, 236, 151, 0, 185, 0, 380, 0, 0, 207, 0, 0, 0, 329, 0, 0, 0, 0, 0, 0, 535, 0, 0, 0, 107, 0, 0, 0, 0, 98, 0, 170, 161, 0, 0, 83, 0, 0, 222, 0, 111, 219, 0, 0, 0, 0, 0, 0, 0, 0, 0, 137, 154, 293, 0, 398, 0, 0, 0, 0, 0, 0, 0, 101, 117, 0, 343, 151, 0, 307, 0, 84, 0, 208, 0, 93, 113, 272, 0, 84, 0, 0, 0, 0, 0, 229, 0, 0, 0, 0, 120, 0, 0, 0, 0, 0, 0, 0, 0, 180, 119, 0, 89, 101, 141, 0, 0, 232, 0, 0, 0, 176, 120, 0, 0, 247, 166, 0, 0, 0, 0, 109, 0, 0, 80, 0, 0, 193, 0, 105, 128, 0, 0, 0, 0, 78, 0, 255, 0, 95, 155, 0, 184, 154, 0, 0, 0, 0, 0, 0, 219, 164, 0, 0, 0, 0, 0, 0, 0, 105, 0, 0, 0, 0, 0, 0, 86, 0, 294, 0, 95, 102, 0, 83, 0, 0, 0, 98, 0, 0, 0, 311, 76, 0, 207, 158, 185, 0, 0, 94, 0, 0, 146, 0, 0, 446, 0, 223, 0, 0, 0, 0, 0, 115, 0, 0, 0, 149, 0, 146, 262, 0, 0, 0, 0, 0, 0, 0, 167, 94, 172, 150, 120, 0, 266, 103, 97, 150, 0, 0, 0, 75, 109, 0, 76, 0, 0, 0, 92, 0, 0, 0, 0, 0, 0, 0, 0, 0, 0, 0, 0, 0, 0, 0, 0, 0, 0, 0, 132, 0, 0, 0, 0, 0, 128, 90, 0, 95, 0, 323, 0, 0, 0, 87, 0, 0, 0, 91, 0, 0, 0, 0, 0, 0, 0, 0, 0, 81, 0, 0, 0, 0, 0, 0, 0, 319, 112, 422, 0, 0, 0, 315, 114, 0, 0, 0, 192, 0, 242, 0, 0, 0, 0, 0, 217, 0, 0, 0, 0, 289, 310, 168, 102, 299, 239, 87, 0, 76, 0, 0, 0, 0, 0, 0, 0, 0, 0, 0, 0, 0, 0, 90, 0, 0, 0, 0, 0, 93, 0, 0, 153, 0, 112, 0, 0, 0, 251, 182, 0, 0, 428, 0, 0, 0, 0, 0, 0, 0, 108, 0, 0, 0, 505, 0, 142, 309, 217, 154, 106, 0, 95, 0, 0, 78, 81, 0, 203, 219, 0, 0, 148, 0, 0, 106, 80, 0, 0, 0, 118, 0, 400, 0, 0, 0, 197, 0, 301, 0, 0, 0, 0, 267, 0, 0, 0, 0, 144, 0, 186, 0, 422, 0, 0, 218, 0, 0, 0, 0, 208, 0, 0, 0, 0, 0, 85, 0, 0, 130, 0, 0, 0, 165, 123, 230, 0, 307, 187, 85, 0, 147, 0, 183, 0, 0, 0, 0, 0, 0, 0, 0, 112, 0, 257, 0, 0, 0, 118, 0, 0, 0, 0, 212, 141, 114, 326, 144, 341, 0, 0, 79, 229, 0, 0, 234, 0, 81, 0, 0, 298, 0, 91, 156, 0, 0, 0, 0, 113, 0, 0, 0, 0, 0, 0, 0, 0, 0, 0, 107, 106, 0, 0, 129, 0, 0, 297, 171, 153, 569, 0, 0, 0, 0, 90, 0, 79, 102, 0, 0, 151, 0, 0, 103, 0, 0, 0, 0, 144, 184, 0, 0, 102, 184, 0, 0, 0, 207, 89, 140, 0, 100, 0, 118, 190, 0, 0, 0, 0, 0, 185, 0, 0, 0, 0, 0, 0, 374, 0, 245, 310, 0, 0, 0, 0, 0, 0, 0, 167, 0, 0, 0, 0, 216, 214, 194, 0, 0, 0, 131, 204, 0, 191, 103, 0, 98, 0, 0, 0, 0, 0, 0, 0, 193, 0, 0, 0, 0, 248, 106, 194, 89, 0, 0, 0, 0, 0, 212, 0, 86, 0, 0, 123, 0, 0, 0, 226, 0, 180, 408, 204, 78, 0, 0, 109, 175, 144, 0, 0, 0, 352, 0, 0, 0, 406, 0, 0, 0, 0, 122, 0, 0, 0, 0, 0, 166, 0, 0, 0, 98, 129, 0, 0, 452, 0, 249, 0, 0, 0, 0, 0, 0, 0, 0, 0, 114, 0, 0, 158, 0, 0, 100, 0, 0, 160, 170, 0, 0, 0, 0, 432, 0, 0, 0, 0, 0, 0, 0, 144, 157, 0, 127, 220, 247, 0, 0, 0, 133, 147, 0, 165, 0, 0, 0, 0, 142, 0, 0, 0, 86, 120, 95, 0, 240, 312, 0, 156, 111, 477, 119, 0, 0, 205, 0, 0, 0, 192, 0, 0, 105, 101, 0, 144, 396, 582, 0, 0, 0, 358, 0, 0, 380, 0, 0, 0, 0, 104, 213, 0, 0, 85, 0, 0, 0, 0, 0, 0, 117, 153, 0, 0, 0, 0, 0, 200, 90, 177, 0, 0, 0, 0, 0, 0, 136, 0, 201, 145, 467, 0, 0, 169, 0, 331, 0, 0, 303, 0, 158, 0, 0, 164, 0, 0, 230, 138, 0, 0, 0, 0, 91, 149, 204, 159, 0, 0, 240, 565, 0, 134, 0, 98, 0, 0, 132, 219, 0, 0, 0, 212, 136, 295, 0, 114, 282, 0, 151, 0, 0, 0, 0, 0, 264, 0, 80, 0, 252, 0, 0, 0, 0, 0, 0, 0, 0, 0, 0, 0, 0, 327, 0, 0, 0, 144, 0, 0, 0, 0, 0, 140, 0, 0, 175, 0, 151, 76, 0, 0, 0, 0, 0, 0, 0, 0, 0, 235, 0, 0, 0, 0, 0, 101, 0, 0, 170, 262, 0, 0, 0, 0, 0, 0, 0, 0, 99, 109, 0, 0, 635, 0, 0, 0, 0, 0, 163, 352, 385, 0, 0, 0, 437, 328, 98, 0, 135, 0, 0, 0, 0, 187, 522, 0, 0, 0, 0, 0, 0, 0, 104, 0, 0, 301, 115, 0, 165, 182, 276, 0, 168, 0, 0, 0, 0, 0, 0, 0, 188, 0, 0, 0, 181, 496, 0, 0, 0, 0, 0, 90, 0, 0, 0, 0, 0, 0, 83, 0, 0, 0, 184, 102, 158, 0, 0, 0, 415, 0, 166, 0, 0, 184, 99, 0, 392, 461, 0, 244, 0, 344, 228, 152, 178, 263, 0, 102, 0, 221, 130, 0, 105, 0, 115, 0, 167, 0, 0, 0, 83, 0, 0, 0, 103, 0, 0, 0, 0, 0, 0, 0, 149, 0, 0, 0, 0, 206, 297, 0, 0, 368, 0, 170, 0, 0, 221, 257, 0, 0, 88, 0, 110, 190, 0, 87, 204, 129, 0, 0, 0, 0, 0, 138, 95, 0, 158, 325, 0, 104, 0, 0, 0, 0, 174, 0, 0, 0, 0, 0, 121, 0, 0, 0, 0, 0, 0, 0, 209, 0, 0, 0, 256, 0, 179, 0, 0, 218, 126, 0, 0, 0, 0, 0, 0, 168, 148, 0, 89, 321, 94, 0, 255, 0, 0, 0, 0, 0, 0, 0, 0, 0, 106, 0, 0, 0, 0, 0, 149, 0, 0, 0, 240, 0, 0, 0, 0, 0, 97, 0, 228, 0, 227, 100, 0, 0, 0, 0, 0, 0, 199, 0, 130, 84, 0, 94, 0, 0, 0, 296, 0, 0, 0, 0, 0, 0, 0, 0, 0, 0, 0, 147, 0, 0, 0, 0, 239, 185, 0, 0, 0, 0, 373, 0, 0, 0, 116, 0, 0, 0, 120, 325, 0, 135, 0, 0, 0, 0, 0, 0, 0, 0, 0, 0, 0, 0, 329, 0, 0, 0, 0, 0, 0, 118, 0, 0, 0, 0, 0, 223, 0, 0, 0, 0, 0, 0, 118, 0, 0, 0, 0, 185, 0, 0, 0, 0, 0, 0, 0, 0, 120, 0, 113, 0, 0, 0, 0, 0, 268, 0, 0, 0, 0, 0, 0, 87, 0, 0, 0, 292, 187, 0, 0, 0, 0, 0, 0, 0, 89, 0, 0, 0, 0, 82, 383, 0, 0, 0, 0, 0, 0, 0, 0, 0, 0, 0, 0, 0, 0, 0, 0, 0, 0, 0, 0, 0, 0, 0, 0, 82, 0, 0, 0, 280, 86, 358, 0, 0, 0, 354, 0, 0, 121, 0, 0, 0, 0, 0, 0, 275, 0, 0, 83, 0, 0, 0, 0, 408, 0, 0, 0, 87, 0, 0, 105, 0, 0, 0, 0, 0, 199, 0, 209, 442, 0, 0, 0, 315, 0, 0, 76, 0, 0, 213, 153, 0, 0, 0, 85, 238, 0, 221, 0, 0, 135, 0, 137, 0, 97, 0, 118, 0, 0, 101, 0, 0, 0, 0, 84, 0, 427, 0, 0, 0, 0, 244, 0, 0, 87, 0, 0, 0, 0, 0, 189, 0, 0, 108, 0, 184, 0, 0, 78, 0, 0, 0, 271, 0, 0, 0, 0, 202, 0, 116, 186, 109, 110, 0, 0, 251, 0, 0, 0, 0, 0, 0, 231, 0, 0, 142, 146, 0, 0, 0, 96, 364, 0, 0, 429, 0, 431, 0, 0, 0, 0, 156, 0, 0, 0, 0, 81, 0, 112, 0, 0, 0, 131, 0, 115, 0, 0, 0, 0, 192, 192, 0, 94, 286, 0, 0, 90, 0, 0, 0, 154, 0, 0, 0, 0, 0, 0, 0, 0, 508, 148, 146, 0, 0, 0, 0, 134, 0, 0, 0, 0, 0, 0, 0, 0, 128, 0, 211, 0, 0, 229, 0, 0, 0, 0, 210, 0, 0, 0, 0, 119, 0, 0, 0, 116, 172, 0, 0, 0, 0, 0, 189, 0, 0, 126, 142, 272, 0, 0, 0, 0, 123, 0, 0, 0, 416, 0, 0, 0, 83, 0, 0, 209, 102, 0, 0, 0, 85, 115, 0, 0, 0, 0, 147, 0, 224, 0, 192, 0, 79, 0, 0, 0, 91, 95, 0, 0, 0, 0, 0, 96, 0, 553, 0, 79, 0, 368, 0, 0, 0, 78, 146, 0, 0, 403, 193, 0, 95, 0, 0, 0, 0, 0, 225, 0, 0, 0, 0, 0, 0, 242, 0, 0, 0, 0, 0, 144, 174, 0, 260, 0, 0, 0, 107, 0, 0, 0, 177, 0, 0, 0, 0, 0, 0, 0, 500, 0, 0, 0, 0, 0, 75, 0, 0, 0, 0, 0, 0, 0, 111, 0, 0, 0, 0, 0, 0, 0, 103, 313, 0, 0, 0, 205, 0, 0, 0, 0, 0, 0, 0, 0, 0, 0, 0, 0, 410, 0, 0, 0, 123, 0, 0, 0, 0, 99, 0, 0, 232, 0, 0, 285, 0, 76, 229, 0, 98, 82, 119, 0, 0, 109, 161, 0, 0, 0, 95, 0, 0, 0, 0, 0, 0, 0, 0, 0, 0, 194, 0, 118, 109, 0, 126, 0, 0, 0, 219, 0, 0, 0, 0, 0, 0, 121, 273, 0, 0, 0, 0, 0, 304, 0, 170, 204, 79, 341, 0, 0, 0, 0, 449, 151, 0, 0, 0, 333, 0, 0, 0, 0, 0, 0, 221, 0, 0, 0, 0, 0, 0, 98, 0, 144, 0, 0, 106, 0, 0, 0, 0, 0, 0, 0, 0, 89, 0, 0, 97, 0, 96, 0, 0, 0, 0, 205, 259, 0, 194, 188, 0, 196, 122, 0, 0, 0, 0, 0, 75, 0, 0, 0, 127, 0, 114, 0, 0, 0, 0, 230, 0, 0, 0, 0, 0, 194, 82, 0, 0, 0, 0, 0, 277, 0, 0, 0, 0, 0, 0, 0, 0, 0, 0, 161, 0, 0, 0, 185, 184, 381, 0, 0, 0, 270, 0, 0, 166, 98, 402, 102, 215, 251, 121, 0, 0, 0, 0, 81, 216, 0, 0, 0, 0, 0, 0, 0, 0, 94, 0, 0, 187, 0, 0, 0, 148, 0, 172, 0, 0, 96, 292, 0, 400, 0, 0, 0, 330, 0, 0, 0, 0, 0, 0, 345, 0, 0, 0, 126, 0, 0, 92, 0, 102, 102, 294, 170, 0, 0, 428, 0, 253, 0, 255, 106, 0, 0, 0, 0, 200, 0, 78, 0, 0, 140, 0, 0, 0, 0, 0, 0, 0, 0, 0, 0, 0, 167, 0, 0, 194, 113, 0, 258, 0, 0, 0, 0, 0, 120, 0, 0, 0, 0, 134, 0, 0, 0, 0, 0, 0, 0, 0, 0, 0, 0, 0, 0, 0, 79, 0, 0, 351, 0, 84, 0, 0, 0, 0, 427, 153, 160, 0, 194, 106, 0, 312, 0, 0, 0, 0, 189, 0, 0, 0, 0, 132, 0, 0, 0, 178, 0, 0, 157, 0, 246, 0, 99, 0, 0, 79, 119, 294, 83, 0, 0, 0, 0, 0, 0, 0, 0, 0, 0, 0, 0, 0, 166, 0, 0, 0, 0, 0, 0, 135, 0, 0, 0, 0, 0, 0, 0, 0, 110, 0, 0, 0, 0, 0, 0, 0, 0, 0, 0, 0, 0, 0, 0, 0, 0, 0, 0, 0, 0, 146, 196, 0, 353, 0, 0, 0, 0, 0, 0, 104, 161, 121, 180, 0, 0, 0, 0, 0, 0, 89, 0, 322, 131, 0, 0, 87, 125, 122, 0, 0, 131, 308, 0, 0, 0, 0, 0, 0, 0, 0, 0, 0, 118, 0, 0, 0, 75, 0, 0, 0, 0, 149, 0, 0, 0, 0, 0, 0, 0, 0, 0, 183, 86, 0, 0, 209, 0, 0, 182, 0, 0, 0, 0, 0, 278, 0, 0, 0, 220, 342, 0, 199, 81, 103, 0, 0, 216, 132, 89, 0, 0, 0, 0, 76, 189, 0, 0, 0, 0, 0, 0, 0, 0, 0, 241, 125, 0, 0, 98, 0, 0, 0, 0, 105, 0, 0, 0, 248, 223, 0, 0, 0, 0, 0, 148, 0, 202, 227, 0, 0, 0, 0, 0, 0, 464, 0, 509, 0, 0, 0, 93, 0, 0, 0, 0, 0, 0, 0, 0, 0, 0, 0, 157, 0, 0, 251, 0, 0, 0, 0, 0, 0, 87, 0, 0, 0, 94, 0, 0, 0, 0, 0, 0, 0, 0, 86, 0, 162, 0, 217, 243, 131, 0, 0, 0, 0, 124, 205, 173, 481, 146, 0, 140, 0, 133, 0, 281, 0, 0, 80, 0, 0, 0, 308, 0, 0, 111, 0, 0, 0, 119, 0, 0, 0, 0, 0, 112, 0, 151, 111, 0, 102, 139, 0, 0, 0, 306, 0, 139, 0, 0, 0, 0, 0, 0, 0, 0, 83, 0, 0, 577, 136, 0, 0, 193, 0, 0, 0, 0, 0, 0, 0, 0, 79, 0, 0, 196, 0, 84, 0, 0, 0, 319, 0, 103, 0, 0, 0, 0, 131, 130, 272, 0, 138, 0, 0, 0, 0, 0, 0, 127, 330, 0, 0, 0, 0, 0, 0, 0, 103, 0, 0, 0, 0, 0, 0, 0, 207, 0, 0, 245, 137, 0, 0, 102, 0, 0, 0, 0, 220, 97, 0, 198, 272, 0, 100, 422, 100, 0, 301, 0, 0, 0, 0, 0, 0, 0, 0, 110, 116, 0, 0, 0, 0, 0, 0, 83, 169, 0, 82, 117, 0, 0, 0, 0, 0, 174, 0, 0, 0, 88, 171, 205, 0, 0, 0, 0, 0, 79, 0, 0, 0, 0, 0, 0, 302, 0, 124, 0, 91, 0, 0, 0, 0, 0, 0, 256, 0, 0, 0, 0, 0, 0, 0, 0, 0, 0, 0, 0, 0, 0, 328, 0, 0, 178, 0, 108, 147, 0, 153, 0, 0, 0, 0, 0, 0, 0, 0, 0, 0, 0, 77, 0, 0, 0, 0, 0, 0, 129, 0, 0, 0, 92, 131, 0, 0, 0, 0, 0, 0, 0, 0, 0, 405, 0, 0, 0, 0, 0, 0, 241, 0, 0, 0, 0, 192, 0, 179, 0, 0, 0, 270, 0, 0, 0, 0, 148, 76, 0, 97, 0, 0, 249, 0, 0, 264, 0, 0, 0, 0, 0, 81, 0, 0, 0, 0, 571, 0, 0, 0, 0, 0, 0, 154, 0, 78, 0, 0, 0, 0, 0, 0, 0, 226, 0, 0, 0, 0, 0, 0, 143, 104, 0, 0, 218, 102, 0, 0, 0, 126, 96, 0, 0, 0, 0, 0, 81, 169, 307, 0, 0, 0, 120, 0, 0, 0, 293, 0, 0, 0, 0, 0, 124, 0, 0, 0, 84, 0, 0, 0, 0, 0, 0, 0, 0, 0, 581, 0, 0, 0, 0, 0, 0, 0, 200, 0, 0, 124, 0, 221, 0, 0, 0, 550, 88, 328, 137, 0, 0, 283, 0, 94, 0, 0, 0, 0, 0, 0, 0, 0, 164, 0, 0, 0, 0, 0, 0, 0, 167, 400, 153, 0, 0, 0, 0, 0, 0, 0, 0, 0, 119, 0, 0, 0, 0, 307, 150, 75, 0, 0, 0, 0, 0, 0, 0, 0, 0, 0, 0, 0, 0, 159, 0, 247, 0, 147, 323, 0, 0, 153, 0, 0, 0, 90, 0, 0, 0, 0, 0, 144, 0, 0, 0, 207, 0, 161, 0, 236, 0, 116, 0, 0, 0, 232, 0, 0, 263, 0, 101, 0, 116, 0, 0, 0, 0, 0, 171, 156, 78, 0, 0, 0, 0, 0, 0, 0, 0, 0, 121, 153, 0, 150, 0, 130, 155, 146, 101, 0, 0, 0, 142, 135, 121, 0, 0, 0, 249, 0, 0, 0, 0, 96, 0, 612, 142, 0, 0, 0, 0, 0, 179, 0, 0, 0, 0, 0, 0, 225, 230, 0, 80, 217, 144, 0, 0, 217, 113, 218, 0, 0, 0, 0, 135, 590, 0, 313, 0, 0, 260, 119, 0, 0, 0, 0, 0, 0, 0, 0, 0, 0, 541, 128, 121, 0, 142, 0, 342, 0, 0, 118, 0, 0, 187, 0, 0, 0, 0, 0, 0, 0, 98, 0, 140, 0, 0, 0, 0, 0, 0, 158, 0, 0, 0, 120, 0, 0, 0, 0, 0, 96, 299, 0, 0, 0, 119, 243, 89, 128, 0, 0, 0, 0, 0, 94, 0, 0, 0, 0, 82, 110, 0, 91, 0, 0, 0, 0, 0, 0, 0, 98, 0, 109, 0, 0, 0, 0, 0, 0, 0, 0, 116, 0, 0, 308, 0, 0, 106, 0, 108, 0, 249, 0, 0, 0, 75, 0, 0, 0, 0, 197, 0, 0, 0, 306, 0, 78, 143, 0, 0, 250, 0, 0, 148, 0, 0, 0, 0, 0, 0, 213, 0, 122, 0, 0, 0, 162, 0, 159, 136, 0, 219, 100, 0, 0, 0, 0, 85, 0, 0, 0]}],\n",
              "                        {\"coloraxis\": {\"colorbar\": {\"title\": {\"text\": \"Personal Loan\"}}, \"colorscale\": [[0.0, \"#0d0887\"], [0.1111111111111111, \"#46039f\"], [0.2222222222222222, \"#7201a8\"], [0.3333333333333333, \"#9c179e\"], [0.4444444444444444, \"#bd3786\"], [0.5555555555555556, \"#d8576b\"], [0.6666666666666666, \"#ed7953\"], [0.7777777777777778, \"#fb9f3a\"], [0.8888888888888888, \"#fdca26\"], [1.0, \"#f0f921\"]]}, \"legend\": {\"tracegroupgap\": 0}, \"margin\": {\"t\": 60}, \"scene\": {\"domain\": {\"x\": [0.0, 1.0], \"y\": [0.0, 1.0]}, \"xaxis\": {\"title\": {\"text\": \"Income\"}}, \"yaxis\": {\"title\": {\"text\": \"CCAvg\"}}, \"zaxis\": {\"title\": {\"text\": \"Mortgage\"}}}, \"template\": {\"data\": {\"bar\": [{\"error_x\": {\"color\": \"#2a3f5f\"}, \"error_y\": {\"color\": \"#2a3f5f\"}, \"marker\": {\"line\": {\"color\": \"#E5ECF6\", \"width\": 0.5}}, \"type\": \"bar\"}], \"barpolar\": [{\"marker\": {\"line\": {\"color\": \"#E5ECF6\", \"width\": 0.5}}, \"type\": \"barpolar\"}], \"carpet\": [{\"aaxis\": {\"endlinecolor\": \"#2a3f5f\", \"gridcolor\": \"white\", \"linecolor\": \"white\", \"minorgridcolor\": \"white\", \"startlinecolor\": \"#2a3f5f\"}, \"baxis\": {\"endlinecolor\": \"#2a3f5f\", \"gridcolor\": \"white\", \"linecolor\": \"white\", \"minorgridcolor\": \"white\", \"startlinecolor\": \"#2a3f5f\"}, \"type\": \"carpet\"}], \"choropleth\": [{\"colorbar\": {\"outlinewidth\": 0, \"ticks\": \"\"}, \"type\": \"choropleth\"}], \"contour\": [{\"colorbar\": {\"outlinewidth\": 0, \"ticks\": \"\"}, \"colorscale\": [[0.0, \"#0d0887\"], [0.1111111111111111, \"#46039f\"], [0.2222222222222222, \"#7201a8\"], [0.3333333333333333, \"#9c179e\"], [0.4444444444444444, \"#bd3786\"], [0.5555555555555556, \"#d8576b\"], [0.6666666666666666, \"#ed7953\"], [0.7777777777777778, \"#fb9f3a\"], [0.8888888888888888, \"#fdca26\"], [1.0, \"#f0f921\"]], \"type\": \"contour\"}], \"contourcarpet\": [{\"colorbar\": {\"outlinewidth\": 0, \"ticks\": \"\"}, \"type\": \"contourcarpet\"}], \"heatmap\": [{\"colorbar\": {\"outlinewidth\": 0, \"ticks\": \"\"}, \"colorscale\": [[0.0, \"#0d0887\"], [0.1111111111111111, \"#46039f\"], [0.2222222222222222, \"#7201a8\"], [0.3333333333333333, \"#9c179e\"], [0.4444444444444444, \"#bd3786\"], [0.5555555555555556, \"#d8576b\"], [0.6666666666666666, \"#ed7953\"], [0.7777777777777778, \"#fb9f3a\"], [0.8888888888888888, \"#fdca26\"], [1.0, \"#f0f921\"]], \"type\": \"heatmap\"}], \"heatmapgl\": [{\"colorbar\": {\"outlinewidth\": 0, \"ticks\": \"\"}, \"colorscale\": [[0.0, \"#0d0887\"], [0.1111111111111111, \"#46039f\"], [0.2222222222222222, \"#7201a8\"], [0.3333333333333333, \"#9c179e\"], [0.4444444444444444, \"#bd3786\"], [0.5555555555555556, \"#d8576b\"], [0.6666666666666666, \"#ed7953\"], [0.7777777777777778, \"#fb9f3a\"], [0.8888888888888888, \"#fdca26\"], [1.0, \"#f0f921\"]], \"type\": \"heatmapgl\"}], \"histogram\": [{\"marker\": {\"colorbar\": {\"outlinewidth\": 0, \"ticks\": \"\"}}, \"type\": \"histogram\"}], \"histogram2d\": [{\"colorbar\": {\"outlinewidth\": 0, \"ticks\": \"\"}, \"colorscale\": [[0.0, \"#0d0887\"], [0.1111111111111111, \"#46039f\"], [0.2222222222222222, \"#7201a8\"], [0.3333333333333333, \"#9c179e\"], [0.4444444444444444, \"#bd3786\"], [0.5555555555555556, \"#d8576b\"], [0.6666666666666666, \"#ed7953\"], [0.7777777777777778, \"#fb9f3a\"], [0.8888888888888888, \"#fdca26\"], [1.0, \"#f0f921\"]], \"type\": \"histogram2d\"}], \"histogram2dcontour\": [{\"colorbar\": {\"outlinewidth\": 0, \"ticks\": \"\"}, \"colorscale\": [[0.0, \"#0d0887\"], [0.1111111111111111, \"#46039f\"], [0.2222222222222222, \"#7201a8\"], [0.3333333333333333, \"#9c179e\"], [0.4444444444444444, \"#bd3786\"], [0.5555555555555556, \"#d8576b\"], [0.6666666666666666, \"#ed7953\"], [0.7777777777777778, \"#fb9f3a\"], [0.8888888888888888, \"#fdca26\"], [1.0, \"#f0f921\"]], \"type\": \"histogram2dcontour\"}], \"mesh3d\": [{\"colorbar\": {\"outlinewidth\": 0, \"ticks\": \"\"}, \"type\": \"mesh3d\"}], \"parcoords\": [{\"line\": {\"colorbar\": {\"outlinewidth\": 0, \"ticks\": \"\"}}, \"type\": \"parcoords\"}], \"pie\": [{\"automargin\": true, \"type\": \"pie\"}], \"scatter\": [{\"marker\": {\"colorbar\": {\"outlinewidth\": 0, \"ticks\": \"\"}}, \"type\": \"scatter\"}], \"scatter3d\": [{\"line\": {\"colorbar\": {\"outlinewidth\": 0, \"ticks\": \"\"}}, \"marker\": {\"colorbar\": {\"outlinewidth\": 0, \"ticks\": \"\"}}, \"type\": \"scatter3d\"}], \"scattercarpet\": [{\"marker\": {\"colorbar\": {\"outlinewidth\": 0, \"ticks\": \"\"}}, \"type\": \"scattercarpet\"}], \"scattergeo\": [{\"marker\": {\"colorbar\": {\"outlinewidth\": 0, \"ticks\": \"\"}}, \"type\": \"scattergeo\"}], \"scattergl\": [{\"marker\": {\"colorbar\": {\"outlinewidth\": 0, \"ticks\": \"\"}}, \"type\": \"scattergl\"}], \"scattermapbox\": [{\"marker\": {\"colorbar\": {\"outlinewidth\": 0, \"ticks\": \"\"}}, \"type\": \"scattermapbox\"}], \"scatterpolar\": [{\"marker\": {\"colorbar\": {\"outlinewidth\": 0, \"ticks\": \"\"}}, \"type\": \"scatterpolar\"}], \"scatterpolargl\": [{\"marker\": {\"colorbar\": {\"outlinewidth\": 0, \"ticks\": \"\"}}, \"type\": \"scatterpolargl\"}], \"scatterternary\": [{\"marker\": {\"colorbar\": {\"outlinewidth\": 0, \"ticks\": \"\"}}, \"type\": \"scatterternary\"}], \"surface\": [{\"colorbar\": {\"outlinewidth\": 0, \"ticks\": \"\"}, \"colorscale\": [[0.0, \"#0d0887\"], [0.1111111111111111, \"#46039f\"], [0.2222222222222222, \"#7201a8\"], [0.3333333333333333, \"#9c179e\"], [0.4444444444444444, \"#bd3786\"], [0.5555555555555556, \"#d8576b\"], [0.6666666666666666, \"#ed7953\"], [0.7777777777777778, \"#fb9f3a\"], [0.8888888888888888, \"#fdca26\"], [1.0, \"#f0f921\"]], \"type\": \"surface\"}], \"table\": [{\"cells\": {\"fill\": {\"color\": \"#EBF0F8\"}, \"line\": {\"color\": \"white\"}}, \"header\": {\"fill\": {\"color\": \"#C8D4E3\"}, \"line\": {\"color\": \"white\"}}, \"type\": \"table\"}]}, \"layout\": {\"annotationdefaults\": {\"arrowcolor\": \"#2a3f5f\", \"arrowhead\": 0, \"arrowwidth\": 1}, \"coloraxis\": {\"colorbar\": {\"outlinewidth\": 0, \"ticks\": \"\"}}, \"colorscale\": {\"diverging\": [[0, \"#8e0152\"], [0.1, \"#c51b7d\"], [0.2, \"#de77ae\"], [0.3, \"#f1b6da\"], [0.4, \"#fde0ef\"], [0.5, \"#f7f7f7\"], [0.6, \"#e6f5d0\"], [0.7, \"#b8e186\"], [0.8, \"#7fbc41\"], [0.9, \"#4d9221\"], [1, \"#276419\"]], \"sequential\": [[0.0, \"#0d0887\"], [0.1111111111111111, \"#46039f\"], [0.2222222222222222, \"#7201a8\"], [0.3333333333333333, \"#9c179e\"], [0.4444444444444444, \"#bd3786\"], [0.5555555555555556, \"#d8576b\"], [0.6666666666666666, \"#ed7953\"], [0.7777777777777778, \"#fb9f3a\"], [0.8888888888888888, \"#fdca26\"], [1.0, \"#f0f921\"]], \"sequentialminus\": [[0.0, \"#0d0887\"], [0.1111111111111111, \"#46039f\"], [0.2222222222222222, \"#7201a8\"], [0.3333333333333333, \"#9c179e\"], [0.4444444444444444, \"#bd3786\"], [0.5555555555555556, \"#d8576b\"], [0.6666666666666666, \"#ed7953\"], [0.7777777777777778, \"#fb9f3a\"], [0.8888888888888888, \"#fdca26\"], [1.0, \"#f0f921\"]]}, \"colorway\": [\"#636efa\", \"#EF553B\", \"#00cc96\", \"#ab63fa\", \"#FFA15A\", \"#19d3f3\", \"#FF6692\", \"#B6E880\", \"#FF97FF\", \"#FECB52\"], \"font\": {\"color\": \"#2a3f5f\"}, \"geo\": {\"bgcolor\": \"white\", \"lakecolor\": \"white\", \"landcolor\": \"#E5ECF6\", \"showlakes\": true, \"showland\": true, \"subunitcolor\": \"white\"}, \"hoverlabel\": {\"align\": \"left\"}, \"hovermode\": \"closest\", \"mapbox\": {\"style\": \"light\"}, \"paper_bgcolor\": \"white\", \"plot_bgcolor\": \"#E5ECF6\", \"polar\": {\"angularaxis\": {\"gridcolor\": \"white\", \"linecolor\": \"white\", \"ticks\": \"\"}, \"bgcolor\": \"#E5ECF6\", \"radialaxis\": {\"gridcolor\": \"white\", \"linecolor\": \"white\", \"ticks\": \"\"}}, \"scene\": {\"xaxis\": {\"backgroundcolor\": \"#E5ECF6\", \"gridcolor\": \"white\", \"gridwidth\": 2, \"linecolor\": \"white\", \"showbackground\": true, \"ticks\": \"\", \"zerolinecolor\": \"white\"}, \"yaxis\": {\"backgroundcolor\": \"#E5ECF6\", \"gridcolor\": \"white\", \"gridwidth\": 2, \"linecolor\": \"white\", \"showbackground\": true, \"ticks\": \"\", \"zerolinecolor\": \"white\"}, \"zaxis\": {\"backgroundcolor\": \"#E5ECF6\", \"gridcolor\": \"white\", \"gridwidth\": 2, \"linecolor\": \"white\", \"showbackground\": true, \"ticks\": \"\", \"zerolinecolor\": \"white\"}}, \"shapedefaults\": {\"line\": {\"color\": \"#2a3f5f\"}}, \"ternary\": {\"aaxis\": {\"gridcolor\": \"white\", \"linecolor\": \"white\", \"ticks\": \"\"}, \"baxis\": {\"gridcolor\": \"white\", \"linecolor\": \"white\", \"ticks\": \"\"}, \"bgcolor\": \"#E5ECF6\", \"caxis\": {\"gridcolor\": \"white\", \"linecolor\": \"white\", \"ticks\": \"\"}}, \"title\": {\"x\": 0.05}, \"xaxis\": {\"automargin\": true, \"gridcolor\": \"white\", \"linecolor\": \"white\", \"ticks\": \"\", \"title\": {\"standoff\": 15}, \"zerolinecolor\": \"white\", \"zerolinewidth\": 2}, \"yaxis\": {\"automargin\": true, \"gridcolor\": \"white\", \"linecolor\": \"white\", \"ticks\": \"\", \"title\": {\"standoff\": 15}, \"zerolinecolor\": \"white\", \"zerolinewidth\": 2}}}},\n",
              "                        {\"responsive\": true}\n",
              "                    ).then(function(){\n",
              "                            \n",
              "var gd = document.getElementById('2798bebd-0165-472c-ac06-5fbcb92b01f3');\n",
              "var x = new MutationObserver(function (mutations, observer) {{\n",
              "        var display = window.getComputedStyle(gd).display;\n",
              "        if (!display || display === 'none') {{\n",
              "            console.log([gd, 'removed!']);\n",
              "            Plotly.purge(gd);\n",
              "            observer.disconnect();\n",
              "        }}\n",
              "}});\n",
              "\n",
              "// Listen for the removal of the full notebook cells\n",
              "var notebookContainer = gd.closest('#notebook-container');\n",
              "if (notebookContainer) {{\n",
              "    x.observe(notebookContainer, {childList: true});\n",
              "}}\n",
              "\n",
              "// Listen for the clearing of the current output cell\n",
              "var outputEl = gd.closest('.output');\n",
              "if (outputEl) {{\n",
              "    x.observe(outputEl, {childList: true});\n",
              "}}\n",
              "\n",
              "                        })\n",
              "                };\n",
              "                \n",
              "            </script>\n",
              "        </div>\n",
              "</body>\n",
              "</html>"
            ]
          },
          "metadata": {}
        }
      ]
    },
    {
      "cell_type": "code",
      "metadata": {
        "colab": {
          "base_uri": "https://localhost:8080/"
        },
        "id": "5jRkFzULYI1v",
        "outputId": "dc3a97f0-27e1-46fd-a76c-6512b0742262"
      },
      "source": [
        "#Segementação em  input e target e validação do shape\n",
        "X = df.drop(axis=1, columns=['Personal Loan'])\n",
        "y = df[['Personal Loan']]\n",
        "print('Shape do dados','\\n','x = ',X.shape,'\\n','Y = ',y.shape)"
      ],
      "execution_count": 51,
      "outputs": [
        {
          "output_type": "stream",
          "name": "stdout",
          "text": [
            "Shape do dados \n",
            " x =  (4948, 11) \n",
            " Y =  (4948, 1)\n"
          ]
        }
      ]
    },
    {
      "cell_type": "code",
      "metadata": {
        "id": "6mKr3t6cYeZQ"
      },
      "source": [
        "from sklearn.model_selection import train_test_split\n",
        "X_train, X_test, y_train, y_test = train_test_split(X, y, test_size=0.3, random_state=7)"
      ],
      "execution_count": 52,
      "outputs": []
    },
    {
      "cell_type": "code",
      "metadata": {
        "colab": {
          "base_uri": "https://localhost:8080/"
        },
        "id": "ZftkFsNMeGxC",
        "outputId": "4bf4a61e-7d8f-4238-fabc-d8e5cf6b1e07"
      },
      "source": [
        "print('Shape do dados','\\n','x = ',X_test.shape,'\\n','Y = ',y_test.shape)"
      ],
      "execution_count": 53,
      "outputs": [
        {
          "output_type": "stream",
          "name": "stdout",
          "text": [
            "Shape do dados \n",
            " x =  (1485, 11) \n",
            " Y =  (1485, 1)\n"
          ]
        }
      ]
    },
    {
      "cell_type": "markdown",
      "metadata": {
        "id": "UkvF4EdAQ_20"
      },
      "source": [
        "## Treinando o modelo"
      ]
    },
    {
      "cell_type": "code",
      "metadata": {
        "colab": {
          "base_uri": "https://localhost:8080/"
        },
        "id": "ES6w1_peddd_",
        "outputId": "92ce4542-e2e4-4599-d6fa-ec3087dd5fc7"
      },
      "source": [
        "\n",
        "from sklearn.neighbors import KNeighborsClassifier\n",
        "\n",
        "K_neighbors = 3\n",
        "\n",
        "clf = KNeighborsClassifier(n_neighbors=K_neighbors)\n",
        "clf.fit(X_train, y_train)"
      ],
      "execution_count": 54,
      "outputs": [
        {
          "output_type": "stream",
          "name": "stderr",
          "text": [
            "/usr/local/lib/python3.7/dist-packages/ipykernel_launcher.py:7: DataConversionWarning:\n",
            "\n",
            "A column-vector y was passed when a 1d array was expected. Please change the shape of y to (n_samples, ), for example using ravel().\n",
            "\n"
          ]
        },
        {
          "output_type": "execute_result",
          "data": {
            "text/plain": [
              "KNeighborsClassifier(algorithm='auto', leaf_size=30, metric='minkowski',\n",
              "                     metric_params=None, n_jobs=None, n_neighbors=3, p=2,\n",
              "                     weights='uniform')"
            ]
          },
          "metadata": {},
          "execution_count": 54
        }
      ]
    },
    {
      "cell_type": "code",
      "metadata": {
        "colab": {
          "base_uri": "https://localhost:8080/"
        },
        "id": "chUFM237dz7s",
        "outputId": "34e961ae-14cf-42a1-f195-0d3023b2d014"
      },
      "source": [
        "y_pred = clf.predict(X_test)\n",
        "y_pred"
      ],
      "execution_count": 55,
      "outputs": [
        {
          "output_type": "execute_result",
          "data": {
            "text/plain": [
              "array([0, 0, 0, ..., 0, 0, 0])"
            ]
          },
          "metadata": {},
          "execution_count": 55
        }
      ]
    },
    {
      "cell_type": "markdown",
      "metadata": {
        "id": "f8JgssJbRJ6C"
      },
      "source": [
        "## Avaliando métricas"
      ]
    },
    {
      "cell_type": "code",
      "metadata": {
        "colab": {
          "base_uri": "https://localhost:8080/"
        },
        "id": "xJ3dNbM1RPNV",
        "outputId": "3c497c9b-86f9-41a1-ff8f-187dd4b503ae"
      },
      "source": [
        "from sklearn.metrics import accuracy_score\n",
        "\n",
        "accuracy_score(y_test,y_pred)*100"
      ],
      "execution_count": 56,
      "outputs": [
        {
          "output_type": "execute_result",
          "data": {
            "text/plain": [
              "90.30303030303031"
            ]
          },
          "metadata": {},
          "execution_count": 56
        }
      ]
    },
    {
      "cell_type": "markdown",
      "metadata": {
        "id": "_9j3ObCwRze_"
      },
      "source": [
        "## Otimizando modelo"
      ]
    },
    {
      "cell_type": "code",
      "metadata": {
        "id": "vLnCMLTzR1rn"
      },
      "source": [
        "score_list = []\n",
        "K_neighbors = range(2,30)\n",
        "\n",
        "for k in K_neighbors:\n",
        "  knn = KNeighborsClassifier(n_neighbors=k)\n",
        "  knn.fit(X_train, y_train)\n",
        "  y_pred = knn.predict(X_test)\n",
        "  score_list.append(accuracy_score(y_test,y_pred)*100)"
      ],
      "execution_count": null,
      "outputs": []
    },
    {
      "cell_type": "code",
      "metadata": {
        "colab": {
          "base_uri": "https://localhost:8080/",
          "height": 298
        },
        "id": "sS7Lt8LGSvG2",
        "outputId": "b5a87d93-3e3f-4935-b4fb-1d39bea18664"
      },
      "source": [
        "%matplotlib inline\n",
        "import matplotlib.pyplot as plt\n",
        "\n",
        "plt.plot(K_neighbors,score_list)\n",
        "plt.xlabel('Valor de K')\n",
        "plt.ylabel('Acurácia')"
      ],
      "execution_count": 58,
      "outputs": [
        {
          "output_type": "execute_result",
          "data": {
            "text/plain": [
              "Text(0, 0.5, 'Acurácia')"
            ]
          },
          "metadata": {},
          "execution_count": 58
        },
        {
          "output_type": "display_data",
          "data": {
            "image/png": "[encoded data removed]",
            "text/plain": [
              "<Figure size 432x288 with 1 Axes>"
            ]
          },
          "metadata": {
            "needs_background": "light"
          }
        }
      ]
    },
    {
      "cell_type": "markdown",
      "metadata": {
        "id": "dR00Uk2uTj8C"
      },
      "source": [
        "## Reavaliando modelo otimizado"
      ]
    },
    {
      "cell_type": "code",
      "metadata": {
        "colab": {
          "base_uri": "https://localhost:8080/"
        },
        "id": "eMtKoAfDTnVE",
        "outputId": "9ce240f0-1af4-4d29-ef82-c207992461a6"
      },
      "source": [
        "K_neighbors = 25\n",
        "\n",
        "otm = KNeighborsClassifier(n_neighbors=K_neighbors)\n",
        "otm.fit(X_train, y_train)\n",
        "y_pred = otm.predict(X_test)\n",
        "accuracy_score(y_test,y_pred)*100"
      ],
      "execution_count": 59,
      "outputs": [
        {
          "output_type": "stream",
          "name": "stderr",
          "text": [
            "/usr/local/lib/python3.7/dist-packages/ipykernel_launcher.py:4: DataConversionWarning:\n",
            "\n",
            "A column-vector y was passed when a 1d array was expected. Please change the shape of y to (n_samples, ), for example using ravel().\n",
            "\n"
          ]
        },
        {
          "output_type": "execute_result",
          "data": {
            "text/plain": [
              "90.5050505050505"
            ]
          },
          "metadata": {},
          "execution_count": 59
        }
      ]
    }
  ]
}